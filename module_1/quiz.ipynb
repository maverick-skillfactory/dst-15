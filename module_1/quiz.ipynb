{
 "cells": [
  {
   "cell_type": "code",
   "execution_count": 1,
   "metadata": {
    "_cell_guid": "b1076dfc-b9ad-4769-8c92-a6c4dae69d19",
    "_uuid": "8f2839f25d086af736a60e9eeb907d3b93b6e0e5"
   },
   "outputs": [
    {
     "name": "stdout",
     "output_type": "stream",
     "text": [
      "['quiz.ipynb', 'data.csv']\n"
     ]
    }
   ],
   "source": [
    "import pandas as pd\n",
    "import os\n",
    "from IPython.core.display import display\n",
    "from datetime import datetime\n",
    "\n",
    "print(os.listdir(\".\"))"
   ]
  },
  {
   "cell_type": "code",
   "execution_count": 2,
   "metadata": {},
   "outputs": [],
   "source": [
    "data = pd.read_csv('data.csv')"
   ]
  },
  {
   "cell_type": "code",
   "execution_count": 3,
   "metadata": {},
   "outputs": [
    {
     "data": {
      "text/html": [
       "<div>\n",
       "<style scoped>\n",
       "    .dataframe tbody tr th:only-of-type {\n",
       "        vertical-align: middle;\n",
       "    }\n",
       "\n",
       "    .dataframe tbody tr th {\n",
       "        vertical-align: top;\n",
       "    }\n",
       "\n",
       "    .dataframe thead th {\n",
       "        text-align: right;\n",
       "    }\n",
       "</style>\n",
       "<table border=\"1\" class=\"dataframe\">\n",
       "  <thead>\n",
       "    <tr style=\"text-align: right;\">\n",
       "      <th></th>\n",
       "      <th>imdb_id</th>\n",
       "      <th>popularity</th>\n",
       "      <th>budget</th>\n",
       "      <th>revenue</th>\n",
       "      <th>original_title</th>\n",
       "      <th>cast</th>\n",
       "      <th>director</th>\n",
       "      <th>tagline</th>\n",
       "      <th>overview</th>\n",
       "      <th>runtime</th>\n",
       "      <th>...</th>\n",
       "      <th>release_datetime</th>\n",
       "      <th>release_month</th>\n",
       "      <th>actors</th>\n",
       "      <th>directors</th>\n",
       "      <th>genres_list</th>\n",
       "      <th>production_companies_list</th>\n",
       "      <th>gross_profit</th>\n",
       "      <th>gross_profit_by_director</th>\n",
       "      <th>gross_profit_by_actor</th>\n",
       "      <th>gross_profit_by_production_company</th>\n",
       "    </tr>\n",
       "  </thead>\n",
       "  <tbody>\n",
       "    <tr>\n",
       "      <th>0</th>\n",
       "      <td>tt0369610</td>\n",
       "      <td>32.985763</td>\n",
       "      <td>150000000</td>\n",
       "      <td>1513528810</td>\n",
       "      <td>Jurassic World</td>\n",
       "      <td>Chris Pratt|Bryce Dallas Howard|Irrfan Khan|Vi...</td>\n",
       "      <td>Colin Trevorrow</td>\n",
       "      <td>The park is open.</td>\n",
       "      <td>Twenty-two years after the events of Jurassic ...</td>\n",
       "      <td>124</td>\n",
       "      <td>...</td>\n",
       "      <td>2015-06-09</td>\n",
       "      <td>6</td>\n",
       "      <td>[Chris Pratt, Bryce Dallas Howard, Irrfan Khan...</td>\n",
       "      <td>[Colin Trevorrow]</td>\n",
       "      <td>[Action, Adventure, Science Fiction, Thriller]</td>\n",
       "      <td>[Universal Studios, Amblin Entertainment, Lege...</td>\n",
       "      <td>1363528810</td>\n",
       "      <td>1.363529e+09</td>\n",
       "      <td>272705762.0</td>\n",
       "      <td>2.727058e+08</td>\n",
       "    </tr>\n",
       "    <tr>\n",
       "      <th>1</th>\n",
       "      <td>tt1392190</td>\n",
       "      <td>28.419936</td>\n",
       "      <td>150000000</td>\n",
       "      <td>378436354</td>\n",
       "      <td>Mad Max: Fury Road</td>\n",
       "      <td>Tom Hardy|Charlize Theron|Hugh Keays-Byrne|Nic...</td>\n",
       "      <td>George Miller</td>\n",
       "      <td>What a Lovely Day.</td>\n",
       "      <td>An apocalyptic story set in the furthest reach...</td>\n",
       "      <td>120</td>\n",
       "      <td>...</td>\n",
       "      <td>2015-05-13</td>\n",
       "      <td>5</td>\n",
       "      <td>[Tom Hardy, Charlize Theron, Hugh Keays-Byrne,...</td>\n",
       "      <td>[George Miller]</td>\n",
       "      <td>[Action, Adventure, Science Fiction, Thriller]</td>\n",
       "      <td>[Village Roadshow Pictures, Kennedy Miller Pro...</td>\n",
       "      <td>228436354</td>\n",
       "      <td>2.284364e+08</td>\n",
       "      <td>45687270.8</td>\n",
       "      <td>1.142182e+08</td>\n",
       "    </tr>\n",
       "    <tr>\n",
       "      <th>2</th>\n",
       "      <td>tt2908446</td>\n",
       "      <td>13.112507</td>\n",
       "      <td>110000000</td>\n",
       "      <td>295238201</td>\n",
       "      <td>Insurgent</td>\n",
       "      <td>Shailene Woodley|Theo James|Kate Winslet|Ansel...</td>\n",
       "      <td>Robert Schwentke</td>\n",
       "      <td>One Choice Can Destroy You</td>\n",
       "      <td>Beatrice Prior must confront her inner demons ...</td>\n",
       "      <td>119</td>\n",
       "      <td>...</td>\n",
       "      <td>2015-03-18</td>\n",
       "      <td>3</td>\n",
       "      <td>[Shailene Woodley, Theo James, Kate Winslet, A...</td>\n",
       "      <td>[Robert Schwentke]</td>\n",
       "      <td>[Adventure, Science Fiction, Thriller]</td>\n",
       "      <td>[Summit Entertainment, Mandeville Films, Red W...</td>\n",
       "      <td>185238201</td>\n",
       "      <td>1.852382e+08</td>\n",
       "      <td>37047640.2</td>\n",
       "      <td>4.630955e+07</td>\n",
       "    </tr>\n",
       "    <tr>\n",
       "      <th>3</th>\n",
       "      <td>tt2488496</td>\n",
       "      <td>11.173104</td>\n",
       "      <td>200000000</td>\n",
       "      <td>2068178225</td>\n",
       "      <td>Star Wars: The Force Awakens</td>\n",
       "      <td>Harrison Ford|Mark Hamill|Carrie Fisher|Adam D...</td>\n",
       "      <td>J.J. Abrams</td>\n",
       "      <td>Every generation has a story.</td>\n",
       "      <td>Thirty years after defeating the Galactic Empi...</td>\n",
       "      <td>136</td>\n",
       "      <td>...</td>\n",
       "      <td>2015-12-15</td>\n",
       "      <td>12</td>\n",
       "      <td>[Harrison Ford, Mark Hamill, Carrie Fisher, Ad...</td>\n",
       "      <td>[J.J. Abrams]</td>\n",
       "      <td>[Action, Adventure, Science Fiction, Fantasy]</td>\n",
       "      <td>[Lucasfilm, Truenorth Productions, Bad Robot]</td>\n",
       "      <td>1868178225</td>\n",
       "      <td>1.868178e+09</td>\n",
       "      <td>373635645.0</td>\n",
       "      <td>6.227261e+08</td>\n",
       "    </tr>\n",
       "    <tr>\n",
       "      <th>4</th>\n",
       "      <td>tt2820852</td>\n",
       "      <td>9.335014</td>\n",
       "      <td>190000000</td>\n",
       "      <td>1506249360</td>\n",
       "      <td>Furious 7</td>\n",
       "      <td>Vin Diesel|Paul Walker|Jason Statham|Michelle ...</td>\n",
       "      <td>James Wan</td>\n",
       "      <td>Vengeance Hits Home</td>\n",
       "      <td>Deckard Shaw seeks revenge against Dominic Tor...</td>\n",
       "      <td>137</td>\n",
       "      <td>...</td>\n",
       "      <td>2015-04-01</td>\n",
       "      <td>4</td>\n",
       "      <td>[Vin Diesel, Paul Walker, Jason Statham, Miche...</td>\n",
       "      <td>[James Wan]</td>\n",
       "      <td>[Action, Crime, Thriller]</td>\n",
       "      <td>[Universal Pictures, Original Film, Media Righ...</td>\n",
       "      <td>1316249360</td>\n",
       "      <td>1.316249e+09</td>\n",
       "      <td>263249872.0</td>\n",
       "      <td>2.632499e+08</td>\n",
       "    </tr>\n",
       "    <tr>\n",
       "      <th>...</th>\n",
       "      <td>...</td>\n",
       "      <td>...</td>\n",
       "      <td>...</td>\n",
       "      <td>...</td>\n",
       "      <td>...</td>\n",
       "      <td>...</td>\n",
       "      <td>...</td>\n",
       "      <td>...</td>\n",
       "      <td>...</td>\n",
       "      <td>...</td>\n",
       "      <td>...</td>\n",
       "      <td>...</td>\n",
       "      <td>...</td>\n",
       "      <td>...</td>\n",
       "      <td>...</td>\n",
       "      <td>...</td>\n",
       "      <td>...</td>\n",
       "      <td>...</td>\n",
       "      <td>...</td>\n",
       "      <td>...</td>\n",
       "      <td>...</td>\n",
       "    </tr>\n",
       "    <tr>\n",
       "      <th>1885</th>\n",
       "      <td>tt0120903</td>\n",
       "      <td>0.182246</td>\n",
       "      <td>75000000</td>\n",
       "      <td>157299717</td>\n",
       "      <td>X-Men</td>\n",
       "      <td>Patrick Stewart|Hugh Jackman|Ian McKellen|Hall...</td>\n",
       "      <td>Bryan Singer</td>\n",
       "      <td>Evolution Begins</td>\n",
       "      <td>Two mutants, Rogue and Wolverine, come to a pr...</td>\n",
       "      <td>104</td>\n",
       "      <td>...</td>\n",
       "      <td>2000-07-13</td>\n",
       "      <td>7</td>\n",
       "      <td>[Patrick Stewart, Hugh Jackman, Ian McKellen, ...</td>\n",
       "      <td>[Bryan Singer]</td>\n",
       "      <td>[Adventure, Action, Science Fiction]</td>\n",
       "      <td>[Twentieth Century Fox Film Corporation, Donne...</td>\n",
       "      <td>82299717</td>\n",
       "      <td>8.229972e+07</td>\n",
       "      <td>16459943.4</td>\n",
       "      <td>1.645994e+07</td>\n",
       "    </tr>\n",
       "    <tr>\n",
       "      <th>1886</th>\n",
       "      <td>tt0192255</td>\n",
       "      <td>0.123920</td>\n",
       "      <td>22000000</td>\n",
       "      <td>13555988</td>\n",
       "      <td>The Little Vampire</td>\n",
       "      <td>Richard E. Grant|Jonathan Lipnicki|Jim Carter|...</td>\n",
       "      <td>Uli Edel</td>\n",
       "      <td>They're not just best friends, they're blood b...</td>\n",
       "      <td>Based on the popular books, the story tells of...</td>\n",
       "      <td>95</td>\n",
       "      <td>...</td>\n",
       "      <td>2000-10-27</td>\n",
       "      <td>10</td>\n",
       "      <td>[Richard E. Grant, Jonathan Lipnicki, Jim Cart...</td>\n",
       "      <td>[Uli Edel]</td>\n",
       "      <td>[Horror, Family, Foreign]</td>\n",
       "      <td>[New Line Cinema]</td>\n",
       "      <td>-8444012</td>\n",
       "      <td>-8.444012e+06</td>\n",
       "      <td>-1688802.4</td>\n",
       "      <td>-8.444012e+06</td>\n",
       "    </tr>\n",
       "    <tr>\n",
       "      <th>1887</th>\n",
       "      <td>tt0131704</td>\n",
       "      <td>0.104908</td>\n",
       "      <td>76000000</td>\n",
       "      <td>35134820</td>\n",
       "      <td>The Adventures of Rocky &amp; Bullwinkle</td>\n",
       "      <td>Rene Russo|Jason Alexander|Piper Perabo|Randy ...</td>\n",
       "      <td>Des McAnuff</td>\n",
       "      <td>This summer it's not the same old bull.</td>\n",
       "      <td>Rocky and Bullwinkle have been living off the ...</td>\n",
       "      <td>88</td>\n",
       "      <td>...</td>\n",
       "      <td>2000-06-30</td>\n",
       "      <td>6</td>\n",
       "      <td>[Rene Russo, Jason Alexander, Piper Perabo, Ra...</td>\n",
       "      <td>[Des McAnuff]</td>\n",
       "      <td>[Adventure, Animation, Action, Comedy, Family]</td>\n",
       "      <td>[Universal Pictures, Capella International, KC...</td>\n",
       "      <td>-40865180</td>\n",
       "      <td>-4.086518e+07</td>\n",
       "      <td>-8173036.0</td>\n",
       "      <td>-1.021630e+07</td>\n",
       "    </tr>\n",
       "    <tr>\n",
       "      <th>1888</th>\n",
       "      <td>tt0162983</td>\n",
       "      <td>0.031018</td>\n",
       "      <td>40000000</td>\n",
       "      <td>36037909</td>\n",
       "      <td>Hanging Up</td>\n",
       "      <td>Meg Ryan|Diane Keaton|Lisa Kudrow|Walter Matth...</td>\n",
       "      <td>Diane Keaton</td>\n",
       "      <td>Every family has a few hang-ups.</td>\n",
       "      <td>A trio of sisters bond over their ambivalence ...</td>\n",
       "      <td>94</td>\n",
       "      <td>...</td>\n",
       "      <td>2000-02-16</td>\n",
       "      <td>2</td>\n",
       "      <td>[Meg Ryan, Diane Keaton, Lisa Kudrow, Walter M...</td>\n",
       "      <td>[Diane Keaton]</td>\n",
       "      <td>[Comedy, Drama]</td>\n",
       "      <td>[Laurence Mark Productions, Columbia Pictures ...</td>\n",
       "      <td>-3962091</td>\n",
       "      <td>-3.962091e+06</td>\n",
       "      <td>-792418.2</td>\n",
       "      <td>-9.905228e+05</td>\n",
       "    </tr>\n",
       "    <tr>\n",
       "      <th>1889</th>\n",
       "      <td>tt0163676</td>\n",
       "      <td>0.015997</td>\n",
       "      <td>15000000</td>\n",
       "      <td>5217498</td>\n",
       "      <td>The In Crowd</td>\n",
       "      <td>Susan Ward|Lori Heuring|Matthew Settle|Nathan ...</td>\n",
       "      <td>Mary Lambert</td>\n",
       "      <td>What would you do to get in?</td>\n",
       "      <td>A mentally disturbed young woman takes a job a...</td>\n",
       "      <td>105</td>\n",
       "      <td>...</td>\n",
       "      <td>2000-07-19</td>\n",
       "      <td>7</td>\n",
       "      <td>[Susan Ward, Lori Heuring, Matthew Settle, Nat...</td>\n",
       "      <td>[Mary Lambert]</td>\n",
       "      <td>[Thriller]</td>\n",
       "      <td>[Warner Bros. Pictures]</td>\n",
       "      <td>-9782502</td>\n",
       "      <td>-9.782502e+06</td>\n",
       "      <td>-1956500.4</td>\n",
       "      <td>-9.782502e+06</td>\n",
       "    </tr>\n",
       "  </tbody>\n",
       "</table>\n",
       "<p>1890 rows × 26 columns</p>\n",
       "</div>"
      ],
      "text/plain": [
       "        imdb_id  popularity     budget     revenue  \\\n",
       "0     tt0369610   32.985763  150000000  1513528810   \n",
       "1     tt1392190   28.419936  150000000   378436354   \n",
       "2     tt2908446   13.112507  110000000   295238201   \n",
       "3     tt2488496   11.173104  200000000  2068178225   \n",
       "4     tt2820852    9.335014  190000000  1506249360   \n",
       "...         ...         ...        ...         ...   \n",
       "1885  tt0120903    0.182246   75000000   157299717   \n",
       "1886  tt0192255    0.123920   22000000    13555988   \n",
       "1887  tt0131704    0.104908   76000000    35134820   \n",
       "1888  tt0162983    0.031018   40000000    36037909   \n",
       "1889  tt0163676    0.015997   15000000     5217498   \n",
       "\n",
       "                            original_title  \\\n",
       "0                           Jurassic World   \n",
       "1                       Mad Max: Fury Road   \n",
       "2                                Insurgent   \n",
       "3             Star Wars: The Force Awakens   \n",
       "4                                Furious 7   \n",
       "...                                    ...   \n",
       "1885                                 X-Men   \n",
       "1886                    The Little Vampire   \n",
       "1887  The Adventures of Rocky & Bullwinkle   \n",
       "1888                            Hanging Up   \n",
       "1889                          The In Crowd   \n",
       "\n",
       "                                                   cast          director  \\\n",
       "0     Chris Pratt|Bryce Dallas Howard|Irrfan Khan|Vi...   Colin Trevorrow   \n",
       "1     Tom Hardy|Charlize Theron|Hugh Keays-Byrne|Nic...     George Miller   \n",
       "2     Shailene Woodley|Theo James|Kate Winslet|Ansel...  Robert Schwentke   \n",
       "3     Harrison Ford|Mark Hamill|Carrie Fisher|Adam D...       J.J. Abrams   \n",
       "4     Vin Diesel|Paul Walker|Jason Statham|Michelle ...         James Wan   \n",
       "...                                                 ...               ...   \n",
       "1885  Patrick Stewart|Hugh Jackman|Ian McKellen|Hall...      Bryan Singer   \n",
       "1886  Richard E. Grant|Jonathan Lipnicki|Jim Carter|...          Uli Edel   \n",
       "1887  Rene Russo|Jason Alexander|Piper Perabo|Randy ...       Des McAnuff   \n",
       "1888  Meg Ryan|Diane Keaton|Lisa Kudrow|Walter Matth...      Diane Keaton   \n",
       "1889  Susan Ward|Lori Heuring|Matthew Settle|Nathan ...      Mary Lambert   \n",
       "\n",
       "                                                tagline  \\\n",
       "0                                     The park is open.   \n",
       "1                                    What a Lovely Day.   \n",
       "2                            One Choice Can Destroy You   \n",
       "3                         Every generation has a story.   \n",
       "4                                   Vengeance Hits Home   \n",
       "...                                                 ...   \n",
       "1885                                   Evolution Begins   \n",
       "1886  They're not just best friends, they're blood b...   \n",
       "1887            This summer it's not the same old bull.   \n",
       "1888                   Every family has a few hang-ups.   \n",
       "1889                       What would you do to get in?   \n",
       "\n",
       "                                               overview  runtime  ...  \\\n",
       "0     Twenty-two years after the events of Jurassic ...      124  ...   \n",
       "1     An apocalyptic story set in the furthest reach...      120  ...   \n",
       "2     Beatrice Prior must confront her inner demons ...      119  ...   \n",
       "3     Thirty years after defeating the Galactic Empi...      136  ...   \n",
       "4     Deckard Shaw seeks revenge against Dominic Tor...      137  ...   \n",
       "...                                                 ...      ...  ...   \n",
       "1885  Two mutants, Rogue and Wolverine, come to a pr...      104  ...   \n",
       "1886  Based on the popular books, the story tells of...       95  ...   \n",
       "1887  Rocky and Bullwinkle have been living off the ...       88  ...   \n",
       "1888  A trio of sisters bond over their ambivalence ...       94  ...   \n",
       "1889  A mentally disturbed young woman takes a job a...      105  ...   \n",
       "\n",
       "     release_datetime release_month  \\\n",
       "0          2015-06-09             6   \n",
       "1          2015-05-13             5   \n",
       "2          2015-03-18             3   \n",
       "3          2015-12-15            12   \n",
       "4          2015-04-01             4   \n",
       "...               ...           ...   \n",
       "1885       2000-07-13             7   \n",
       "1886       2000-10-27            10   \n",
       "1887       2000-06-30             6   \n",
       "1888       2000-02-16             2   \n",
       "1889       2000-07-19             7   \n",
       "\n",
       "                                                 actors           directors  \\\n",
       "0     [Chris Pratt, Bryce Dallas Howard, Irrfan Khan...   [Colin Trevorrow]   \n",
       "1     [Tom Hardy, Charlize Theron, Hugh Keays-Byrne,...     [George Miller]   \n",
       "2     [Shailene Woodley, Theo James, Kate Winslet, A...  [Robert Schwentke]   \n",
       "3     [Harrison Ford, Mark Hamill, Carrie Fisher, Ad...       [J.J. Abrams]   \n",
       "4     [Vin Diesel, Paul Walker, Jason Statham, Miche...         [James Wan]   \n",
       "...                                                 ...                 ...   \n",
       "1885  [Patrick Stewart, Hugh Jackman, Ian McKellen, ...      [Bryan Singer]   \n",
       "1886  [Richard E. Grant, Jonathan Lipnicki, Jim Cart...          [Uli Edel]   \n",
       "1887  [Rene Russo, Jason Alexander, Piper Perabo, Ra...       [Des McAnuff]   \n",
       "1888  [Meg Ryan, Diane Keaton, Lisa Kudrow, Walter M...      [Diane Keaton]   \n",
       "1889  [Susan Ward, Lori Heuring, Matthew Settle, Nat...      [Mary Lambert]   \n",
       "\n",
       "                                         genres_list  \\\n",
       "0     [Action, Adventure, Science Fiction, Thriller]   \n",
       "1     [Action, Adventure, Science Fiction, Thriller]   \n",
       "2             [Adventure, Science Fiction, Thriller]   \n",
       "3      [Action, Adventure, Science Fiction, Fantasy]   \n",
       "4                          [Action, Crime, Thriller]   \n",
       "...                                              ...   \n",
       "1885            [Adventure, Action, Science Fiction]   \n",
       "1886                       [Horror, Family, Foreign]   \n",
       "1887  [Adventure, Animation, Action, Comedy, Family]   \n",
       "1888                                 [Comedy, Drama]   \n",
       "1889                                      [Thriller]   \n",
       "\n",
       "                              production_companies_list gross_profit  \\\n",
       "0     [Universal Studios, Amblin Entertainment, Lege...   1363528810   \n",
       "1     [Village Roadshow Pictures, Kennedy Miller Pro...    228436354   \n",
       "2     [Summit Entertainment, Mandeville Films, Red W...    185238201   \n",
       "3         [Lucasfilm, Truenorth Productions, Bad Robot]   1868178225   \n",
       "4     [Universal Pictures, Original Film, Media Righ...   1316249360   \n",
       "...                                                 ...          ...   \n",
       "1885  [Twentieth Century Fox Film Corporation, Donne...     82299717   \n",
       "1886                                  [New Line Cinema]     -8444012   \n",
       "1887  [Universal Pictures, Capella International, KC...    -40865180   \n",
       "1888  [Laurence Mark Productions, Columbia Pictures ...     -3962091   \n",
       "1889                            [Warner Bros. Pictures]     -9782502   \n",
       "\n",
       "      gross_profit_by_director gross_profit_by_actor  \\\n",
       "0                 1.363529e+09           272705762.0   \n",
       "1                 2.284364e+08            45687270.8   \n",
       "2                 1.852382e+08            37047640.2   \n",
       "3                 1.868178e+09           373635645.0   \n",
       "4                 1.316249e+09           263249872.0   \n",
       "...                        ...                   ...   \n",
       "1885              8.229972e+07            16459943.4   \n",
       "1886             -8.444012e+06            -1688802.4   \n",
       "1887             -4.086518e+07            -8173036.0   \n",
       "1888             -3.962091e+06             -792418.2   \n",
       "1889             -9.782502e+06            -1956500.4   \n",
       "\n",
       "     gross_profit_by_production_company  \n",
       "0                          2.727058e+08  \n",
       "1                          1.142182e+08  \n",
       "2                          4.630955e+07  \n",
       "3                          6.227261e+08  \n",
       "4                          2.632499e+08  \n",
       "...                                 ...  \n",
       "1885                       1.645994e+07  \n",
       "1886                      -8.444012e+06  \n",
       "1887                      -1.021630e+07  \n",
       "1888                      -9.905228e+05  \n",
       "1889                      -9.782502e+06  \n",
       "\n",
       "[1890 rows x 26 columns]"
      ]
     },
     "metadata": {},
     "output_type": "display_data"
    }
   ],
   "source": [
    "# Предобработка датасета\n",
    "\n",
    "# Дата выхода на экраны\n",
    "data['release_datetime'] = data['release_date'].apply(lambda v: datetime.strptime(v, '%m/%d/%Y'))\n",
    "\n",
    "# Месяц выхода на экраны\n",
    "data['release_month'] = data['release_datetime'].apply(lambda d: d.month)\n",
    "\n",
    "def split(source):\n",
    "    return [e.strip() for e in source.split(sep='|')]\n",
    "\n",
    "# Список актёров\n",
    "data['actors'] = data['cast'].apply(split)\n",
    "\n",
    "# Cписок режисёров\n",
    "data['directors'] = data['director'].apply(split)\n",
    "\n",
    "# Список жанров\n",
    "data['genres_list'] = data['genres'].apply(split)\n",
    "\n",
    "# Список компаний\n",
    "data['production_companies_list'] = data['production_companies'].apply(split)\n",
    "\n",
    "# Прибыль\n",
    "data['gross_profit'] = data['revenue'] - data['budget']\n",
    "\n",
    "# Прибыль на каждого режисёра\n",
    "data['gross_profit_by_director'] = data['gross_profit'] / data['directors'].apply(len)\n",
    "\n",
    "# Прибыль на каждого режисёра\n",
    "data['gross_profit_by_actor'] = data['gross_profit'] / data['actors'].apply(len)\n",
    "\n",
    "# Прибыль на компанию\n",
    "data['gross_profit_by_production_company'] = data['gross_profit'] / data['production_companies_list'].apply(len)\n",
    "\n",
    "display(data)"
   ]
  },
  {
   "cell_type": "code",
   "execution_count": 4,
   "metadata": {},
   "outputs": [],
   "source": [
    "answer_ls = [] # создадим список с ответами. сюда будем добавлять ответы по мере прохождения теста"
   ]
  },
  {
   "cell_type": "markdown",
   "metadata": {},
   "source": [
    "# 1. У какого фильма из списка самый большой бюджет?\n",
    "Варианты ответов:\n",
    "1. The Dark Knight Rises (tt1345836)\n",
    "2. Spider-Man 3 (tt0413300)\n",
    "3. Avengers: Age of Ultron (tt2395427)\n",
    "4. The Warrior's Way\t(tt1032751)\n",
    "5. Pirates of the Caribbean: On Stranger Tides (tt1298650)"
   ]
  },
  {
   "cell_type": "code",
   "execution_count": 5,
   "metadata": {},
   "outputs": [
    {
     "data": {
      "text/html": [
       "<div>\n",
       "<style scoped>\n",
       "    .dataframe tbody tr th:only-of-type {\n",
       "        vertical-align: middle;\n",
       "    }\n",
       "\n",
       "    .dataframe tbody tr th {\n",
       "        vertical-align: top;\n",
       "    }\n",
       "\n",
       "    .dataframe thead th {\n",
       "        text-align: right;\n",
       "    }\n",
       "</style>\n",
       "<table border=\"1\" class=\"dataframe\">\n",
       "  <thead>\n",
       "    <tr style=\"text-align: right;\">\n",
       "      <th></th>\n",
       "      <th>imdb_id</th>\n",
       "      <th>popularity</th>\n",
       "      <th>budget</th>\n",
       "      <th>revenue</th>\n",
       "      <th>original_title</th>\n",
       "      <th>cast</th>\n",
       "      <th>director</th>\n",
       "      <th>tagline</th>\n",
       "      <th>overview</th>\n",
       "      <th>runtime</th>\n",
       "      <th>...</th>\n",
       "      <th>release_datetime</th>\n",
       "      <th>release_month</th>\n",
       "      <th>actors</th>\n",
       "      <th>directors</th>\n",
       "      <th>genres_list</th>\n",
       "      <th>production_companies_list</th>\n",
       "      <th>gross_profit</th>\n",
       "      <th>gross_profit_by_director</th>\n",
       "      <th>gross_profit_by_actor</th>\n",
       "      <th>gross_profit_by_production_company</th>\n",
       "    </tr>\n",
       "  </thead>\n",
       "  <tbody>\n",
       "    <tr>\n",
       "      <th>491</th>\n",
       "      <td>tt1032751</td>\n",
       "      <td>0.25054</td>\n",
       "      <td>425000000</td>\n",
       "      <td>11087569</td>\n",
       "      <td>The Warrior's Way</td>\n",
       "      <td>Kate Bosworth|Jang Dong-gun|Geoffrey Rush|Dann...</td>\n",
       "      <td>Sngmoo Lee</td>\n",
       "      <td>Assassin. Hero. Legend.</td>\n",
       "      <td>An Asian assassin (Dong-gun Jang) is forced to...</td>\n",
       "      <td>100</td>\n",
       "      <td>...</td>\n",
       "      <td>2010-12-02</td>\n",
       "      <td>12</td>\n",
       "      <td>[Kate Bosworth, Jang Dong-gun, Geoffrey Rush, ...</td>\n",
       "      <td>[Sngmoo Lee]</td>\n",
       "      <td>[Adventure, Fantasy, Action, Western, Thriller]</td>\n",
       "      <td>[Boram Entertainment Inc.]</td>\n",
       "      <td>-413912431</td>\n",
       "      <td>-413912431.0</td>\n",
       "      <td>-82782486.2</td>\n",
       "      <td>-413912431.0</td>\n",
       "    </tr>\n",
       "  </tbody>\n",
       "</table>\n",
       "<p>1 rows × 26 columns</p>\n",
       "</div>"
      ],
      "text/plain": [
       "       imdb_id  popularity     budget   revenue     original_title  \\\n",
       "491  tt1032751     0.25054  425000000  11087569  The Warrior's Way   \n",
       "\n",
       "                                                  cast    director  \\\n",
       "491  Kate Bosworth|Jang Dong-gun|Geoffrey Rush|Dann...  Sngmoo Lee   \n",
       "\n",
       "                     tagline  \\\n",
       "491  Assassin. Hero. Legend.   \n",
       "\n",
       "                                              overview  runtime  ...  \\\n",
       "491  An Asian assassin (Dong-gun Jang) is forced to...      100  ...   \n",
       "\n",
       "    release_datetime release_month  \\\n",
       "491       2010-12-02            12   \n",
       "\n",
       "                                                actors     directors  \\\n",
       "491  [Kate Bosworth, Jang Dong-gun, Geoffrey Rush, ...  [Sngmoo Lee]   \n",
       "\n",
       "                                         genres_list  \\\n",
       "491  [Adventure, Fantasy, Action, Western, Thriller]   \n",
       "\n",
       "      production_companies_list gross_profit  gross_profit_by_director  \\\n",
       "491  [Boram Entertainment Inc.]   -413912431              -413912431.0   \n",
       "\n",
       "    gross_profit_by_actor gross_profit_by_production_company  \n",
       "491           -82782486.2                       -413912431.0  \n",
       "\n",
       "[1 rows x 26 columns]"
      ]
     },
     "metadata": {},
     "output_type": "display_data"
    }
   ],
   "source": [
    "display(data.sort_values(by=['budget'], ascending=False).head(1))"
   ]
  },
  {
   "cell_type": "code",
   "execution_count": 6,
   "metadata": {},
   "outputs": [],
   "source": [
    "answer_ls.append(4)"
   ]
  },
  {
   "cell_type": "markdown",
   "metadata": {},
   "source": [
    "# 2. Какой из фильмов самый длительный (в минутах)?\n",
    "1. The Lord of the Rings: The Return of the King\t(tt0167260)\n",
    "2. Gods and Generals\t(tt0279111)\n",
    "3. King Kong\t(tt0360717)\n",
    "4. Pearl Harbor\t(tt0213149)\n",
    "5. Alexander\t(tt0346491)"
   ]
  },
  {
   "cell_type": "code",
   "execution_count": 7,
   "metadata": {},
   "outputs": [
    {
     "data": {
      "text/html": [
       "<div>\n",
       "<style scoped>\n",
       "    .dataframe tbody tr th:only-of-type {\n",
       "        vertical-align: middle;\n",
       "    }\n",
       "\n",
       "    .dataframe tbody tr th {\n",
       "        vertical-align: top;\n",
       "    }\n",
       "\n",
       "    .dataframe thead th {\n",
       "        text-align: right;\n",
       "    }\n",
       "</style>\n",
       "<table border=\"1\" class=\"dataframe\">\n",
       "  <thead>\n",
       "    <tr style=\"text-align: right;\">\n",
       "      <th></th>\n",
       "      <th>imdb_id</th>\n",
       "      <th>popularity</th>\n",
       "      <th>budget</th>\n",
       "      <th>revenue</th>\n",
       "      <th>original_title</th>\n",
       "      <th>cast</th>\n",
       "      <th>director</th>\n",
       "      <th>tagline</th>\n",
       "      <th>overview</th>\n",
       "      <th>runtime</th>\n",
       "      <th>...</th>\n",
       "      <th>release_datetime</th>\n",
       "      <th>release_month</th>\n",
       "      <th>actors</th>\n",
       "      <th>directors</th>\n",
       "      <th>genres_list</th>\n",
       "      <th>production_companies_list</th>\n",
       "      <th>gross_profit</th>\n",
       "      <th>gross_profit_by_director</th>\n",
       "      <th>gross_profit_by_actor</th>\n",
       "      <th>gross_profit_by_production_company</th>\n",
       "    </tr>\n",
       "  </thead>\n",
       "  <tbody>\n",
       "    <tr>\n",
       "      <th>1158</th>\n",
       "      <td>tt0279111</td>\n",
       "      <td>0.469518</td>\n",
       "      <td>56000000</td>\n",
       "      <td>12923936</td>\n",
       "      <td>Gods and Generals</td>\n",
       "      <td>Stephen Lang|Jeff Daniels|Robert Duvall|Kevin ...</td>\n",
       "      <td>Ronald F. Maxwell</td>\n",
       "      <td>The nations heart was touched by...</td>\n",
       "      <td>The film centers mostly around the personal an...</td>\n",
       "      <td>214</td>\n",
       "      <td>...</td>\n",
       "      <td>2003-02-21</td>\n",
       "      <td>2</td>\n",
       "      <td>[Stephen Lang, Jeff Daniels, Robert Duvall, Ke...</td>\n",
       "      <td>[Ronald F. Maxwell]</td>\n",
       "      <td>[Drama, History, War]</td>\n",
       "      <td>[Turner Pictures, Antietam Filmworks]</td>\n",
       "      <td>-43076064</td>\n",
       "      <td>-43076064.0</td>\n",
       "      <td>-8615212.8</td>\n",
       "      <td>-21538032.0</td>\n",
       "    </tr>\n",
       "  </tbody>\n",
       "</table>\n",
       "<p>1 rows × 26 columns</p>\n",
       "</div>"
      ],
      "text/plain": [
       "        imdb_id  popularity    budget   revenue     original_title  \\\n",
       "1158  tt0279111    0.469518  56000000  12923936  Gods and Generals   \n",
       "\n",
       "                                                   cast           director  \\\n",
       "1158  Stephen Lang|Jeff Daniels|Robert Duvall|Kevin ...  Ronald F. Maxwell   \n",
       "\n",
       "                                  tagline  \\\n",
       "1158  The nations heart was touched by...   \n",
       "\n",
       "                                               overview  runtime  ...  \\\n",
       "1158  The film centers mostly around the personal an...      214  ...   \n",
       "\n",
       "     release_datetime release_month  \\\n",
       "1158       2003-02-21             2   \n",
       "\n",
       "                                                 actors            directors  \\\n",
       "1158  [Stephen Lang, Jeff Daniels, Robert Duvall, Ke...  [Ronald F. Maxwell]   \n",
       "\n",
       "                genres_list              production_companies_list  \\\n",
       "1158  [Drama, History, War]  [Turner Pictures, Antietam Filmworks]   \n",
       "\n",
       "     gross_profit  gross_profit_by_director gross_profit_by_actor  \\\n",
       "1158    -43076064               -43076064.0            -8615212.8   \n",
       "\n",
       "     gross_profit_by_production_company  \n",
       "1158                        -21538032.0  \n",
       "\n",
       "[1 rows x 26 columns]"
      ]
     },
     "metadata": {},
     "output_type": "display_data"
    }
   ],
   "source": [
    "display(data.sort_values(by=['runtime'], ascending=False).head(1))"
   ]
  },
  {
   "cell_type": "code",
   "execution_count": 8,
   "metadata": {},
   "outputs": [],
   "source": [
    "answer_ls.append(2)"
   ]
  },
  {
   "cell_type": "markdown",
   "metadata": {},
   "source": [
    "# 3. Какой из фильмов самый короткий (в минутах)?\n",
    "Варианты ответов:\n",
    "\n",
    "1. Home on the Range\ttt0299172\n",
    "2. The Jungle Book 2\ttt0283426\n",
    "3. Winnie the Pooh\ttt1449283\n",
    "4. Corpse Bride\ttt0121164\n",
    "5. Hoodwinked!\ttt0443536"
   ]
  },
  {
   "cell_type": "code",
   "execution_count": 9,
   "metadata": {},
   "outputs": [
    {
     "data": {
      "text/html": [
       "<div>\n",
       "<style scoped>\n",
       "    .dataframe tbody tr th:only-of-type {\n",
       "        vertical-align: middle;\n",
       "    }\n",
       "\n",
       "    .dataframe tbody tr th {\n",
       "        vertical-align: top;\n",
       "    }\n",
       "\n",
       "    .dataframe thead th {\n",
       "        text-align: right;\n",
       "    }\n",
       "</style>\n",
       "<table border=\"1\" class=\"dataframe\">\n",
       "  <thead>\n",
       "    <tr style=\"text-align: right;\">\n",
       "      <th></th>\n",
       "      <th>imdb_id</th>\n",
       "      <th>popularity</th>\n",
       "      <th>budget</th>\n",
       "      <th>revenue</th>\n",
       "      <th>original_title</th>\n",
       "      <th>cast</th>\n",
       "      <th>director</th>\n",
       "      <th>tagline</th>\n",
       "      <th>overview</th>\n",
       "      <th>runtime</th>\n",
       "      <th>...</th>\n",
       "      <th>release_datetime</th>\n",
       "      <th>release_month</th>\n",
       "      <th>actors</th>\n",
       "      <th>directors</th>\n",
       "      <th>genres_list</th>\n",
       "      <th>production_companies_list</th>\n",
       "      <th>gross_profit</th>\n",
       "      <th>gross_profit_by_director</th>\n",
       "      <th>gross_profit_by_actor</th>\n",
       "      <th>gross_profit_by_production_company</th>\n",
       "    </tr>\n",
       "  </thead>\n",
       "  <tbody>\n",
       "    <tr>\n",
       "      <th>769</th>\n",
       "      <td>tt1449283</td>\n",
       "      <td>1.425344</td>\n",
       "      <td>30000000</td>\n",
       "      <td>14460000</td>\n",
       "      <td>Winnie the Pooh</td>\n",
       "      <td>Jim Cummings|Travis Oates|Jim Cummings|Bud Luc...</td>\n",
       "      <td>Stephen Anderson|Don Hall</td>\n",
       "      <td>Oh Pooh.</td>\n",
       "      <td>During an ordinary day in Hundred Acre Wood, W...</td>\n",
       "      <td>63</td>\n",
       "      <td>...</td>\n",
       "      <td>2011-04-13</td>\n",
       "      <td>4</td>\n",
       "      <td>[Jim Cummings, Travis Oates, Jim Cummings, Bud...</td>\n",
       "      <td>[Stephen Anderson, Don Hall]</td>\n",
       "      <td>[Animation, Family]</td>\n",
       "      <td>[Walt Disney Pictures, Walt Disney Animation S...</td>\n",
       "      <td>-15540000</td>\n",
       "      <td>-7770000.0</td>\n",
       "      <td>-3108000.0</td>\n",
       "      <td>-7770000.0</td>\n",
       "    </tr>\n",
       "  </tbody>\n",
       "</table>\n",
       "<p>1 rows × 26 columns</p>\n",
       "</div>"
      ],
      "text/plain": [
       "       imdb_id  popularity    budget   revenue   original_title  \\\n",
       "769  tt1449283    1.425344  30000000  14460000  Winnie the Pooh   \n",
       "\n",
       "                                                  cast  \\\n",
       "769  Jim Cummings|Travis Oates|Jim Cummings|Bud Luc...   \n",
       "\n",
       "                      director   tagline  \\\n",
       "769  Stephen Anderson|Don Hall  Oh Pooh.   \n",
       "\n",
       "                                              overview  runtime  ...  \\\n",
       "769  During an ordinary day in Hundred Acre Wood, W...       63  ...   \n",
       "\n",
       "    release_datetime release_month  \\\n",
       "769       2011-04-13             4   \n",
       "\n",
       "                                                actors  \\\n",
       "769  [Jim Cummings, Travis Oates, Jim Cummings, Bud...   \n",
       "\n",
       "                        directors          genres_list  \\\n",
       "769  [Stephen Anderson, Don Hall]  [Animation, Family]   \n",
       "\n",
       "                             production_companies_list gross_profit  \\\n",
       "769  [Walt Disney Pictures, Walt Disney Animation S...    -15540000   \n",
       "\n",
       "     gross_profit_by_director gross_profit_by_actor  \\\n",
       "769                -7770000.0            -3108000.0   \n",
       "\n",
       "    gross_profit_by_production_company  \n",
       "769                         -7770000.0  \n",
       "\n",
       "[1 rows x 26 columns]"
      ]
     },
     "metadata": {},
     "output_type": "display_data"
    }
   ],
   "source": [
    "display(data.sort_values(by=['runtime'], ascending=True).head(1))"
   ]
  },
  {
   "cell_type": "code",
   "execution_count": 10,
   "metadata": {},
   "outputs": [],
   "source": [
    "answer_ls.append(3)"
   ]
  },
  {
   "cell_type": "markdown",
   "metadata": {},
   "source": [
    "# 4. Какое число ближе к средней длительности фильма в датасете?\n",
    "Варианты ответов:\n",
    "1. 115\n",
    "2. 110\n",
    "3. 105\n",
    "4. 120\n",
    "5. 100"
   ]
  },
  {
   "cell_type": "code",
   "execution_count": 11,
   "metadata": {},
   "outputs": [
    {
     "name": "stdout",
     "output_type": "stream",
     "text": [
      "110\n"
     ]
    }
   ],
   "source": [
    "print(round(data['runtime'].mean()))"
   ]
  },
  {
   "cell_type": "code",
   "execution_count": 12,
   "metadata": {},
   "outputs": [],
   "source": [
    "answer_ls.append(2)"
   ]
  },
  {
   "cell_type": "markdown",
   "metadata": {},
   "source": [
    "# 5. Какое число ближе к медианной длительности фильма в датасете?\n",
    "Варианты ответов:\n",
    "1. 106\n",
    "2. 112\n",
    "3. 101\n",
    "4. 120\n",
    "5. 115\n"
   ]
  },
  {
   "cell_type": "code",
   "execution_count": 13,
   "metadata": {},
   "outputs": [
    {
     "name": "stdout",
     "output_type": "stream",
     "text": [
      "106\n"
     ]
    }
   ],
   "source": [
    "print(round(data['runtime'].median()))"
   ]
  },
  {
   "cell_type": "code",
   "execution_count": 14,
   "metadata": {},
   "outputs": [],
   "source": [
    "answer_ls.append(1)"
   ]
  },
  {
   "cell_type": "markdown",
   "metadata": {},
   "source": [
    "# 6. Какой самый прибыльный фильм?\n",
    "> Внимание! Здесь и далее под «прибылью» или «убытками» понимается разность между сборами и бюджетом фильма.\n",
    "Варианты ответов:\n",
    "1. The Avengers\ttt0848228\n",
    "2. Minions\ttt2293640\n",
    "3. Star Wars: The Force Awakens\ttt2488496\n",
    "4. Furious 7\ttt2820852\n",
    "5. Avatar\ttt0499549"
   ]
  },
  {
   "cell_type": "code",
   "execution_count": 15,
   "metadata": {},
   "outputs": [
    {
     "data": {
      "text/html": [
       "<div>\n",
       "<style scoped>\n",
       "    .dataframe tbody tr th:only-of-type {\n",
       "        vertical-align: middle;\n",
       "    }\n",
       "\n",
       "    .dataframe tbody tr th {\n",
       "        vertical-align: top;\n",
       "    }\n",
       "\n",
       "    .dataframe thead th {\n",
       "        text-align: right;\n",
       "    }\n",
       "</style>\n",
       "<table border=\"1\" class=\"dataframe\">\n",
       "  <thead>\n",
       "    <tr style=\"text-align: right;\">\n",
       "      <th></th>\n",
       "      <th>imdb_id</th>\n",
       "      <th>popularity</th>\n",
       "      <th>budget</th>\n",
       "      <th>revenue</th>\n",
       "      <th>original_title</th>\n",
       "      <th>cast</th>\n",
       "      <th>director</th>\n",
       "      <th>tagline</th>\n",
       "      <th>overview</th>\n",
       "      <th>runtime</th>\n",
       "      <th>...</th>\n",
       "      <th>release_datetime</th>\n",
       "      <th>release_month</th>\n",
       "      <th>actors</th>\n",
       "      <th>directors</th>\n",
       "      <th>genres_list</th>\n",
       "      <th>production_companies_list</th>\n",
       "      <th>gross_profit</th>\n",
       "      <th>gross_profit_by_director</th>\n",
       "      <th>gross_profit_by_actor</th>\n",
       "      <th>gross_profit_by_production_company</th>\n",
       "    </tr>\n",
       "  </thead>\n",
       "  <tbody>\n",
       "    <tr>\n",
       "      <th>239</th>\n",
       "      <td>tt0499549</td>\n",
       "      <td>9.432768</td>\n",
       "      <td>237000000</td>\n",
       "      <td>2781505847</td>\n",
       "      <td>Avatar</td>\n",
       "      <td>Sam Worthington|Zoe Saldana|Sigourney Weaver|S...</td>\n",
       "      <td>James Cameron</td>\n",
       "      <td>Enter the World of Pandora.</td>\n",
       "      <td>In the 22nd century, a paraplegic Marine is di...</td>\n",
       "      <td>162</td>\n",
       "      <td>...</td>\n",
       "      <td>2009-12-10</td>\n",
       "      <td>12</td>\n",
       "      <td>[Sam Worthington, Zoe Saldana, Sigourney Weave...</td>\n",
       "      <td>[James Cameron]</td>\n",
       "      <td>[Action, Adventure, Fantasy, Science Fiction]</td>\n",
       "      <td>[Ingenious Film Partners, Twentieth Century Fo...</td>\n",
       "      <td>2544505847</td>\n",
       "      <td>2.544506e+09</td>\n",
       "      <td>508901169.4</td>\n",
       "      <td>6.361265e+08</td>\n",
       "    </tr>\n",
       "  </tbody>\n",
       "</table>\n",
       "<p>1 rows × 26 columns</p>\n",
       "</div>"
      ],
      "text/plain": [
       "       imdb_id  popularity     budget     revenue original_title  \\\n",
       "239  tt0499549    9.432768  237000000  2781505847         Avatar   \n",
       "\n",
       "                                                  cast       director  \\\n",
       "239  Sam Worthington|Zoe Saldana|Sigourney Weaver|S...  James Cameron   \n",
       "\n",
       "                         tagline  \\\n",
       "239  Enter the World of Pandora.   \n",
       "\n",
       "                                              overview  runtime  ...  \\\n",
       "239  In the 22nd century, a paraplegic Marine is di...      162  ...   \n",
       "\n",
       "    release_datetime release_month  \\\n",
       "239       2009-12-10            12   \n",
       "\n",
       "                                                actors        directors  \\\n",
       "239  [Sam Worthington, Zoe Saldana, Sigourney Weave...  [James Cameron]   \n",
       "\n",
       "                                       genres_list  \\\n",
       "239  [Action, Adventure, Fantasy, Science Fiction]   \n",
       "\n",
       "                             production_companies_list gross_profit  \\\n",
       "239  [Ingenious Film Partners, Twentieth Century Fo...   2544505847   \n",
       "\n",
       "     gross_profit_by_director gross_profit_by_actor  \\\n",
       "239              2.544506e+09           508901169.4   \n",
       "\n",
       "    gross_profit_by_production_company  \n",
       "239                       6.361265e+08  \n",
       "\n",
       "[1 rows x 26 columns]"
      ]
     },
     "metadata": {},
     "output_type": "display_data"
    }
   ],
   "source": [
    "display(data.sort_values(by=['gross_profit'], ascending=False).head(1))"
   ]
  },
  {
   "cell_type": "code",
   "execution_count": 16,
   "metadata": {},
   "outputs": [],
   "source": [
    "answer_ls.append(5)"
   ]
  },
  {
   "cell_type": "markdown",
   "metadata": {},
   "source": [
    "# 7. Какой фильм самый убыточный?\n",
    "Варианты ответов:\n",
    "1. Supernova tt0134983\n",
    "2. The Warrior's Way tt1032751\n",
    "3. Flushed Away\ttt0424095\n",
    "4. The Adventures of Pluto Nash\ttt0180052\n",
    "5. The Lone Ranger\ttt1210819"
   ]
  },
  {
   "cell_type": "code",
   "execution_count": 17,
   "metadata": {},
   "outputs": [
    {
     "data": {
      "text/html": [
       "<div>\n",
       "<style scoped>\n",
       "    .dataframe tbody tr th:only-of-type {\n",
       "        vertical-align: middle;\n",
       "    }\n",
       "\n",
       "    .dataframe tbody tr th {\n",
       "        vertical-align: top;\n",
       "    }\n",
       "\n",
       "    .dataframe thead th {\n",
       "        text-align: right;\n",
       "    }\n",
       "</style>\n",
       "<table border=\"1\" class=\"dataframe\">\n",
       "  <thead>\n",
       "    <tr style=\"text-align: right;\">\n",
       "      <th></th>\n",
       "      <th>imdb_id</th>\n",
       "      <th>popularity</th>\n",
       "      <th>budget</th>\n",
       "      <th>revenue</th>\n",
       "      <th>original_title</th>\n",
       "      <th>cast</th>\n",
       "      <th>director</th>\n",
       "      <th>tagline</th>\n",
       "      <th>overview</th>\n",
       "      <th>runtime</th>\n",
       "      <th>...</th>\n",
       "      <th>release_datetime</th>\n",
       "      <th>release_month</th>\n",
       "      <th>actors</th>\n",
       "      <th>directors</th>\n",
       "      <th>genres_list</th>\n",
       "      <th>production_companies_list</th>\n",
       "      <th>gross_profit</th>\n",
       "      <th>gross_profit_by_director</th>\n",
       "      <th>gross_profit_by_actor</th>\n",
       "      <th>gross_profit_by_production_company</th>\n",
       "    </tr>\n",
       "  </thead>\n",
       "  <tbody>\n",
       "    <tr>\n",
       "      <th>491</th>\n",
       "      <td>tt1032751</td>\n",
       "      <td>0.25054</td>\n",
       "      <td>425000000</td>\n",
       "      <td>11087569</td>\n",
       "      <td>The Warrior's Way</td>\n",
       "      <td>Kate Bosworth|Jang Dong-gun|Geoffrey Rush|Dann...</td>\n",
       "      <td>Sngmoo Lee</td>\n",
       "      <td>Assassin. Hero. Legend.</td>\n",
       "      <td>An Asian assassin (Dong-gun Jang) is forced to...</td>\n",
       "      <td>100</td>\n",
       "      <td>...</td>\n",
       "      <td>2010-12-02</td>\n",
       "      <td>12</td>\n",
       "      <td>[Kate Bosworth, Jang Dong-gun, Geoffrey Rush, ...</td>\n",
       "      <td>[Sngmoo Lee]</td>\n",
       "      <td>[Adventure, Fantasy, Action, Western, Thriller]</td>\n",
       "      <td>[Boram Entertainment Inc.]</td>\n",
       "      <td>-413912431</td>\n",
       "      <td>-413912431.0</td>\n",
       "      <td>-82782486.2</td>\n",
       "      <td>-413912431.0</td>\n",
       "    </tr>\n",
       "  </tbody>\n",
       "</table>\n",
       "<p>1 rows × 26 columns</p>\n",
       "</div>"
      ],
      "text/plain": [
       "       imdb_id  popularity     budget   revenue     original_title  \\\n",
       "491  tt1032751     0.25054  425000000  11087569  The Warrior's Way   \n",
       "\n",
       "                                                  cast    director  \\\n",
       "491  Kate Bosworth|Jang Dong-gun|Geoffrey Rush|Dann...  Sngmoo Lee   \n",
       "\n",
       "                     tagline  \\\n",
       "491  Assassin. Hero. Legend.   \n",
       "\n",
       "                                              overview  runtime  ...  \\\n",
       "491  An Asian assassin (Dong-gun Jang) is forced to...      100  ...   \n",
       "\n",
       "    release_datetime release_month  \\\n",
       "491       2010-12-02            12   \n",
       "\n",
       "                                                actors     directors  \\\n",
       "491  [Kate Bosworth, Jang Dong-gun, Geoffrey Rush, ...  [Sngmoo Lee]   \n",
       "\n",
       "                                         genres_list  \\\n",
       "491  [Adventure, Fantasy, Action, Western, Thriller]   \n",
       "\n",
       "      production_companies_list gross_profit  gross_profit_by_director  \\\n",
       "491  [Boram Entertainment Inc.]   -413912431              -413912431.0   \n",
       "\n",
       "    gross_profit_by_actor gross_profit_by_production_company  \n",
       "491           -82782486.2                       -413912431.0  \n",
       "\n",
       "[1 rows x 26 columns]"
      ]
     },
     "metadata": {},
     "output_type": "display_data"
    }
   ],
   "source": [
    "display(data.sort_values(by=['gross_profit'], ascending=True).head(1))"
   ]
  },
  {
   "cell_type": "code",
   "execution_count": 18,
   "metadata": {},
   "outputs": [],
   "source": [
    "answer_ls.append(5)"
   ]
  },
  {
   "cell_type": "markdown",
   "metadata": {},
   "source": [
    "# 8. У скольких фильмов из датасета объем сборов оказался выше бюджета?\n",
    "Варианты ответов:\n",
    "1. 1478\n",
    "2. 1520\n",
    "3. 1241\n",
    "4. 1135\n",
    "5. 1398\n"
   ]
  },
  {
   "cell_type": "code",
   "execution_count": 19,
   "metadata": {},
   "outputs": [
    {
     "name": "stdout",
     "output_type": "stream",
     "text": [
      "1478\n"
     ]
    }
   ],
   "source": [
    "print(len(data[(data['gross_profit'] > 0)]))"
   ]
  },
  {
   "cell_type": "code",
   "execution_count": 20,
   "metadata": {},
   "outputs": [],
   "source": [
    "answer_ls.append(1)"
   ]
  },
  {
   "cell_type": "markdown",
   "metadata": {},
   "source": [
    "# 9. Какой фильм оказался самым кассовым в 2008 году?\n",
    "Варианты ответов:\n",
    "1. Madagascar: Escape 2 Africa\ttt0479952\n",
    "2. Iron Man\ttt0371746\n",
    "3. Kung Fu Panda\ttt0441773\n",
    "4. The Dark Knight\ttt0468569\n",
    "5. Mamma Mia!\ttt0795421"
   ]
  },
  {
   "cell_type": "code",
   "execution_count": 21,
   "metadata": {},
   "outputs": [
    {
     "data": {
      "text/html": [
       "<div>\n",
       "<style scoped>\n",
       "    .dataframe tbody tr th:only-of-type {\n",
       "        vertical-align: middle;\n",
       "    }\n",
       "\n",
       "    .dataframe tbody tr th {\n",
       "        vertical-align: top;\n",
       "    }\n",
       "\n",
       "    .dataframe thead th {\n",
       "        text-align: right;\n",
       "    }\n",
       "</style>\n",
       "<table border=\"1\" class=\"dataframe\">\n",
       "  <thead>\n",
       "    <tr style=\"text-align: right;\">\n",
       "      <th></th>\n",
       "      <th>imdb_id</th>\n",
       "      <th>popularity</th>\n",
       "      <th>budget</th>\n",
       "      <th>revenue</th>\n",
       "      <th>original_title</th>\n",
       "      <th>cast</th>\n",
       "      <th>director</th>\n",
       "      <th>tagline</th>\n",
       "      <th>overview</th>\n",
       "      <th>runtime</th>\n",
       "      <th>...</th>\n",
       "      <th>release_datetime</th>\n",
       "      <th>release_month</th>\n",
       "      <th>actors</th>\n",
       "      <th>directors</th>\n",
       "      <th>genres_list</th>\n",
       "      <th>production_companies_list</th>\n",
       "      <th>gross_profit</th>\n",
       "      <th>gross_profit_by_director</th>\n",
       "      <th>gross_profit_by_actor</th>\n",
       "      <th>gross_profit_by_production_company</th>\n",
       "    </tr>\n",
       "  </thead>\n",
       "  <tbody>\n",
       "    <tr>\n",
       "      <th>600</th>\n",
       "      <td>tt0468569</td>\n",
       "      <td>8.466668</td>\n",
       "      <td>185000000</td>\n",
       "      <td>1001921825</td>\n",
       "      <td>The Dark Knight</td>\n",
       "      <td>Christian Bale|Michael Caine|Heath Ledger|Aaro...</td>\n",
       "      <td>Christopher Nolan</td>\n",
       "      <td>Why So Serious?</td>\n",
       "      <td>Batman raises the stakes in his war on crime. ...</td>\n",
       "      <td>152</td>\n",
       "      <td>...</td>\n",
       "      <td>2008-07-16</td>\n",
       "      <td>7</td>\n",
       "      <td>[Christian Bale, Michael Caine, Heath Ledger, ...</td>\n",
       "      <td>[Christopher Nolan]</td>\n",
       "      <td>[Drama, Action, Crime, Thriller]</td>\n",
       "      <td>[DC Comics, Legendary Pictures, Warner Bros., ...</td>\n",
       "      <td>816921825</td>\n",
       "      <td>816921825.0</td>\n",
       "      <td>163384365.0</td>\n",
       "      <td>2.042305e+08</td>\n",
       "    </tr>\n",
       "  </tbody>\n",
       "</table>\n",
       "<p>1 rows × 26 columns</p>\n",
       "</div>"
      ],
      "text/plain": [
       "       imdb_id  popularity     budget     revenue   original_title  \\\n",
       "600  tt0468569    8.466668  185000000  1001921825  The Dark Knight   \n",
       "\n",
       "                                                  cast           director  \\\n",
       "600  Christian Bale|Michael Caine|Heath Ledger|Aaro...  Christopher Nolan   \n",
       "\n",
       "             tagline                                           overview  \\\n",
       "600  Why So Serious?  Batman raises the stakes in his war on crime. ...   \n",
       "\n",
       "     runtime  ... release_datetime release_month  \\\n",
       "600      152  ...       2008-07-16             7   \n",
       "\n",
       "                                                actors            directors  \\\n",
       "600  [Christian Bale, Michael Caine, Heath Ledger, ...  [Christopher Nolan]   \n",
       "\n",
       "                          genres_list  \\\n",
       "600  [Drama, Action, Crime, Thriller]   \n",
       "\n",
       "                             production_companies_list gross_profit  \\\n",
       "600  [DC Comics, Legendary Pictures, Warner Bros., ...    816921825   \n",
       "\n",
       "     gross_profit_by_director gross_profit_by_actor  \\\n",
       "600               816921825.0           163384365.0   \n",
       "\n",
       "    gross_profit_by_production_company  \n",
       "600                       2.042305e+08  \n",
       "\n",
       "[1 rows x 26 columns]"
      ]
     },
     "metadata": {},
     "output_type": "display_data"
    }
   ],
   "source": [
    "display(data[(data['release_year'] == 2008)].sort_values(by=['revenue'], ascending=False).head(1))"
   ]
  },
  {
   "cell_type": "code",
   "execution_count": 22,
   "metadata": {},
   "outputs": [],
   "source": [
    "answer_ls.append(4)"
   ]
  },
  {
   "cell_type": "markdown",
   "metadata": {},
   "source": [
    "# 10. Самый убыточный фильм за период с 2012 по 2014 гг. (включительно)?\n",
    "Варианты ответов:\n",
    "1. Winter's Tale\ttt1837709\n",
    "2. Stolen\ttt1656186\n",
    "3. Broken City\ttt1235522\n",
    "4. Upside Down\ttt1374992\n",
    "5. The Lone Ranger\ttt1210819\n"
   ]
  },
  {
   "cell_type": "code",
   "execution_count": 23,
   "metadata": {},
   "outputs": [
    {
     "data": {
      "text/html": [
       "<div>\n",
       "<style scoped>\n",
       "    .dataframe tbody tr th:only-of-type {\n",
       "        vertical-align: middle;\n",
       "    }\n",
       "\n",
       "    .dataframe tbody tr th {\n",
       "        vertical-align: top;\n",
       "    }\n",
       "\n",
       "    .dataframe thead th {\n",
       "        text-align: right;\n",
       "    }\n",
       "</style>\n",
       "<table border=\"1\" class=\"dataframe\">\n",
       "  <thead>\n",
       "    <tr style=\"text-align: right;\">\n",
       "      <th></th>\n",
       "      <th>imdb_id</th>\n",
       "      <th>popularity</th>\n",
       "      <th>budget</th>\n",
       "      <th>revenue</th>\n",
       "      <th>original_title</th>\n",
       "      <th>cast</th>\n",
       "      <th>director</th>\n",
       "      <th>tagline</th>\n",
       "      <th>overview</th>\n",
       "      <th>runtime</th>\n",
       "      <th>...</th>\n",
       "      <th>release_datetime</th>\n",
       "      <th>release_month</th>\n",
       "      <th>actors</th>\n",
       "      <th>directors</th>\n",
       "      <th>genres_list</th>\n",
       "      <th>production_companies_list</th>\n",
       "      <th>gross_profit</th>\n",
       "      <th>gross_profit_by_director</th>\n",
       "      <th>gross_profit_by_actor</th>\n",
       "      <th>gross_profit_by_production_company</th>\n",
       "    </tr>\n",
       "  </thead>\n",
       "  <tbody>\n",
       "    <tr>\n",
       "      <th>1246</th>\n",
       "      <td>tt1210819</td>\n",
       "      <td>1.21451</td>\n",
       "      <td>255000000</td>\n",
       "      <td>89289910</td>\n",
       "      <td>The Lone Ranger</td>\n",
       "      <td>Johnny Depp|Armie Hammer|William Fichtner|Hele...</td>\n",
       "      <td>Gore Verbinski</td>\n",
       "      <td>Never Take Off the Mask</td>\n",
       "      <td>The Texas Rangers chase down a gang of outlaws...</td>\n",
       "      <td>149</td>\n",
       "      <td>...</td>\n",
       "      <td>2013-07-03</td>\n",
       "      <td>7</td>\n",
       "      <td>[Johnny Depp, Armie Hammer, William Fichtner, ...</td>\n",
       "      <td>[Gore Verbinski]</td>\n",
       "      <td>[Action, Adventure, Western]</td>\n",
       "      <td>[Walt Disney Pictures, Jerry Bruckheimer Films...</td>\n",
       "      <td>-165710090</td>\n",
       "      <td>-165710090.0</td>\n",
       "      <td>-33142018.0</td>\n",
       "      <td>-33142018.0</td>\n",
       "    </tr>\n",
       "  </tbody>\n",
       "</table>\n",
       "<p>1 rows × 26 columns</p>\n",
       "</div>"
      ],
      "text/plain": [
       "        imdb_id  popularity     budget   revenue   original_title  \\\n",
       "1246  tt1210819     1.21451  255000000  89289910  The Lone Ranger   \n",
       "\n",
       "                                                   cast        director  \\\n",
       "1246  Johnny Depp|Armie Hammer|William Fichtner|Hele...  Gore Verbinski   \n",
       "\n",
       "                      tagline  \\\n",
       "1246  Never Take Off the Mask   \n",
       "\n",
       "                                               overview  runtime  ...  \\\n",
       "1246  The Texas Rangers chase down a gang of outlaws...      149  ...   \n",
       "\n",
       "     release_datetime release_month  \\\n",
       "1246       2013-07-03             7   \n",
       "\n",
       "                                                 actors         directors  \\\n",
       "1246  [Johnny Depp, Armie Hammer, William Fichtner, ...  [Gore Verbinski]   \n",
       "\n",
       "                       genres_list  \\\n",
       "1246  [Action, Adventure, Western]   \n",
       "\n",
       "                              production_companies_list gross_profit  \\\n",
       "1246  [Walt Disney Pictures, Jerry Bruckheimer Films...   -165710090   \n",
       "\n",
       "      gross_profit_by_director gross_profit_by_actor  \\\n",
       "1246              -165710090.0           -33142018.0   \n",
       "\n",
       "     gross_profit_by_production_company  \n",
       "1246                        -33142018.0  \n",
       "\n",
       "[1 rows x 26 columns]"
      ]
     },
     "metadata": {},
     "output_type": "display_data"
    }
   ],
   "source": [
    "display(data[(2012 <= data['release_year']) & (data['release_year'] <= 2014)].sort_values(by=['gross_profit'], ascending=True).head(1))"
   ]
  },
  {
   "cell_type": "code",
   "execution_count": 24,
   "metadata": {},
   "outputs": [],
   "source": [
    "answer_ls.append(1)"
   ]
  },
  {
   "cell_type": "markdown",
   "metadata": {},
   "source": [
    "# 11. Какого жанра фильмов больше всего?\n",
    "Варианты ответов:\n",
    "1. Action\n",
    "2. Adventure\n",
    "3. Drama\n",
    "4. Comedy\n",
    "5. Thriller"
   ]
  },
  {
   "cell_type": "code",
   "execution_count": 25,
   "metadata": {},
   "outputs": [
    {
     "data": {
      "text/plain": [
       "Drama    782\n",
       "Name: genres_list, dtype: int64"
      ]
     },
     "metadata": {},
     "output_type": "display_data"
    }
   ],
   "source": [
    "display(data['genres_list'].explode().value_counts().head(1))"
   ]
  },
  {
   "cell_type": "code",
   "execution_count": 26,
   "metadata": {},
   "outputs": [],
   "source": [
    "answer_ls.append(1)"
   ]
  },
  {
   "cell_type": "markdown",
   "metadata": {},
   "source": [
    "# 12. Какого жанра среди прибыльных фильмов больше всего?\n",
    "Варианты ответов:\n",
    "1. Drama\n",
    "2. Comedy\n",
    "3. Action\n",
    "4. Thriller\n",
    "5. Adventure"
   ]
  },
  {
   "cell_type": "code",
   "execution_count": 27,
   "metadata": {},
   "outputs": [
    {
     "data": {
      "text/plain": [
       "Drama    560\n",
       "Name: genres_list, dtype: int64"
      ]
     },
     "metadata": {},
     "output_type": "display_data"
    }
   ],
   "source": [
    "display(data[(data['gross_profit'] > 0)]['genres_list'].explode().value_counts().head(1))"
   ]
  },
  {
   "cell_type": "code",
   "execution_count": 28,
   "metadata": {},
   "outputs": [],
   "source": [
    "answer_ls.append(1)"
   ]
  },
  {
   "cell_type": "markdown",
   "metadata": {},
   "source": [
    "# 13. Кто из режиссеров снял больше всего фильмов?\n",
    "Варианты ответов:\n",
    "1. Steven Spielberg\n",
    "2. Ridley Scott \n",
    "3. Steven Soderbergh\n",
    "4. Christopher Nolan\n",
    "5. Clint Eastwood"
   ]
  },
  {
   "cell_type": "code",
   "execution_count": 29,
   "metadata": {},
   "outputs": [
    {
     "data": {
      "text/plain": [
       "Steven Soderbergh    13\n",
       "Name: directors, dtype: int64"
      ]
     },
     "metadata": {},
     "output_type": "display_data"
    }
   ],
   "source": [
    "display(data['directors'].explode().value_counts().head(1))"
   ]
  },
  {
   "cell_type": "code",
   "execution_count": 30,
   "metadata": {},
   "outputs": [],
   "source": [
    "answer_ls.append(4)"
   ]
  },
  {
   "cell_type": "markdown",
   "metadata": {},
   "source": [
    "# 14. Кто из режиссеров снял больше всего прибыльных фильмов?\n",
    "Варианты ответов:\n",
    "1. Steven Soderbergh\n",
    "2. Ridley Scott\n",
    "3. Steven Spielberg\n",
    "4. Christopher Nolan\n",
    "5. Clint Eastwood"
   ]
  },
  {
   "cell_type": "code",
   "execution_count": 31,
   "metadata": {},
   "outputs": [
    {
     "data": {
      "text/plain": [
       "Ridley Scott    12\n",
       "Name: directors, dtype: int64"
      ]
     },
     "metadata": {},
     "output_type": "display_data"
    }
   ],
   "source": [
    "only_profitable_movies = data[(data['gross_profit'] > 0)]\n",
    "display(only_profitable_movies['directors'].explode().value_counts().head(1))"
   ]
  },
  {
   "cell_type": "code",
   "execution_count": 32,
   "metadata": {},
   "outputs": [],
   "source": [
    "answer_ls.append(2)"
   ]
  },
  {
   "cell_type": "markdown",
   "metadata": {},
   "source": [
    "# 15. Кто из режиссеров принес больше всего прибыли?\n",
    "Варианты ответов:\n",
    "1. Steven Spielberg\n",
    "2. Christopher Nolan\n",
    "3. David Yates\n",
    "4. James Cameron\n",
    "5. Peter Jackson\n"
   ]
  },
  {
   "cell_type": "code",
   "execution_count": 33,
   "metadata": {},
   "outputs": [
    {
     "data": {
      "text/html": [
       "<div>\n",
       "<style scoped>\n",
       "    .dataframe tbody tr th:only-of-type {\n",
       "        vertical-align: middle;\n",
       "    }\n",
       "\n",
       "    .dataframe tbody tr th {\n",
       "        vertical-align: top;\n",
       "    }\n",
       "\n",
       "    .dataframe thead th {\n",
       "        text-align: right;\n",
       "    }\n",
       "</style>\n",
       "<table border=\"1\" class=\"dataframe\">\n",
       "  <thead>\n",
       "    <tr style=\"text-align: right;\">\n",
       "      <th></th>\n",
       "      <th>popularity</th>\n",
       "      <th>budget</th>\n",
       "      <th>revenue</th>\n",
       "      <th>runtime</th>\n",
       "      <th>vote_count</th>\n",
       "      <th>vote_average</th>\n",
       "      <th>release_year</th>\n",
       "      <th>release_month</th>\n",
       "      <th>gross_profit</th>\n",
       "      <th>gross_profit_by_director</th>\n",
       "      <th>gross_profit_by_actor</th>\n",
       "      <th>gross_profit_by_production_company</th>\n",
       "    </tr>\n",
       "    <tr>\n",
       "      <th>directors</th>\n",
       "      <th></th>\n",
       "      <th></th>\n",
       "      <th></th>\n",
       "      <th></th>\n",
       "      <th></th>\n",
       "      <th></th>\n",
       "      <th></th>\n",
       "      <th></th>\n",
       "      <th></th>\n",
       "      <th></th>\n",
       "      <th></th>\n",
       "      <th></th>\n",
       "    </tr>\n",
       "  </thead>\n",
       "  <tbody>\n",
       "    <tr>\n",
       "      <th>Peter Jackson</th>\n",
       "      <td>45.679675</td>\n",
       "      <td>1288000000</td>\n",
       "      <td>6490593685</td>\n",
       "      <td>1355</td>\n",
       "      <td>31197</td>\n",
       "      <td>58.1</td>\n",
       "      <td>16059</td>\n",
       "      <td>95</td>\n",
       "      <td>5202593685</td>\n",
       "      <td>5.202594e+09</td>\n",
       "      <td>1.040519e+09</td>\n",
       "      <td>1.813866e+09</td>\n",
       "    </tr>\n",
       "  </tbody>\n",
       "</table>\n",
       "</div>"
      ],
      "text/plain": [
       "               popularity      budget     revenue  runtime  vote_count  \\\n",
       "directors                                                                \n",
       "Peter Jackson   45.679675  1288000000  6490593685     1355       31197   \n",
       "\n",
       "               vote_average  release_year  release_month  gross_profit  \\\n",
       "directors                                                                \n",
       "Peter Jackson          58.1         16059             95    5202593685   \n",
       "\n",
       "               gross_profit_by_director  gross_profit_by_actor  \\\n",
       "directors                                                        \n",
       "Peter Jackson              5.202594e+09           1.040519e+09   \n",
       "\n",
       "               gross_profit_by_production_company  \n",
       "directors                                          \n",
       "Peter Jackson                        1.813866e+09  "
      ]
     },
     "metadata": {},
     "output_type": "display_data"
    }
   ],
   "source": [
    "display(data.explode('directors').groupby('directors').sum().sort_values(by=['gross_profit_by_director'], ascending=False).head(1))"
   ]
  },
  {
   "cell_type": "code",
   "execution_count": 34,
   "metadata": {},
   "outputs": [],
   "source": [
    "answer_ls.append(5)"
   ]
  },
  {
   "cell_type": "markdown",
   "metadata": {},
   "source": [
    "# 16. Какой актер принес больше всего прибыли?\n",
    "Варианты ответов:\n",
    "1. Emma Watson\n",
    "2. Johnny Depp\n",
    "3. Michelle Rodriguez\n",
    "4. Orlando Bloom\n",
    "5. Rupert Grint"
   ]
  },
  {
   "cell_type": "code",
   "execution_count": 35,
   "metadata": {},
   "outputs": [
    {
     "data": {
      "text/html": [
       "<div>\n",
       "<style scoped>\n",
       "    .dataframe tbody tr th:only-of-type {\n",
       "        vertical-align: middle;\n",
       "    }\n",
       "\n",
       "    .dataframe tbody tr th {\n",
       "        vertical-align: top;\n",
       "    }\n",
       "\n",
       "    .dataframe thead th {\n",
       "        text-align: right;\n",
       "    }\n",
       "</style>\n",
       "<table border=\"1\" class=\"dataframe\">\n",
       "  <thead>\n",
       "    <tr style=\"text-align: right;\">\n",
       "      <th></th>\n",
       "      <th>popularity</th>\n",
       "      <th>budget</th>\n",
       "      <th>revenue</th>\n",
       "      <th>runtime</th>\n",
       "      <th>vote_count</th>\n",
       "      <th>vote_average</th>\n",
       "      <th>release_year</th>\n",
       "      <th>release_month</th>\n",
       "      <th>gross_profit</th>\n",
       "      <th>gross_profit_by_director</th>\n",
       "      <th>gross_profit_by_actor</th>\n",
       "      <th>gross_profit_by_production_company</th>\n",
       "    </tr>\n",
       "    <tr>\n",
       "      <th>actors</th>\n",
       "      <th></th>\n",
       "      <th></th>\n",
       "      <th></th>\n",
       "      <th></th>\n",
       "      <th></th>\n",
       "      <th></th>\n",
       "      <th></th>\n",
       "      <th></th>\n",
       "      <th></th>\n",
       "      <th></th>\n",
       "      <th></th>\n",
       "      <th></th>\n",
       "    </tr>\n",
       "  </thead>\n",
       "  <tbody>\n",
       "    <tr>\n",
       "      <th>Emma Watson</th>\n",
       "      <td>52.428017</td>\n",
       "      <td>1493000000</td>\n",
       "      <td>8159245597</td>\n",
       "      <td>1609</td>\n",
       "      <td>32702</td>\n",
       "      <td>82.8</td>\n",
       "      <td>24096</td>\n",
       "      <td>96</td>\n",
       "      <td>6666245597</td>\n",
       "      <td>6.670807e+09</td>\n",
       "      <td>1.333249e+09</td>\n",
       "      <td>2.246273e+09</td>\n",
       "    </tr>\n",
       "  </tbody>\n",
       "</table>\n",
       "</div>"
      ],
      "text/plain": [
       "             popularity      budget     revenue  runtime  vote_count  \\\n",
       "actors                                                                 \n",
       "Emma Watson   52.428017  1493000000  8159245597     1609       32702   \n",
       "\n",
       "             vote_average  release_year  release_month  gross_profit  \\\n",
       "actors                                                                 \n",
       "Emma Watson          82.8         24096             96    6666245597   \n",
       "\n",
       "             gross_profit_by_director  gross_profit_by_actor  \\\n",
       "actors                                                         \n",
       "Emma Watson              6.670807e+09           1.333249e+09   \n",
       "\n",
       "             gross_profit_by_production_company  \n",
       "actors                                           \n",
       "Emma Watson                        2.246273e+09  "
      ]
     },
     "metadata": {},
     "output_type": "display_data"
    }
   ],
   "source": [
    "display(data.explode('actors').groupby('actors').sum().sort_values(by=['gross_profit_by_actor'], ascending=False).head(1))"
   ]
  },
  {
   "cell_type": "code",
   "execution_count": 36,
   "metadata": {},
   "outputs": [],
   "source": [
    "answer_ls.append(1)"
   ]
  },
  {
   "cell_type": "markdown",
   "metadata": {},
   "source": [
    "# 17. Какой актер принес меньше всего прибыли в 2012 году?\n",
    "Варианты ответов:\n",
    "1. Nicolas Cage\n",
    "2. Danny Huston\n",
    "3. Kirsten Dunst\n",
    "4. Jim Sturgess\n",
    "5. Sami Gayle"
   ]
  },
  {
   "cell_type": "code",
   "execution_count": 37,
   "metadata": {},
   "outputs": [
    {
     "data": {
      "text/html": [
       "<div>\n",
       "<style scoped>\n",
       "    .dataframe tbody tr th:only-of-type {\n",
       "        vertical-align: middle;\n",
       "    }\n",
       "\n",
       "    .dataframe tbody tr th {\n",
       "        vertical-align: top;\n",
       "    }\n",
       "\n",
       "    .dataframe thead th {\n",
       "        text-align: right;\n",
       "    }\n",
       "</style>\n",
       "<table border=\"1\" class=\"dataframe\">\n",
       "  <thead>\n",
       "    <tr style=\"text-align: right;\">\n",
       "      <th></th>\n",
       "      <th>popularity</th>\n",
       "      <th>budget</th>\n",
       "      <th>revenue</th>\n",
       "      <th>runtime</th>\n",
       "      <th>vote_count</th>\n",
       "      <th>vote_average</th>\n",
       "      <th>release_year</th>\n",
       "      <th>release_month</th>\n",
       "      <th>gross_profit</th>\n",
       "      <th>gross_profit_by_director</th>\n",
       "      <th>gross_profit_by_actor</th>\n",
       "      <th>gross_profit_by_production_company</th>\n",
       "    </tr>\n",
       "    <tr>\n",
       "      <th>actors</th>\n",
       "      <th></th>\n",
       "      <th></th>\n",
       "      <th></th>\n",
       "      <th></th>\n",
       "      <th></th>\n",
       "      <th></th>\n",
       "      <th></th>\n",
       "      <th></th>\n",
       "      <th></th>\n",
       "      <th></th>\n",
       "      <th></th>\n",
       "      <th></th>\n",
       "    </tr>\n",
       "  </thead>\n",
       "  <tbody>\n",
       "    <tr>\n",
       "      <th>Kirsten Dunst</th>\n",
       "      <td>2.24286</td>\n",
       "      <td>85000000</td>\n",
       "      <td>16890793</td>\n",
       "      <td>241</td>\n",
       "      <td>900</td>\n",
       "      <td>11.7</td>\n",
       "      <td>4024</td>\n",
       "      <td>14</td>\n",
       "      <td>-68109207</td>\n",
       "      <td>-68109207.0</td>\n",
       "      <td>-13621841.4</td>\n",
       "      <td>-13621841.4</td>\n",
       "    </tr>\n",
       "  </tbody>\n",
       "</table>\n",
       "</div>"
      ],
      "text/plain": [
       "               popularity    budget   revenue  runtime  vote_count  \\\n",
       "actors                                                               \n",
       "Kirsten Dunst     2.24286  85000000  16890793      241         900   \n",
       "\n",
       "               vote_average  release_year  release_month  gross_profit  \\\n",
       "actors                                                                   \n",
       "Kirsten Dunst          11.7          4024             14     -68109207   \n",
       "\n",
       "               gross_profit_by_director  gross_profit_by_actor  \\\n",
       "actors                                                           \n",
       "Kirsten Dunst               -68109207.0            -13621841.4   \n",
       "\n",
       "               gross_profit_by_production_company  \n",
       "actors                                             \n",
       "Kirsten Dunst                         -13621841.4  "
      ]
     },
     "metadata": {},
     "output_type": "display_data"
    }
   ],
   "source": [
    "movies_2012 = data[(data['release_year'] == 2012)]\n",
    "display(movies_2012.explode('actors').groupby('actors').sum().sort_values(by=['gross_profit_by_actor'], ascending=True).head(1))"
   ]
  },
  {
   "cell_type": "code",
   "execution_count": 38,
   "metadata": {},
   "outputs": [],
   "source": [
    "answer_ls.append(3)"
   ]
  },
  {
   "cell_type": "markdown",
   "metadata": {},
   "source": [
    "# 18. Какой актер снялся в большем количестве высокобюджетных фильмов? Примечание: в фильмах, где бюджет выше среднего по данной выборке.\n",
    "Варианты ответов:\n",
    "1. Tom Cruise\n",
    "2. Mark Wahlberg \n",
    "3. Matt Damon\n",
    "4. Angelina Jolie\n",
    "5. Adam Sandler"
   ]
  },
  {
   "cell_type": "code",
   "execution_count": 39,
   "metadata": {},
   "outputs": [
    {
     "data": {
      "text/plain": [
       "Matt Damon    18\n",
       "Name: actors, dtype: int64"
      ]
     },
     "metadata": {},
     "output_type": "display_data"
    }
   ],
   "source": [
    "mean_movie_budget = data['budget'].mean()\n",
    "\n",
    "high_budget_movies = data[(data['budget'] > mean_movie_budget)]\n",
    "display(data[(data['budget'] > mean_movie_budget)].explode('actors')['actors'].value_counts().head(1))"
   ]
  },
  {
   "cell_type": "code",
   "execution_count": 40,
   "metadata": {},
   "outputs": [],
   "source": [
    "answer_ls.append(3)"
   ]
  },
  {
   "cell_type": "markdown",
   "metadata": {},
   "source": [
    "# 19. В фильмах какого жанра больше всего снимался Nicolas Cage?\n",
    "Варианты ответа:\n",
    "1. Drama\n",
    "2. Action\n",
    "3. Thriller\n",
    "4. Adventure\n",
    "5. Crime"
   ]
  },
  {
   "cell_type": "code",
   "execution_count": 41,
   "metadata": {},
   "outputs": [
    {
     "data": {
      "text/plain": [
       "Action    17\n",
       "Name: genres_list, dtype: int64"
      ]
     },
     "metadata": {},
     "output_type": "display_data"
    }
   ],
   "source": [
    "cage_movies = data[data['actors'].apply(lambda actors: 'Nicolas Cage' in actors)]\n",
    "\n",
    "display(cage_movies.explode('genres_list')['genres_list'].value_counts().head(1))"
   ]
  },
  {
   "cell_type": "code",
   "execution_count": 42,
   "metadata": {},
   "outputs": [],
   "source": [
    "answer_ls.append(2)"
   ]
  },
  {
   "cell_type": "markdown",
   "metadata": {},
   "source": [
    "# 20. Какая студия сняла больше всего фильмов?\n",
    "Варианты ответа:\n",
    "1. Universal Pictures (Universal)\n",
    "2. Paramount Pictures\n",
    "3. Columbia Pictures\n",
    "4. Warner Bros\n",
    "5. Twentieth Century Fox Film Corporation"
   ]
  },
  {
   "cell_type": "code",
   "execution_count": 43,
   "metadata": {},
   "outputs": [
    {
     "data": {
      "text/plain": [
       "Universal Pictures    173\n",
       "Name: production_companies_list, dtype: int64"
      ]
     },
     "metadata": {},
     "output_type": "display_data"
    }
   ],
   "source": [
    "display(data.explode('production_companies_list')['production_companies_list'].value_counts().head(1))"
   ]
  },
  {
   "cell_type": "code",
   "execution_count": 44,
   "metadata": {},
   "outputs": [],
   "source": [
    "answer_ls.append(1)"
   ]
  },
  {
   "cell_type": "markdown",
   "metadata": {},
   "source": [
    "# 21. Какая студия сняла больше всего фильмов в 2015 году?\n",
    "Варианты ответа:\n",
    "1. Universal Pictures\n",
    "2. Paramount Pictures\n",
    "3. Columbia Pictures\n",
    "4. Warner Bros\n",
    "5. Twentieth Century Fox Film Corporation"
   ]
  },
  {
   "cell_type": "code",
   "execution_count": 45,
   "metadata": {},
   "outputs": [
    {
     "data": {
      "text/plain": [
       "Warner Bros.    12\n",
       "Name: production_companies_list, dtype: int64"
      ]
     },
     "metadata": {},
     "output_type": "display_data"
    }
   ],
   "source": [
    "movies_2015 = data[(data['release_year'] == 2015)]\n",
    "\n",
    "display(movies_2015.explode('production_companies_list')['production_companies_list'].value_counts().head(1))"
   ]
  },
  {
   "cell_type": "code",
   "execution_count": 46,
   "metadata": {},
   "outputs": [],
   "source": [
    "answer_ls.append(4)"
   ]
  },
  {
   "cell_type": "markdown",
   "metadata": {},
   "source": [
    "# 22. Какая студия заработала больше всего денег в жанре комедий за все время?\n",
    "Варианты ответа:\n",
    "1. Warner Bros\n",
    "2. Universal Pictures (Universal)\n",
    "3. Columbia Pictures\n",
    "4. Paramount Pictures\n",
    "5. Walt Disney"
   ]
  },
  {
   "cell_type": "code",
   "execution_count": 47,
   "metadata": {},
   "outputs": [
    {
     "data": {
      "text/html": [
       "<div>\n",
       "<style scoped>\n",
       "    .dataframe tbody tr th:only-of-type {\n",
       "        vertical-align: middle;\n",
       "    }\n",
       "\n",
       "    .dataframe tbody tr th {\n",
       "        vertical-align: top;\n",
       "    }\n",
       "\n",
       "    .dataframe thead th {\n",
       "        text-align: right;\n",
       "    }\n",
       "</style>\n",
       "<table border=\"1\" class=\"dataframe\">\n",
       "  <thead>\n",
       "    <tr style=\"text-align: right;\">\n",
       "      <th></th>\n",
       "      <th>gross_profit_by_production_company</th>\n",
       "    </tr>\n",
       "    <tr>\n",
       "      <th>production_companies_list</th>\n",
       "      <th></th>\n",
       "    </tr>\n",
       "  </thead>\n",
       "  <tbody>\n",
       "    <tr>\n",
       "      <th>Walt Disney Pictures</th>\n",
       "      <td>3.660158e+09</td>\n",
       "    </tr>\n",
       "  </tbody>\n",
       "</table>\n",
       "</div>"
      ],
      "text/plain": [
       "                           gross_profit_by_production_company\n",
       "production_companies_list                                    \n",
       "Walt Disney Pictures                             3.660158e+09"
      ]
     },
     "metadata": {},
     "output_type": "display_data"
    }
   ],
   "source": [
    "comedy_movies = data[data['genres_list'].apply(lambda genres: 'Comedy' in genres)]\n",
    "\n",
    "display(comedy_movies.explode('production_companies_list')[['production_companies_list', 'gross_profit_by_production_company']].groupby('production_companies_list').sum().sort_values(by=['gross_profit_by_production_company'], ascending=False).head(1))"
   ]
  },
  {
   "cell_type": "code",
   "execution_count": 48,
   "metadata": {},
   "outputs": [
    {
     "data": {
      "text/html": [
       "<div>\n",
       "<style scoped>\n",
       "    .dataframe tbody tr th:only-of-type {\n",
       "        vertical-align: middle;\n",
       "    }\n",
       "\n",
       "    .dataframe tbody tr th {\n",
       "        vertical-align: top;\n",
       "    }\n",
       "\n",
       "    .dataframe thead th {\n",
       "        text-align: right;\n",
       "    }\n",
       "</style>\n",
       "<table border=\"1\" class=\"dataframe\">\n",
       "  <thead>\n",
       "    <tr style=\"text-align: right;\">\n",
       "      <th></th>\n",
       "      <th>gross_profit</th>\n",
       "    </tr>\n",
       "    <tr>\n",
       "      <th>production_companies_list</th>\n",
       "      <th></th>\n",
       "    </tr>\n",
       "  </thead>\n",
       "  <tbody>\n",
       "    <tr>\n",
       "      <th>Universal Pictures</th>\n",
       "      <td>8961545581</td>\n",
       "    </tr>\n",
       "  </tbody>\n",
       "</table>\n",
       "</div>"
      ],
      "text/plain": [
       "                           gross_profit\n",
       "production_companies_list              \n",
       "Universal Pictures           8961545581"
      ]
     },
     "metadata": {},
     "output_type": "display_data"
    }
   ],
   "source": [
    "display(comedy_movies.explode('production_companies_list')[['production_companies_list', 'gross_profit']].groupby('production_companies_list').sum().sort_values(by=['gross_profit'], ascending=False).head(1))"
   ]
  },
  {
   "cell_type": "code",
   "execution_count": 49,
   "metadata": {},
   "outputs": [],
   "source": [
    "answer_ls.append(2)"
   ]
  },
  {
   "cell_type": "markdown",
   "metadata": {},
   "source": [
    "# 23. Какая студия заработала больше всего денег в 2012 году?\n",
    "Варианты ответа:\n",
    "1. Universal Pictures (Universal)\n",
    "2. Warner Bros\n",
    "3. Columbia Pictures\n",
    "4. Paramount Pictures\n",
    "5. Lucasfilm"
   ]
  },
  {
   "cell_type": "code",
   "execution_count": 50,
   "metadata": {},
   "outputs": [
    {
     "data": {
      "text/html": [
       "<div>\n",
       "<style scoped>\n",
       "    .dataframe tbody tr th:only-of-type {\n",
       "        vertical-align: middle;\n",
       "    }\n",
       "\n",
       "    .dataframe tbody tr th {\n",
       "        vertical-align: top;\n",
       "    }\n",
       "\n",
       "    .dataframe thead th {\n",
       "        text-align: right;\n",
       "    }\n",
       "</style>\n",
       "<table border=\"1\" class=\"dataframe\">\n",
       "  <thead>\n",
       "    <tr style=\"text-align: right;\">\n",
       "      <th></th>\n",
       "      <th>gross_profit</th>\n",
       "    </tr>\n",
       "    <tr>\n",
       "      <th>production_companies_list</th>\n",
       "      <th></th>\n",
       "    </tr>\n",
       "  </thead>\n",
       "  <tbody>\n",
       "    <tr>\n",
       "      <th>Columbia Pictures</th>\n",
       "      <td>2501406608</td>\n",
       "    </tr>\n",
       "  </tbody>\n",
       "</table>\n",
       "</div>"
      ],
      "text/plain": [
       "                           gross_profit\n",
       "production_companies_list              \n",
       "Columbia Pictures            2501406608"
      ]
     },
     "metadata": {},
     "output_type": "display_data"
    }
   ],
   "source": [
    "display(movies_2012.explode('production_companies_list')[['production_companies_list', 'gross_profit']].groupby('production_companies_list').sum().sort_values(by=['gross_profit'], ascending=False).head(1))"
   ]
  },
  {
   "cell_type": "code",
   "execution_count": 51,
   "metadata": {},
   "outputs": [],
   "source": [
    "answer_ls.append(3)"
   ]
  },
  {
   "cell_type": "markdown",
   "metadata": {},
   "source": [
    "# 24. Самый убыточный фильм от Paramount Pictures?\n",
    "Варианты ответа:\n",
    "\n",
    "1. K-19: The Widowmaker tt0267626\n",
    "2. Next tt0435705\n",
    "3. Twisted tt0315297\n",
    "4. The Love Guru tt0811138\n",
    "5. The Fighter tt0964517"
   ]
  },
  {
   "cell_type": "code",
   "execution_count": 52,
   "metadata": {},
   "outputs": [
    {
     "data": {
      "text/html": [
       "<div>\n",
       "<style scoped>\n",
       "    .dataframe tbody tr th:only-of-type {\n",
       "        vertical-align: middle;\n",
       "    }\n",
       "\n",
       "    .dataframe tbody tr th {\n",
       "        vertical-align: top;\n",
       "    }\n",
       "\n",
       "    .dataframe thead th {\n",
       "        text-align: right;\n",
       "    }\n",
       "</style>\n",
       "<table border=\"1\" class=\"dataframe\">\n",
       "  <thead>\n",
       "    <tr style=\"text-align: right;\">\n",
       "      <th></th>\n",
       "      <th>original_title</th>\n",
       "      <th>gross_profit</th>\n",
       "    </tr>\n",
       "  </thead>\n",
       "  <tbody>\n",
       "    <tr>\n",
       "      <th>926</th>\n",
       "      <td>K-19: The Widowmaker</td>\n",
       "      <td>-64831034</td>\n",
       "    </tr>\n",
       "  </tbody>\n",
       "</table>\n",
       "</div>"
      ],
      "text/plain": [
       "           original_title  gross_profit\n",
       "926  K-19: The Widowmaker     -64831034"
      ]
     },
     "metadata": {},
     "output_type": "display_data"
    }
   ],
   "source": [
    "paramount_movies = data[data['production_companies_list'].apply(lambda companies: 'Paramount Pictures' in companies)]\n",
    "display(paramount_movies[['original_title', 'gross_profit']].sort_values(by=['gross_profit'], ascending=True).head(1))"
   ]
  },
  {
   "cell_type": "code",
   "execution_count": 53,
   "metadata": {},
   "outputs": [],
   "source": [
    "answer_ls.append(1)"
   ]
  },
  {
   "cell_type": "markdown",
   "metadata": {},
   "source": [
    "# 25. Какой самый прибыльный год (в какой год студии заработали больше всего)?\n",
    "Варианты ответа:\n",
    "1. 2014\n",
    "2. 2008\n",
    "3. 2012\n",
    "4. 2002\n",
    "5. 2015"
   ]
  },
  {
   "cell_type": "code",
   "execution_count": 54,
   "metadata": {},
   "outputs": [
    {
     "data": {
      "text/html": [
       "<div>\n",
       "<style scoped>\n",
       "    .dataframe tbody tr th:only-of-type {\n",
       "        vertical-align: middle;\n",
       "    }\n",
       "\n",
       "    .dataframe tbody tr th {\n",
       "        vertical-align: top;\n",
       "    }\n",
       "\n",
       "    .dataframe thead th {\n",
       "        text-align: right;\n",
       "    }\n",
       "</style>\n",
       "<table border=\"1\" class=\"dataframe\">\n",
       "  <thead>\n",
       "    <tr style=\"text-align: right;\">\n",
       "      <th></th>\n",
       "      <th>gross_profit</th>\n",
       "    </tr>\n",
       "    <tr>\n",
       "      <th>release_year</th>\n",
       "      <th></th>\n",
       "    </tr>\n",
       "  </thead>\n",
       "  <tbody>\n",
       "    <tr>\n",
       "      <th>2015</th>\n",
       "      <td>18668572378</td>\n",
       "    </tr>\n",
       "  </tbody>\n",
       "</table>\n",
       "</div>"
      ],
      "text/plain": [
       "              gross_profit\n",
       "release_year              \n",
       "2015           18668572378"
      ]
     },
     "metadata": {},
     "output_type": "display_data"
    }
   ],
   "source": [
    "display(data[['release_year', 'gross_profit']].groupby(['release_year']).sum().sort_values(by=['gross_profit'], ascending=False).head(1))"
   ]
  },
  {
   "cell_type": "code",
   "execution_count": 55,
   "metadata": {},
   "outputs": [],
   "source": [
    "answer_ls.append(5)"
   ]
  },
  {
   "cell_type": "markdown",
   "metadata": {},
   "source": [
    "# 26. Какой самый прибыльный год для студии Warner Bros?\n",
    "Варианты ответа:\n",
    "1. 2014\n",
    "2. 2008\n",
    "3. 2012\n",
    "4. 2010\n",
    "5. 2015"
   ]
  },
  {
   "cell_type": "code",
   "execution_count": 56,
   "metadata": {},
   "outputs": [
    {
     "data": {
      "text/html": [
       "<div>\n",
       "<style scoped>\n",
       "    .dataframe tbody tr th:only-of-type {\n",
       "        vertical-align: middle;\n",
       "    }\n",
       "\n",
       "    .dataframe tbody tr th {\n",
       "        vertical-align: top;\n",
       "    }\n",
       "\n",
       "    .dataframe thead th {\n",
       "        text-align: right;\n",
       "    }\n",
       "</style>\n",
       "<table border=\"1\" class=\"dataframe\">\n",
       "  <thead>\n",
       "    <tr style=\"text-align: right;\">\n",
       "      <th></th>\n",
       "      <th>gross_profit</th>\n",
       "    </tr>\n",
       "    <tr>\n",
       "      <th>release_year</th>\n",
       "      <th></th>\n",
       "    </tr>\n",
       "  </thead>\n",
       "  <tbody>\n",
       "    <tr>\n",
       "      <th>2014</th>\n",
       "      <td>2295464519</td>\n",
       "    </tr>\n",
       "  </tbody>\n",
       "</table>\n",
       "</div>"
      ],
      "text/plain": [
       "              gross_profit\n",
       "release_year              \n",
       "2014            2295464519"
      ]
     },
     "metadata": {},
     "output_type": "display_data"
    }
   ],
   "source": [
    "warner_movies = data[data['production_companies'].apply(lambda companies: 'Warner Bros' in companies)]\n",
    "display(warner_movies[['release_year', 'gross_profit']].groupby(['release_year']).sum().sort_values(by=['gross_profit'], ascending=False).head(1))"
   ]
  },
  {
   "cell_type": "code",
   "execution_count": 57,
   "metadata": {},
   "outputs": [],
   "source": [
    "answer_ls.append(1)"
   ]
  },
  {
   "cell_type": "markdown",
   "metadata": {},
   "source": [
    "# 27. В каком месяце за все годы суммарно вышло больше всего фильмов?\n",
    "Варианты ответа:\n",
    "1. Январь\n",
    "2. Июнь\n",
    "3. Декабрь\n",
    "4. Сентябрь\n",
    "5. Май"
   ]
  },
  {
   "cell_type": "code",
   "execution_count": 58,
   "metadata": {},
   "outputs": [
    {
     "data": {
      "text/plain": [
       "9    227\n",
       "Name: release_month, dtype: int64"
      ]
     },
     "metadata": {},
     "output_type": "display_data"
    }
   ],
   "source": [
    "display(data['release_month'].value_counts().head(1))"
   ]
  },
  {
   "cell_type": "code",
   "execution_count": 59,
   "metadata": {},
   "outputs": [],
   "source": [
    "answer_ls.append(4)"
   ]
  },
  {
   "cell_type": "markdown",
   "metadata": {},
   "source": [
    "# 28. Сколько суммарно вышло фильмов летом (за июнь, июль, август)?\n",
    "Варианты ответа:\n",
    "1. 345\n",
    "2. 450\n",
    "3. 478\n",
    "4. 523\n",
    "5. 381"
   ]
  },
  {
   "cell_type": "code",
   "execution_count": 60,
   "metadata": {},
   "outputs": [
    {
     "data": {
      "text/plain": [
       "450"
      ]
     },
     "execution_count": 60,
     "metadata": {},
     "output_type": "execute_result"
    }
   ],
   "source": [
    "len(data[(data['release_month'].isin([6, 7, 8]))])"
   ]
  },
  {
   "cell_type": "code",
   "execution_count": 61,
   "metadata": {},
   "outputs": [],
   "source": [
    "answer_ls.append(2)"
   ]
  },
  {
   "cell_type": "markdown",
   "metadata": {},
   "source": [
    "# 29. Какой режиссер выпускает (суммарно по годам) больше всего фильмов зимой?\n",
    "Варианты ответов:\n",
    "1. Steven Soderbergh\n",
    "2. Christopher Nolan\n",
    "3. Clint Eastwood\n",
    "4. Ridley Scott\n",
    "5. Peter Jackson"
   ]
  },
  {
   "cell_type": "code",
   "execution_count": 62,
   "metadata": {},
   "outputs": [
    {
     "data": {
      "text/plain": [
       "Peter Jackson    7\n",
       "Name: directors, dtype: int64"
      ]
     },
     "metadata": {},
     "output_type": "display_data"
    }
   ],
   "source": [
    "display(data[(data['release_month'].isin([12,1,2]))][['directors', 'release_month']].explode('directors')['directors'].value_counts().head(1))"
   ]
  },
  {
   "cell_type": "code",
   "execution_count": 63,
   "metadata": {},
   "outputs": [],
   "source": [
    "answer_ls.append(5)"
   ]
  },
  {
   "cell_type": "markdown",
   "metadata": {},
   "source": [
    "# 30. Какой месяц чаще всего самый прибыльный в году?\n",
    "> Почему нужно считать по годам, а не просто взять самый прибыльный месяц за весь период? Киноиндустрия активно развивается, прибыль компаний растет с каждым годом (например, в 2014 г. индустрия заработала в 2 раза больше, чем в 2004). Поэтому прибыльность более поздних месяцев будет значительно перевешивать предыдущие, что может привести к искажению выводов.\n",
    "Варианты ответа:\n",
    "1. Январь\n",
    "2. Июнь\n",
    "3. Декабрь\n",
    "4. Сентябрь\n",
    "5. Май"
   ]
  },
  {
   "cell_type": "code",
   "execution_count": 64,
   "metadata": {},
   "outputs": [
    {
     "data": {
      "text/html": [
       "<div>\n",
       "<style scoped>\n",
       "    .dataframe tbody tr th:only-of-type {\n",
       "        vertical-align: middle;\n",
       "    }\n",
       "\n",
       "    .dataframe tbody tr th {\n",
       "        vertical-align: top;\n",
       "    }\n",
       "\n",
       "    .dataframe thead th {\n",
       "        text-align: right;\n",
       "    }\n",
       "</style>\n",
       "<table border=\"1\" class=\"dataframe\">\n",
       "  <thead>\n",
       "    <tr style=\"text-align: right;\">\n",
       "      <th></th>\n",
       "      <th>relative_month_profit</th>\n",
       "    </tr>\n",
       "    <tr>\n",
       "      <th>release_month</th>\n",
       "      <th></th>\n",
       "    </tr>\n",
       "  </thead>\n",
       "  <tbody>\n",
       "    <tr>\n",
       "      <th>12</th>\n",
       "      <td>2.356393</td>\n",
       "    </tr>\n",
       "  </tbody>\n",
       "</table>\n",
       "</div>"
      ],
      "text/plain": [
       "               relative_month_profit\n",
       "release_month                       \n",
       "12                          2.356393"
      ]
     },
     "metadata": {},
     "output_type": "display_data"
    }
   ],
   "source": [
    "profit_by_month = data[['release_year', 'release_month', 'gross_profit']].groupby(['release_year', 'release_month']).sum()\n",
    "\n",
    "profit_by_year = data[['release_year', 'gross_profit']].groupby(['release_year']).sum()\n",
    "\n",
    "profit_by_year_month = profit_by_month.merge(profit_by_year, on=['release_year'], right_index=True, suffixes=('_by_month', '_by_year'))\n",
    "profit_by_year_month['relative_month_profit'] = profit_by_year_month['gross_profit_by_month'] / profit_by_year_month['gross_profit_by_year']\n",
    "\n",
    "relative_profit_by_month = profit_by_year_month.reset_index()[['release_month', 'relative_month_profit']].groupby(['release_month']).sum()\n",
    "\n",
    "display(relative_profit_by_month.sort_values(by=['relative_month_profit'], ascending=False).head(1))"
   ]
  },
  {
   "cell_type": "code",
   "execution_count": 65,
   "metadata": {},
   "outputs": [],
   "source": [
    "answer_ls.append(3)"
   ]
  },
  {
   "cell_type": "markdown",
   "metadata": {},
   "source": [
    "# 31. Названия фильмов какой студии в среднем самые длинные по количеству символов?\n",
    "Варианты ответа:\n",
    "1. Universal Pictures (Universal)\n",
    "2. Warner Bros\n",
    "3. Jim Henson Company, The\n",
    "4. Paramount Pictures\n",
    "5. Four By Two Productions"
   ]
  },
  {
   "cell_type": "code",
   "execution_count": 66,
   "metadata": {},
   "outputs": [
    {
     "data": {
      "text/html": [
       "<div>\n",
       "<style scoped>\n",
       "    .dataframe tbody tr th:only-of-type {\n",
       "        vertical-align: middle;\n",
       "    }\n",
       "\n",
       "    .dataframe tbody tr th {\n",
       "        vertical-align: top;\n",
       "    }\n",
       "\n",
       "    .dataframe thead th {\n",
       "        text-align: right;\n",
       "    }\n",
       "</style>\n",
       "<table border=\"1\" class=\"dataframe\">\n",
       "  <thead>\n",
       "    <tr style=\"text-align: right;\">\n",
       "      <th></th>\n",
       "      <th>original_title_lenght</th>\n",
       "    </tr>\n",
       "    <tr>\n",
       "      <th>production_companies_list</th>\n",
       "      <th></th>\n",
       "    </tr>\n",
       "  </thead>\n",
       "  <tbody>\n",
       "    <tr>\n",
       "      <th>Four By Two Productions</th>\n",
       "      <td>83.0</td>\n",
       "    </tr>\n",
       "  </tbody>\n",
       "</table>\n",
       "</div>"
      ],
      "text/plain": [
       "                           original_title_lenght\n",
       "production_companies_list                       \n",
       "Four By Two Productions                     83.0"
      ]
     },
     "metadata": {},
     "output_type": "display_data"
    }
   ],
   "source": [
    "data['original_title_lenght'] = data['original_title'].apply(len)\n",
    "\n",
    "movie_by_company = data[['original_title_lenght', 'production_companies_list']].explode('production_companies_list')\n",
    "\n",
    "display(movie_by_company.groupby(['production_companies_list']).mean().sort_values(by=['original_title_lenght'], ascending=False).head(1))"
   ]
  },
  {
   "cell_type": "code",
   "execution_count": 67,
   "metadata": {},
   "outputs": [],
   "source": [
    "answer_ls.append(5)"
   ]
  },
  {
   "cell_type": "markdown",
   "metadata": {},
   "source": [
    "# 32. Названия фильмов какой студии в среднем самые длинные по количеству слов?\n",
    "Варианты ответа:\n",
    "1. Universal Pictures (Universal)\n",
    "2. Warner Bros\n",
    "3. Jim Henson Company, The\n",
    "4. Paramount Pictures\n",
    "5. Four By Two Productions"
   ]
  },
  {
   "cell_type": "code",
   "execution_count": 68,
   "metadata": {},
   "outputs": [
    {
     "data": {
      "text/html": [
       "<div>\n",
       "<style scoped>\n",
       "    .dataframe tbody tr th:only-of-type {\n",
       "        vertical-align: middle;\n",
       "    }\n",
       "\n",
       "    .dataframe tbody tr th {\n",
       "        vertical-align: top;\n",
       "    }\n",
       "\n",
       "    .dataframe thead th {\n",
       "        text-align: right;\n",
       "    }\n",
       "</style>\n",
       "<table border=\"1\" class=\"dataframe\">\n",
       "  <thead>\n",
       "    <tr style=\"text-align: right;\">\n",
       "      <th></th>\n",
       "      <th>original_title_word_count</th>\n",
       "    </tr>\n",
       "    <tr>\n",
       "      <th>production_companies_list</th>\n",
       "      <th></th>\n",
       "    </tr>\n",
       "  </thead>\n",
       "  <tbody>\n",
       "    <tr>\n",
       "      <th>Four By Two Productions</th>\n",
       "      <td>12.0</td>\n",
       "    </tr>\n",
       "  </tbody>\n",
       "</table>\n",
       "</div>"
      ],
      "text/plain": [
       "                           original_title_word_count\n",
       "production_companies_list                           \n",
       "Four By Two Productions                         12.0"
      ]
     },
     "metadata": {},
     "output_type": "display_data"
    }
   ],
   "source": [
    "data['original_title_word_count'] = data['original_title'].apply(lambda t: len(t.split()))\n",
    "\n",
    "movie_by_company = data[['original_title_word_count', 'production_companies_list']].explode('production_companies_list')\n",
    "\n",
    "display(movie_by_company.groupby(['production_companies_list']).mean().sort_values(by=['original_title_word_count'], ascending=False).head(1))"
   ]
  },
  {
   "cell_type": "code",
   "execution_count": 69,
   "metadata": {},
   "outputs": [],
   "source": [
    "answer_ls.append(5)"
   ]
  },
  {
   "cell_type": "markdown",
   "metadata": {},
   "source": [
    "# 33. Сколько разных слов используется в названиях фильмов (без учета регистра)?\n",
    "Варианты ответа:\n",
    "1. 6540\n",
    "2. 1002\n",
    "3. 2461\n",
    "4. 28304\n",
    "5. 3432"
   ]
  },
  {
   "cell_type": "code",
   "execution_count": 70,
   "metadata": {},
   "outputs": [
    {
     "data": {
      "text/plain": [
       "2461"
      ]
     },
     "execution_count": 70,
     "metadata": {},
     "output_type": "execute_result"
    }
   ],
   "source": [
    "len(data['original_title'].apply(lambda t: [w.upper() for w in t.split()]).explode().unique())"
   ]
  },
  {
   "cell_type": "code",
   "execution_count": 71,
   "metadata": {},
   "outputs": [],
   "source": [
    "answer_ls.append(3)"
   ]
  },
  {
   "cell_type": "markdown",
   "metadata": {},
   "source": [
    "# 34. Какие фильмы входят в 1 % лучших по рейтингу?\n",
    "Варианты ответа:\n",
    "1. Inside Out, Gone Girl, 12 Years a Slave\n",
    "2. BloodRayne, The Adventures of Rocky & Bullwinkle\n",
    "3. The Lord of the Rings: The Return of the King\n",
    "4. 300, Lucky Number Slevin"
   ]
  },
  {
   "cell_type": "code",
   "execution_count": 72,
   "metadata": {},
   "outputs": [
    {
     "data": {
      "text/html": [
       "<div>\n",
       "<style scoped>\n",
       "    .dataframe tbody tr th:only-of-type {\n",
       "        vertical-align: middle;\n",
       "    }\n",
       "\n",
       "    .dataframe tbody tr th {\n",
       "        vertical-align: top;\n",
       "    }\n",
       "\n",
       "    .dataframe thead th {\n",
       "        text-align: right;\n",
       "    }\n",
       "</style>\n",
       "<table border=\"1\" class=\"dataframe\">\n",
       "  <thead>\n",
       "    <tr style=\"text-align: right;\">\n",
       "      <th></th>\n",
       "      <th>original_title</th>\n",
       "      <th>vote_average</th>\n",
       "    </tr>\n",
       "  </thead>\n",
       "  <tbody>\n",
       "    <tr>\n",
       "      <th>9</th>\n",
       "      <td>Inside Out</td>\n",
       "      <td>8.0</td>\n",
       "    </tr>\n",
       "    <tr>\n",
       "      <th>34</th>\n",
       "      <td>Room</td>\n",
       "      <td>8.0</td>\n",
       "    </tr>\n",
       "    <tr>\n",
       "      <th>118</th>\n",
       "      <td>Interstellar</td>\n",
       "      <td>8.0</td>\n",
       "    </tr>\n",
       "    <tr>\n",
       "      <th>119</th>\n",
       "      <td>Guardians of the Galaxy</td>\n",
       "      <td>7.9</td>\n",
       "    </tr>\n",
       "    <tr>\n",
       "      <th>125</th>\n",
       "      <td>The Imitation Game</td>\n",
       "      <td>8.0</td>\n",
       "    </tr>\n",
       "    <tr>\n",
       "      <th>128</th>\n",
       "      <td>Gone Girl</td>\n",
       "      <td>7.9</td>\n",
       "    </tr>\n",
       "    <tr>\n",
       "      <th>138</th>\n",
       "      <td>The Grand Budapest Hotel</td>\n",
       "      <td>7.9</td>\n",
       "    </tr>\n",
       "    <tr>\n",
       "      <th>370</th>\n",
       "      <td>Inception</td>\n",
       "      <td>7.9</td>\n",
       "    </tr>\n",
       "    <tr>\n",
       "      <th>600</th>\n",
       "      <td>The Dark Knight</td>\n",
       "      <td>8.1</td>\n",
       "    </tr>\n",
       "    <tr>\n",
       "      <th>873</th>\n",
       "      <td>The Pianist</td>\n",
       "      <td>7.9</td>\n",
       "    </tr>\n",
       "    <tr>\n",
       "      <th>1082</th>\n",
       "      <td>The Lord of the Rings: The Return of the King</td>\n",
       "      <td>7.9</td>\n",
       "    </tr>\n",
       "    <tr>\n",
       "      <th>1184</th>\n",
       "      <td>The Wolf of Wall Street</td>\n",
       "      <td>7.9</td>\n",
       "    </tr>\n",
       "    <tr>\n",
       "      <th>1192</th>\n",
       "      <td>12 Years a Slave</td>\n",
       "      <td>7.9</td>\n",
       "    </tr>\n",
       "    <tr>\n",
       "      <th>1801</th>\n",
       "      <td>Memento</td>\n",
       "      <td>7.9</td>\n",
       "    </tr>\n",
       "  </tbody>\n",
       "</table>\n",
       "</div>"
      ],
      "text/plain": [
       "                                     original_title  vote_average\n",
       "9                                        Inside Out           8.0\n",
       "34                                             Room           8.0\n",
       "118                                    Interstellar           8.0\n",
       "119                         Guardians of the Galaxy           7.9\n",
       "125                              The Imitation Game           8.0\n",
       "128                                       Gone Girl           7.9\n",
       "138                        The Grand Budapest Hotel           7.9\n",
       "370                                       Inception           7.9\n",
       "600                                 The Dark Knight           8.1\n",
       "873                                     The Pianist           7.9\n",
       "1082  The Lord of the Rings: The Return of the King           7.9\n",
       "1184                        The Wolf of Wall Street           7.9\n",
       "1192                               12 Years a Slave           7.9\n",
       "1801                                        Memento           7.9"
      ]
     },
     "metadata": {},
     "output_type": "display_data"
    }
   ],
   "source": [
    "display(data[['original_title', 'vote_average']][data['vote_average'] > data.quantile(0.99, numeric_only=True)['vote_average']])"
   ]
  },
  {
   "cell_type": "code",
   "execution_count": 73,
   "metadata": {},
   "outputs": [],
   "source": [
    "answer_ls.append(1)"
   ]
  },
  {
   "cell_type": "markdown",
   "metadata": {},
   "source": [
    "# 35. Какие актеры чаще всего снимаются в одном фильме вместе?\n",
    "Варианты ответа:\n",
    "1. Johnny Depp & Helena Bonham Carter\n",
    "2. Hugh Jackman & Ian McKellen\n",
    "3. Vin Diesel & Paul Walker\n",
    "4. Adam Sandler & Kevin James\n",
    "5. Daniel Radcliffe & Rupert Grint"
   ]
  },
  {
   "cell_type": "code",
   "execution_count": 74,
   "metadata": {},
   "outputs": [
    {
     "data": {
      "text/plain": [
       "Daniel Radcliffe & Rupert Grint       16\n",
       "Emma Watson & Rupert Grint            16\n",
       "Daniel Radcliffe & Emma Watson        16\n",
       "Ben Stiller & Owen Wilson             12\n",
       "Helena Bonham Carter & Johnny Depp    12\n",
       "Name: pair, dtype: int64"
      ]
     },
     "metadata": {},
     "output_type": "display_data"
    }
   ],
   "source": [
    "actor_by_movie = data[['actors', 'original_title']].explode('actors')\n",
    "\n",
    "actor_pairs = actor_by_movie.merge(\n",
    "    actor_by_movie, on=['original_title'], suffixes=('_left', '_right')\n",
    ")[['actors_left', 'actors_right']].query(\n",
    "    'actors_left != actors_right'\n",
    ")\n",
    "\n",
    "def build_a_pair(l):\n",
    "    l.sort()\n",
    "    return ' & '.join(l)\n",
    "\n",
    "actor_pairs['pair'] = actor_pairs[['actors_left', 'actors_right']].values.tolist()\n",
    "display(actor_pairs['pair'].apply(build_a_pair).value_counts().head(5))"
   ]
  },
  {
   "cell_type": "code",
   "execution_count": 75,
   "metadata": {},
   "outputs": [],
   "source": [
    "answer_ls.append(5)"
   ]
  },
  {
   "cell_type": "markdown",
   "metadata": {},
   "source": [
    "# 36. У какого из режиссеров самый высокий процент фильмов со сборами выше бюджета?\n",
    "Варианты ответа:\n",
    "1. Quentin Tarantino\n",
    "2. Steven Soderbergh\n",
    "3. Robert Rodriguez\n",
    "4. Christopher Nolan\n",
    "5. Clint Eastwood"
   ]
  },
  {
   "cell_type": "code",
   "execution_count": 76,
   "metadata": {},
   "outputs": [
    {
     "data": {
      "text/html": [
       "<div>\n",
       "<style scoped>\n",
       "    .dataframe tbody tr th:only-of-type {\n",
       "        vertical-align: middle;\n",
       "    }\n",
       "\n",
       "    .dataframe tbody tr th {\n",
       "        vertical-align: top;\n",
       "    }\n",
       "\n",
       "    .dataframe thead th {\n",
       "        text-align: right;\n",
       "    }\n",
       "</style>\n",
       "<table border=\"1\" class=\"dataframe\">\n",
       "  <thead>\n",
       "    <tr style=\"text-align: right;\">\n",
       "      <th></th>\n",
       "      <th>sum</th>\n",
       "      <th>count</th>\n",
       "      <th>percent</th>\n",
       "    </tr>\n",
       "    <tr>\n",
       "      <th>directors</th>\n",
       "      <th></th>\n",
       "      <th></th>\n",
       "      <th></th>\n",
       "    </tr>\n",
       "  </thead>\n",
       "  <tbody>\n",
       "    <tr>\n",
       "      <th>Christopher Nolan</th>\n",
       "      <td>8.0</td>\n",
       "      <td>8</td>\n",
       "      <td>1.000000</td>\n",
       "    </tr>\n",
       "    <tr>\n",
       "      <th>Quentin Tarantino</th>\n",
       "      <td>6.0</td>\n",
       "      <td>7</td>\n",
       "      <td>0.857143</td>\n",
       "    </tr>\n",
       "  </tbody>\n",
       "</table>\n",
       "</div>"
      ],
      "text/plain": [
       "                   sum  count   percent\n",
       "directors                              \n",
       "Christopher Nolan  8.0      8  1.000000\n",
       "Quentin Tarantino  6.0      7  0.857143"
      ]
     },
     "metadata": {},
     "output_type": "display_data"
    }
   ],
   "source": [
    "gross_profit_by_director = data[['directors', 'gross_profit']].explode('directors')\n",
    "gross_profit_by_director = gross_profit_by_director[\n",
    "    (\n",
    "        gross_profit_by_director['directors'].isin(\n",
    "            [\n",
    "                'Quentin Tarantino',\n",
    "                'Steven Soderbergh',\n",
    "                'Robert Rodriguez',\n",
    "                'Christopher Nolan',\n",
    "                'Clint Eastwood',\n",
    "            ]\n",
    "        )\n",
    "    )\n",
    "]\n",
    "\n",
    "\n",
    "gross_profit_by_director['profitable'] = gross_profit_by_director['gross_profit'].apply(lambda p: p > 0)\n",
    "\n",
    "successes = gross_profit_by_director[['directors', 'profitable']].groupby(\n",
    "    ['directors']\n",
    ").agg(\n",
    "    ['sum', 'count']\n",
    ")['profitable']\n",
    "\n",
    "successes['percent'] = successes['sum'] / successes['count']\n",
    "display(successes.sort_values(by=['percent'], ascending=False).head(2))"
   ]
  },
  {
   "cell_type": "code",
   "execution_count": 77,
   "metadata": {},
   "outputs": [],
   "source": [
    "answer_ls.append(4)"
   ]
  },
  {
   "cell_type": "markdown",
   "metadata": {},
   "source": [
    "# Submission"
   ]
  },
  {
   "cell_type": "code",
   "execution_count": 78,
   "metadata": {},
   "outputs": [
    {
     "data": {
      "text/plain": [
       "36"
      ]
     },
     "execution_count": 78,
     "metadata": {},
     "output_type": "execute_result"
    }
   ],
   "source": [
    "len(answer_ls)"
   ]
  },
  {
   "cell_type": "code",
   "execution_count": 79,
   "metadata": {},
   "outputs": [
    {
     "data": {
      "text/html": [
       "<div>\n",
       "<style scoped>\n",
       "    .dataframe tbody tr th:only-of-type {\n",
       "        vertical-align: middle;\n",
       "    }\n",
       "\n",
       "    .dataframe tbody tr th {\n",
       "        vertical-align: top;\n",
       "    }\n",
       "\n",
       "    .dataframe thead th {\n",
       "        text-align: right;\n",
       "    }\n",
       "</style>\n",
       "<table border=\"1\" class=\"dataframe\">\n",
       "  <thead>\n",
       "    <tr style=\"text-align: right;\">\n",
       "      <th></th>\n",
       "      <th>Answer</th>\n",
       "    </tr>\n",
       "  </thead>\n",
       "  <tbody>\n",
       "    <tr>\n",
       "      <th>1</th>\n",
       "      <td>4</td>\n",
       "    </tr>\n",
       "    <tr>\n",
       "      <th>2</th>\n",
       "      <td>2</td>\n",
       "    </tr>\n",
       "    <tr>\n",
       "      <th>3</th>\n",
       "      <td>3</td>\n",
       "    </tr>\n",
       "    <tr>\n",
       "      <th>4</th>\n",
       "      <td>2</td>\n",
       "    </tr>\n",
       "    <tr>\n",
       "      <th>5</th>\n",
       "      <td>1</td>\n",
       "    </tr>\n",
       "    <tr>\n",
       "      <th>6</th>\n",
       "      <td>5</td>\n",
       "    </tr>\n",
       "    <tr>\n",
       "      <th>7</th>\n",
       "      <td>5</td>\n",
       "    </tr>\n",
       "    <tr>\n",
       "      <th>8</th>\n",
       "      <td>1</td>\n",
       "    </tr>\n",
       "    <tr>\n",
       "      <th>9</th>\n",
       "      <td>4</td>\n",
       "    </tr>\n",
       "    <tr>\n",
       "      <th>10</th>\n",
       "      <td>1</td>\n",
       "    </tr>\n",
       "    <tr>\n",
       "      <th>11</th>\n",
       "      <td>1</td>\n",
       "    </tr>\n",
       "    <tr>\n",
       "      <th>12</th>\n",
       "      <td>1</td>\n",
       "    </tr>\n",
       "    <tr>\n",
       "      <th>13</th>\n",
       "      <td>4</td>\n",
       "    </tr>\n",
       "    <tr>\n",
       "      <th>14</th>\n",
       "      <td>2</td>\n",
       "    </tr>\n",
       "    <tr>\n",
       "      <th>15</th>\n",
       "      <td>5</td>\n",
       "    </tr>\n",
       "    <tr>\n",
       "      <th>16</th>\n",
       "      <td>1</td>\n",
       "    </tr>\n",
       "    <tr>\n",
       "      <th>17</th>\n",
       "      <td>3</td>\n",
       "    </tr>\n",
       "    <tr>\n",
       "      <th>18</th>\n",
       "      <td>3</td>\n",
       "    </tr>\n",
       "    <tr>\n",
       "      <th>19</th>\n",
       "      <td>2</td>\n",
       "    </tr>\n",
       "    <tr>\n",
       "      <th>20</th>\n",
       "      <td>1</td>\n",
       "    </tr>\n",
       "    <tr>\n",
       "      <th>21</th>\n",
       "      <td>4</td>\n",
       "    </tr>\n",
       "    <tr>\n",
       "      <th>22</th>\n",
       "      <td>2</td>\n",
       "    </tr>\n",
       "    <tr>\n",
       "      <th>23</th>\n",
       "      <td>3</td>\n",
       "    </tr>\n",
       "    <tr>\n",
       "      <th>24</th>\n",
       "      <td>1</td>\n",
       "    </tr>\n",
       "    <tr>\n",
       "      <th>25</th>\n",
       "      <td>5</td>\n",
       "    </tr>\n",
       "    <tr>\n",
       "      <th>26</th>\n",
       "      <td>1</td>\n",
       "    </tr>\n",
       "    <tr>\n",
       "      <th>27</th>\n",
       "      <td>4</td>\n",
       "    </tr>\n",
       "    <tr>\n",
       "      <th>28</th>\n",
       "      <td>2</td>\n",
       "    </tr>\n",
       "    <tr>\n",
       "      <th>29</th>\n",
       "      <td>5</td>\n",
       "    </tr>\n",
       "    <tr>\n",
       "      <th>30</th>\n",
       "      <td>3</td>\n",
       "    </tr>\n",
       "    <tr>\n",
       "      <th>31</th>\n",
       "      <td>5</td>\n",
       "    </tr>\n",
       "    <tr>\n",
       "      <th>32</th>\n",
       "      <td>5</td>\n",
       "    </tr>\n",
       "    <tr>\n",
       "      <th>33</th>\n",
       "      <td>3</td>\n",
       "    </tr>\n",
       "    <tr>\n",
       "      <th>34</th>\n",
       "      <td>1</td>\n",
       "    </tr>\n",
       "    <tr>\n",
       "      <th>35</th>\n",
       "      <td>5</td>\n",
       "    </tr>\n",
       "    <tr>\n",
       "      <th>36</th>\n",
       "      <td>4</td>\n",
       "    </tr>\n",
       "  </tbody>\n",
       "</table>\n",
       "</div>"
      ],
      "text/plain": [
       "    Answer\n",
       "1        4\n",
       "2        2\n",
       "3        3\n",
       "4        2\n",
       "5        1\n",
       "6        5\n",
       "7        5\n",
       "8        1\n",
       "9        4\n",
       "10       1\n",
       "11       1\n",
       "12       1\n",
       "13       4\n",
       "14       2\n",
       "15       5\n",
       "16       1\n",
       "17       3\n",
       "18       3\n",
       "19       2\n",
       "20       1\n",
       "21       4\n",
       "22       2\n",
       "23       3\n",
       "24       1\n",
       "25       5\n",
       "26       1\n",
       "27       4\n",
       "28       2\n",
       "29       5\n",
       "30       3\n",
       "31       5\n",
       "32       5\n",
       "33       3\n",
       "34       1\n",
       "35       5\n",
       "36       4"
      ]
     },
     "execution_count": 79,
     "metadata": {},
     "output_type": "execute_result"
    }
   ],
   "source": [
    "pd.DataFrame({'Answer':answer_ls}, index=range(1,len(answer_ls)+1))"
   ]
  }
 ],
 "metadata": {
  "kernelspec": {
   "display_name": "Python 3",
   "language": "python",
   "name": "python3"
  },
  "language_info": {
   "codemirror_mode": {
    "name": "ipython",
    "version": 3
   },
   "file_extension": ".py",
   "mimetype": "text/x-python",
   "name": "python",
   "nbconvert_exporter": "python",
   "pygments_lexer": "ipython3",
   "version": "3.7.6"
  }
 },
 "nbformat": 4,
 "nbformat_minor": 4
}
