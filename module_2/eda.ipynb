{
 "cells": [
  {
   "cell_type": "code",
   "execution_count": 1,
   "metadata": {},
   "outputs": [],
   "source": [
    "import pandas as pd\n",
    "import matplotlib.pyplot as plt\n",
    "import seaborn as sns\n",
    "from itertools import combinations\n",
    "from scipy.stats import ttest_ind\n",
    "\n",
    "import seaborn as sns\n",
    "%matplotlib inline\n",
    "\n",
    "pd.set_option('display.max_rows', 50) # показывать больше строк\n",
    "pd.set_option('display.max_columns', 50) # показывать больше колонок\n",
    "\n",
    "cacao = pd.read_csv('cacao_flavors.csv', na_values=u'\\xa0')"
   ]
  },
  {
   "cell_type": "code",
   "execution_count": 2,
   "metadata": {},
   "outputs": [
    {
     "data": {
      "text/html": [
       "<div>\n",
       "<style scoped>\n",
       "    .dataframe tbody tr th:only-of-type {\n",
       "        vertical-align: middle;\n",
       "    }\n",
       "\n",
       "    .dataframe tbody tr th {\n",
       "        vertical-align: top;\n",
       "    }\n",
       "\n",
       "    .dataframe thead th {\n",
       "        text-align: right;\n",
       "    }\n",
       "</style>\n",
       "<table border=\"1\" class=\"dataframe\">\n",
       "  <thead>\n",
       "    <tr style=\"text-align: right;\">\n",
       "      <th></th>\n",
       "      <th>Bar id</th>\n",
       "      <th>Company \\n(Maker-if known)</th>\n",
       "      <th>Specific Bean Origin\\nor Bar Name</th>\n",
       "      <th>REF</th>\n",
       "      <th>Review\\nDate</th>\n",
       "      <th>Cocoa\\nPercent</th>\n",
       "      <th>Company\\nLocation</th>\n",
       "      <th>Rating</th>\n",
       "      <th>Bean\\nType</th>\n",
       "      <th>Broad Bean\\nOrigin</th>\n",
       "    </tr>\n",
       "  </thead>\n",
       "  <tbody>\n",
       "    <tr>\n",
       "      <th>0</th>\n",
       "      <td>1</td>\n",
       "      <td>A. Morin</td>\n",
       "      <td>Agua Grande</td>\n",
       "      <td>1876</td>\n",
       "      <td>2016</td>\n",
       "      <td>63%</td>\n",
       "      <td>France</td>\n",
       "      <td>11.50</td>\n",
       "      <td>NaN</td>\n",
       "      <td>Sao Tome</td>\n",
       "    </tr>\n",
       "    <tr>\n",
       "      <th>1</th>\n",
       "      <td>2</td>\n",
       "      <td>A. Morin</td>\n",
       "      <td>Kpime</td>\n",
       "      <td>1676</td>\n",
       "      <td>2015</td>\n",
       "      <td>70%</td>\n",
       "      <td>France</td>\n",
       "      <td>2.75</td>\n",
       "      <td>NaN</td>\n",
       "      <td>Togo</td>\n",
       "    </tr>\n",
       "    <tr>\n",
       "      <th>2</th>\n",
       "      <td>3</td>\n",
       "      <td>A. Morin</td>\n",
       "      <td>Atsane</td>\n",
       "      <td>1676</td>\n",
       "      <td>2015</td>\n",
       "      <td>670%</td>\n",
       "      <td>France</td>\n",
       "      <td>3.00</td>\n",
       "      <td>NaN</td>\n",
       "      <td>Togo</td>\n",
       "    </tr>\n",
       "    <tr>\n",
       "      <th>3</th>\n",
       "      <td>4</td>\n",
       "      <td>A. Morin</td>\n",
       "      <td>Akata</td>\n",
       "      <td>1680</td>\n",
       "      <td>2015</td>\n",
       "      <td>70%</td>\n",
       "      <td>France</td>\n",
       "      <td>3.50</td>\n",
       "      <td>NaN</td>\n",
       "      <td>Togo</td>\n",
       "    </tr>\n",
       "    <tr>\n",
       "      <th>4</th>\n",
       "      <td>5</td>\n",
       "      <td>A. Morin</td>\n",
       "      <td>Quilla</td>\n",
       "      <td>1704</td>\n",
       "      <td>2015</td>\n",
       "      <td>70%</td>\n",
       "      <td>France</td>\n",
       "      <td>3.50</td>\n",
       "      <td>NaN</td>\n",
       "      <td>Peru</td>\n",
       "    </tr>\n",
       "  </tbody>\n",
       "</table>\n",
       "</div>"
      ],
      "text/plain": [
       "   Bar id Company \\n(Maker-if known) Specific Bean Origin\\nor Bar Name   REF  \\\n",
       "0       1                   A. Morin                       Agua Grande  1876   \n",
       "1       2                   A. Morin                             Kpime  1676   \n",
       "2       3                   A. Morin                            Atsane  1676   \n",
       "3       4                   A. Morin                             Akata  1680   \n",
       "4       5                   A. Morin                            Quilla  1704   \n",
       "\n",
       "   Review\\nDate Cocoa\\nPercent Company\\nLocation  Rating Bean\\nType  \\\n",
       "0          2016            63%            France   11.50        NaN   \n",
       "1          2015            70%            France    2.75        NaN   \n",
       "2          2015           670%            France    3.00        NaN   \n",
       "3          2015            70%            France    3.50        NaN   \n",
       "4          2015            70%            France    3.50        NaN   \n",
       "\n",
       "  Broad Bean\\nOrigin  \n",
       "0           Sao Tome  \n",
       "1               Togo  \n",
       "2               Togo  \n",
       "3               Togo  \n",
       "4               Peru  "
      ]
     },
     "execution_count": 2,
     "metadata": {},
     "output_type": "execute_result"
    }
   ],
   "source": [
    "cacao.head()"
   ]
  },
  {
   "cell_type": "code",
   "execution_count": 3,
   "metadata": {},
   "outputs": [
    {
     "data": {
      "text/html": [
       "<div>\n",
       "<style scoped>\n",
       "    .dataframe tbody tr th:only-of-type {\n",
       "        vertical-align: middle;\n",
       "    }\n",
       "\n",
       "    .dataframe tbody tr th {\n",
       "        vertical-align: top;\n",
       "    }\n",
       "\n",
       "    .dataframe thead th {\n",
       "        text-align: right;\n",
       "    }\n",
       "</style>\n",
       "<table border=\"1\" class=\"dataframe\">\n",
       "  <thead>\n",
       "    <tr style=\"text-align: right;\">\n",
       "      <th></th>\n",
       "      <th>Bar id</th>\n",
       "      <th>Company (Maker-if known)</th>\n",
       "      <th>Specific Bean Origin or Bar Name</th>\n",
       "      <th>REF</th>\n",
       "      <th>Review Date</th>\n",
       "      <th>Cocoa Percent</th>\n",
       "      <th>Company Location</th>\n",
       "      <th>Rating</th>\n",
       "      <th>Bean Type</th>\n",
       "      <th>Broad Bean Origin</th>\n",
       "    </tr>\n",
       "  </thead>\n",
       "  <tbody>\n",
       "    <tr>\n",
       "      <th>0</th>\n",
       "      <td>1</td>\n",
       "      <td>A. Morin</td>\n",
       "      <td>Agua Grande</td>\n",
       "      <td>1876</td>\n",
       "      <td>2016</td>\n",
       "      <td>63%</td>\n",
       "      <td>France</td>\n",
       "      <td>11.50</td>\n",
       "      <td>NaN</td>\n",
       "      <td>Sao Tome</td>\n",
       "    </tr>\n",
       "    <tr>\n",
       "      <th>1</th>\n",
       "      <td>2</td>\n",
       "      <td>A. Morin</td>\n",
       "      <td>Kpime</td>\n",
       "      <td>1676</td>\n",
       "      <td>2015</td>\n",
       "      <td>70%</td>\n",
       "      <td>France</td>\n",
       "      <td>2.75</td>\n",
       "      <td>NaN</td>\n",
       "      <td>Togo</td>\n",
       "    </tr>\n",
       "    <tr>\n",
       "      <th>2</th>\n",
       "      <td>3</td>\n",
       "      <td>A. Morin</td>\n",
       "      <td>Atsane</td>\n",
       "      <td>1676</td>\n",
       "      <td>2015</td>\n",
       "      <td>670%</td>\n",
       "      <td>France</td>\n",
       "      <td>3.00</td>\n",
       "      <td>NaN</td>\n",
       "      <td>Togo</td>\n",
       "    </tr>\n",
       "    <tr>\n",
       "      <th>3</th>\n",
       "      <td>4</td>\n",
       "      <td>A. Morin</td>\n",
       "      <td>Akata</td>\n",
       "      <td>1680</td>\n",
       "      <td>2015</td>\n",
       "      <td>70%</td>\n",
       "      <td>France</td>\n",
       "      <td>3.50</td>\n",
       "      <td>NaN</td>\n",
       "      <td>Togo</td>\n",
       "    </tr>\n",
       "    <tr>\n",
       "      <th>4</th>\n",
       "      <td>5</td>\n",
       "      <td>A. Morin</td>\n",
       "      <td>Quilla</td>\n",
       "      <td>1704</td>\n",
       "      <td>2015</td>\n",
       "      <td>70%</td>\n",
       "      <td>France</td>\n",
       "      <td>3.50</td>\n",
       "      <td>NaN</td>\n",
       "      <td>Peru</td>\n",
       "    </tr>\n",
       "  </tbody>\n",
       "</table>\n",
       "</div>"
      ],
      "text/plain": [
       "   Bar id Company (Maker-if known) Specific Bean Origin or Bar Name   REF  \\\n",
       "0       1                 A. Morin                      Agua Grande  1876   \n",
       "1       2                 A. Morin                            Kpime  1676   \n",
       "2       3                 A. Morin                           Atsane  1676   \n",
       "3       4                 A. Morin                            Akata  1680   \n",
       "4       5                 A. Morin                           Quilla  1704   \n",
       "\n",
       "   Review Date Cocoa Percent Company Location  Rating Bean Type  \\\n",
       "0         2016           63%           France   11.50       NaN   \n",
       "1         2015           70%           France    2.75       NaN   \n",
       "2         2015          670%           France    3.00       NaN   \n",
       "3         2015           70%           France    3.50       NaN   \n",
       "4         2015           70%           France    3.50       NaN   \n",
       "\n",
       "  Broad Bean Origin  \n",
       "0          Sao Tome  \n",
       "1              Togo  \n",
       "2              Togo  \n",
       "3              Togo  \n",
       "4              Peru  "
      ]
     },
     "execution_count": 3,
     "metadata": {},
     "output_type": "execute_result"
    }
   ],
   "source": [
    "import re\n",
    "\n",
    "fixed_column_names = [re.sub(r'\\s+', ' ', n, flags=re.UNICODE) for n in list(cacao.columns)]\n",
    "cacao.columns = fixed_column_names\n",
    "cacao.head()"
   ]
  },
  {
   "cell_type": "code",
   "execution_count": 4,
   "metadata": {},
   "outputs": [
    {
     "data": {
      "text/html": [
       "<div>\n",
       "<style scoped>\n",
       "    .dataframe tbody tr th:only-of-type {\n",
       "        vertical-align: middle;\n",
       "    }\n",
       "\n",
       "    .dataframe tbody tr th {\n",
       "        vertical-align: top;\n",
       "    }\n",
       "\n",
       "    .dataframe thead th {\n",
       "        text-align: right;\n",
       "    }\n",
       "</style>\n",
       "<table border=\"1\" class=\"dataframe\">\n",
       "  <thead>\n",
       "    <tr style=\"text-align: right;\">\n",
       "      <th></th>\n",
       "      <th>Bar id</th>\n",
       "      <th>REF</th>\n",
       "      <th>Review Date</th>\n",
       "      <th>Rating</th>\n",
       "    </tr>\n",
       "  </thead>\n",
       "  <tbody>\n",
       "    <tr>\n",
       "      <th>count</th>\n",
       "      <td>1795.000000</td>\n",
       "      <td>1795.000000</td>\n",
       "      <td>1795.000000</td>\n",
       "      <td>1795.000000</td>\n",
       "    </tr>\n",
       "    <tr>\n",
       "      <th>mean</th>\n",
       "      <td>898.000000</td>\n",
       "      <td>1035.904735</td>\n",
       "      <td>2012.325348</td>\n",
       "      <td>3.422981</td>\n",
       "    </tr>\n",
       "    <tr>\n",
       "      <th>std</th>\n",
       "      <td>518.316184</td>\n",
       "      <td>552.886365</td>\n",
       "      <td>2.927210</td>\n",
       "      <td>1.750584</td>\n",
       "    </tr>\n",
       "    <tr>\n",
       "      <th>min</th>\n",
       "      <td>1.000000</td>\n",
       "      <td>5.000000</td>\n",
       "      <td>2006.000000</td>\n",
       "      <td>1.000000</td>\n",
       "    </tr>\n",
       "    <tr>\n",
       "      <th>25%</th>\n",
       "      <td>449.500000</td>\n",
       "      <td>576.000000</td>\n",
       "      <td>2010.000000</td>\n",
       "      <td>3.000000</td>\n",
       "    </tr>\n",
       "    <tr>\n",
       "      <th>50%</th>\n",
       "      <td>898.000000</td>\n",
       "      <td>1069.000000</td>\n",
       "      <td>2013.000000</td>\n",
       "      <td>3.250000</td>\n",
       "    </tr>\n",
       "    <tr>\n",
       "      <th>75%</th>\n",
       "      <td>1346.500000</td>\n",
       "      <td>1502.000000</td>\n",
       "      <td>2015.000000</td>\n",
       "      <td>3.500000</td>\n",
       "    </tr>\n",
       "    <tr>\n",
       "      <th>max</th>\n",
       "      <td>1795.000000</td>\n",
       "      <td>1952.000000</td>\n",
       "      <td>2017.000000</td>\n",
       "      <td>19.750000</td>\n",
       "    </tr>\n",
       "  </tbody>\n",
       "</table>\n",
       "</div>"
      ],
      "text/plain": [
       "            Bar id          REF  Review Date       Rating\n",
       "count  1795.000000  1795.000000  1795.000000  1795.000000\n",
       "mean    898.000000  1035.904735  2012.325348     3.422981\n",
       "std     518.316184   552.886365     2.927210     1.750584\n",
       "min       1.000000     5.000000  2006.000000     1.000000\n",
       "25%     449.500000   576.000000  2010.000000     3.000000\n",
       "50%     898.000000  1069.000000  2013.000000     3.250000\n",
       "75%    1346.500000  1502.000000  2015.000000     3.500000\n",
       "max    1795.000000  1952.000000  2017.000000    19.750000"
      ]
     },
     "execution_count": 4,
     "metadata": {},
     "output_type": "execute_result"
    }
   ],
   "source": [
    "cacao.describe()"
   ]
  },
  {
   "cell_type": "code",
   "execution_count": 5,
   "metadata": {},
   "outputs": [
    {
     "name": "stdout",
     "output_type": "stream",
     "text": [
      "<class 'pandas.core.frame.DataFrame'>\n",
      "RangeIndex: 1795 entries, 0 to 1794\n",
      "Data columns (total 10 columns):\n",
      " #   Column                            Non-Null Count  Dtype  \n",
      "---  ------                            --------------  -----  \n",
      " 0   Bar id                            1795 non-null   int64  \n",
      " 1   Company (Maker-if known)          1696 non-null   object \n",
      " 2   Specific Bean Origin or Bar Name  1737 non-null   object \n",
      " 3   REF                               1795 non-null   int64  \n",
      " 4   Review Date                       1795 non-null   int64  \n",
      " 5   Cocoa Percent                     1795 non-null   object \n",
      " 6   Company Location                  1795 non-null   object \n",
      " 7   Rating                            1795 non-null   float64\n",
      " 8   Bean Type                         907 non-null    object \n",
      " 9   Broad Bean Origin                 1721 non-null   object \n",
      "dtypes: float64(1), int64(3), object(6)\n",
      "memory usage: 140.4+ KB\n"
     ]
    }
   ],
   "source": [
    "# Задание 2.2.1\n",
    "# Задание 2.2.2\n",
    "\n",
    "cacao.info()"
   ]
  },
  {
   "cell_type": "code",
   "execution_count": 6,
   "metadata": {},
   "outputs": [
    {
     "data": {
      "text/html": [
       "<div>\n",
       "<style scoped>\n",
       "    .dataframe tbody tr th:only-of-type {\n",
       "        vertical-align: middle;\n",
       "    }\n",
       "\n",
       "    .dataframe tbody tr th {\n",
       "        vertical-align: top;\n",
       "    }\n",
       "\n",
       "    .dataframe thead th {\n",
       "        text-align: right;\n",
       "    }\n",
       "</style>\n",
       "<table border=\"1\" class=\"dataframe\">\n",
       "  <thead>\n",
       "    <tr style=\"text-align: right;\">\n",
       "      <th></th>\n",
       "      <th>Bar id</th>\n",
       "      <th>Company (Maker-if known)</th>\n",
       "      <th>Specific Bean Origin or Bar Name</th>\n",
       "      <th>REF</th>\n",
       "      <th>Review Date</th>\n",
       "      <th>Cocoa Percent</th>\n",
       "      <th>Company Location</th>\n",
       "      <th>Rating</th>\n",
       "      <th>Bean Type</th>\n",
       "      <th>Broad Bean Origin</th>\n",
       "    </tr>\n",
       "  </thead>\n",
       "  <tbody>\n",
       "    <tr>\n",
       "      <th>0</th>\n",
       "      <td>1</td>\n",
       "      <td>A. Morin</td>\n",
       "      <td>Agua Grande</td>\n",
       "      <td>1876</td>\n",
       "      <td>2016</td>\n",
       "      <td>63%</td>\n",
       "      <td>France</td>\n",
       "      <td>11.50</td>\n",
       "      <td>NaN</td>\n",
       "      <td>Sao Tome</td>\n",
       "    </tr>\n",
       "    <tr>\n",
       "      <th>1</th>\n",
       "      <td>2</td>\n",
       "      <td>A. Morin</td>\n",
       "      <td>Kpime</td>\n",
       "      <td>1676</td>\n",
       "      <td>2015</td>\n",
       "      <td>70%</td>\n",
       "      <td>France</td>\n",
       "      <td>2.75</td>\n",
       "      <td>NaN</td>\n",
       "      <td>Togo</td>\n",
       "    </tr>\n",
       "    <tr>\n",
       "      <th>2</th>\n",
       "      <td>3</td>\n",
       "      <td>A. Morin</td>\n",
       "      <td>Atsane</td>\n",
       "      <td>1676</td>\n",
       "      <td>2015</td>\n",
       "      <td>670%</td>\n",
       "      <td>France</td>\n",
       "      <td>3.00</td>\n",
       "      <td>NaN</td>\n",
       "      <td>Togo</td>\n",
       "    </tr>\n",
       "    <tr>\n",
       "      <th>3</th>\n",
       "      <td>4</td>\n",
       "      <td>A. Morin</td>\n",
       "      <td>Akata</td>\n",
       "      <td>1680</td>\n",
       "      <td>2015</td>\n",
       "      <td>70%</td>\n",
       "      <td>France</td>\n",
       "      <td>3.50</td>\n",
       "      <td>NaN</td>\n",
       "      <td>Togo</td>\n",
       "    </tr>\n",
       "    <tr>\n",
       "      <th>4</th>\n",
       "      <td>5</td>\n",
       "      <td>A. Morin</td>\n",
       "      <td>Quilla</td>\n",
       "      <td>1704</td>\n",
       "      <td>2015</td>\n",
       "      <td>70%</td>\n",
       "      <td>France</td>\n",
       "      <td>3.50</td>\n",
       "      <td>NaN</td>\n",
       "      <td>Peru</td>\n",
       "    </tr>\n",
       "    <tr>\n",
       "      <th>...</th>\n",
       "      <td>...</td>\n",
       "      <td>...</td>\n",
       "      <td>...</td>\n",
       "      <td>...</td>\n",
       "      <td>...</td>\n",
       "      <td>...</td>\n",
       "      <td>...</td>\n",
       "      <td>...</td>\n",
       "      <td>...</td>\n",
       "      <td>...</td>\n",
       "    </tr>\n",
       "    <tr>\n",
       "      <th>1790</th>\n",
       "      <td>1791</td>\n",
       "      <td>Zotter</td>\n",
       "      <td>Peru</td>\n",
       "      <td>647</td>\n",
       "      <td>2011</td>\n",
       "      <td>70%</td>\n",
       "      <td>Austria</td>\n",
       "      <td>3.75</td>\n",
       "      <td>NaN</td>\n",
       "      <td>Peru</td>\n",
       "    </tr>\n",
       "    <tr>\n",
       "      <th>1791</th>\n",
       "      <td>1792</td>\n",
       "      <td>Zotter</td>\n",
       "      <td>Congo</td>\n",
       "      <td>749</td>\n",
       "      <td>2011</td>\n",
       "      <td>65%</td>\n",
       "      <td>Austria</td>\n",
       "      <td>3.00</td>\n",
       "      <td>Forastero</td>\n",
       "      <td>Congo</td>\n",
       "    </tr>\n",
       "    <tr>\n",
       "      <th>1792</th>\n",
       "      <td>1793</td>\n",
       "      <td>Zotter</td>\n",
       "      <td>Kerala State</td>\n",
       "      <td>749</td>\n",
       "      <td>2011</td>\n",
       "      <td>65%</td>\n",
       "      <td>Austria</td>\n",
       "      <td>3.50</td>\n",
       "      <td>Forastero</td>\n",
       "      <td>India</td>\n",
       "    </tr>\n",
       "    <tr>\n",
       "      <th>1793</th>\n",
       "      <td>1794</td>\n",
       "      <td>Zotter</td>\n",
       "      <td>Kerala State</td>\n",
       "      <td>781</td>\n",
       "      <td>2011</td>\n",
       "      <td>62%</td>\n",
       "      <td>Austria</td>\n",
       "      <td>3.25</td>\n",
       "      <td>NaN</td>\n",
       "      <td>India</td>\n",
       "    </tr>\n",
       "    <tr>\n",
       "      <th>1794</th>\n",
       "      <td>1795</td>\n",
       "      <td>Zotter</td>\n",
       "      <td>Brazil, Mitzi Blue</td>\n",
       "      <td>486</td>\n",
       "      <td>2010</td>\n",
       "      <td>65%</td>\n",
       "      <td>Austria</td>\n",
       "      <td>3.00</td>\n",
       "      <td>NaN</td>\n",
       "      <td>Brazil</td>\n",
       "    </tr>\n",
       "  </tbody>\n",
       "</table>\n",
       "<p>1795 rows × 10 columns</p>\n",
       "</div>"
      ],
      "text/plain": [
       "      Bar id Company (Maker-if known) Specific Bean Origin or Bar Name   REF  \\\n",
       "0          1                 A. Morin                      Agua Grande  1876   \n",
       "1          2                 A. Morin                            Kpime  1676   \n",
       "2          3                 A. Morin                           Atsane  1676   \n",
       "3          4                 A. Morin                            Akata  1680   \n",
       "4          5                 A. Morin                           Quilla  1704   \n",
       "...      ...                      ...                              ...   ...   \n",
       "1790    1791                   Zotter                             Peru   647   \n",
       "1791    1792                   Zotter                            Congo   749   \n",
       "1792    1793                   Zotter                     Kerala State   749   \n",
       "1793    1794                   Zotter                     Kerala State   781   \n",
       "1794    1795                   Zotter               Brazil, Mitzi Blue   486   \n",
       "\n",
       "      Review Date Cocoa Percent Company Location  Rating  Bean Type  \\\n",
       "0            2016           63%           France   11.50        NaN   \n",
       "1            2015           70%           France    2.75        NaN   \n",
       "2            2015          670%           France    3.00        NaN   \n",
       "3            2015           70%           France    3.50        NaN   \n",
       "4            2015           70%           France    3.50        NaN   \n",
       "...           ...           ...              ...     ...        ...   \n",
       "1790         2011           70%          Austria    3.75        NaN   \n",
       "1791         2011           65%          Austria    3.00  Forastero   \n",
       "1792         2011           65%          Austria    3.50  Forastero   \n",
       "1793         2011           62%          Austria    3.25        NaN   \n",
       "1794         2010           65%          Austria    3.00        NaN   \n",
       "\n",
       "     Broad Bean Origin  \n",
       "0             Sao Tome  \n",
       "1                 Togo  \n",
       "2                 Togo  \n",
       "3                 Togo  \n",
       "4                 Peru  \n",
       "...                ...  \n",
       "1790              Peru  \n",
       "1791             Congo  \n",
       "1792             India  \n",
       "1793             India  \n",
       "1794            Brazil  \n",
       "\n",
       "[1795 rows x 10 columns]"
      ]
     },
     "execution_count": 6,
     "metadata": {},
     "output_type": "execute_result"
    }
   ],
   "source": [
    "cacao"
   ]
  },
  {
   "cell_type": "code",
   "execution_count": 7,
   "metadata": {},
   "outputs": [
    {
     "name": "stdout",
     "output_type": "stream",
     "text": [
      "1795\n"
     ]
    },
    {
     "data": {
      "text/plain": [
       "[<matplotlib.lines.Line2D at 0x7fe771bf0990>]"
      ]
     },
     "execution_count": 7,
     "metadata": {},
     "output_type": "execute_result"
    },
    {
     "data": {
      "image/png": "[encoded data removed]",
      "text/plain": [
       "<Figure size 432x288 with 1 Axes>"
      ]
     },
     "metadata": {
      "needs_background": "light"
     },
     "output_type": "display_data"
    }
   ],
   "source": [
    "print(cacao['Bar id'].nunique())\n",
    "plt.plot(cacao.index)"
   ]
  },
  {
   "cell_type": "code",
   "execution_count": 8,
   "metadata": {},
   "outputs": [],
   "source": [
    "# вы 'Bar id' как индекс\n",
    "cacao = cacao.set_index('Bar id')"
   ]
  },
  {
   "cell_type": "code",
   "execution_count": 9,
   "metadata": {},
   "outputs": [
    {
     "name": "stdout",
     "output_type": "stream",
     "text": [
      "407\n"
     ]
    }
   ],
   "source": [
    "# Задание 2.3.1 \n",
    "print(cacao['Company (Maker-if known)'].nunique())"
   ]
  },
  {
   "cell_type": "code",
   "execution_count": 10,
   "metadata": {},
   "outputs": [
    {
     "name": "stdout",
     "output_type": "stream",
     "text": [
      "1012\n"
     ]
    }
   ],
   "source": [
    "# Задание 2.3.2\n",
    "print(cacao['Specific Bean Origin or Bar Name'].nunique())"
   ]
  },
  {
   "cell_type": "code",
   "execution_count": 11,
   "metadata": {},
   "outputs": [
    {
     "data": {
      "text/plain": [
       "False    997\n",
       "True      15\n",
       "Name: Specific Bean Origin or Bar Name, dtype: int64"
      ]
     },
     "execution_count": 11,
     "metadata": {},
     "output_type": "execute_result"
    }
   ],
   "source": [
    "# Задание 2.3.3\n",
    "(cacao['Specific Bean Origin or Bar Name'].value_counts() > 10).value_counts()\n",
    "# количество 'True' значений"
   ]
  },
  {
   "cell_type": "code",
   "execution_count": 12,
   "metadata": {},
   "outputs": [
    {
     "data": {
      "text/plain": [
       "count    1795.000000\n",
       "mean     1035.904735\n",
       "std       552.886365\n",
       "min         5.000000\n",
       "25%       576.000000\n",
       "50%      1069.000000\n",
       "75%      1502.000000\n",
       "max      1952.000000\n",
       "Name: REF, dtype: float64"
      ]
     },
     "execution_count": 12,
     "metadata": {},
     "output_type": "execute_result"
    },
    {
     "data": {
      "image/png": "[encoded data removed]",
      "text/plain": [
       "<Figure size 432x288 with 1 Axes>"
      ]
     },
     "metadata": {
      "needs_background": "light"
     },
     "output_type": "display_data"
    }
   ],
   "source": [
    "cacao['REF'].hist()\n",
    "cacao['REF'].describe()"
   ]
  },
  {
   "cell_type": "code",
   "execution_count": 13,
   "metadata": {},
   "outputs": [
    {
     "data": {
      "text/plain": [
       "count    1795.000000\n",
       "mean     2012.325348\n",
       "std         2.927210\n",
       "min      2006.000000\n",
       "25%      2010.000000\n",
       "50%      2013.000000\n",
       "75%      2015.000000\n",
       "max      2017.000000\n",
       "Name: Review Date, dtype: float64"
      ]
     },
     "execution_count": 13,
     "metadata": {},
     "output_type": "execute_result"
    },
    {
     "data": {
      "image/png": "[encoded data removed]",
      "text/plain": [
       "<Figure size 432x288 with 1 Axes>"
      ]
     },
     "metadata": {
      "needs_background": "light"
     },
     "output_type": "display_data"
    }
   ],
   "source": [
    "cacao['Review Date'].hist()\n",
    "cacao['Review Date'].describe()"
   ]
  },
  {
   "cell_type": "code",
   "execution_count": 14,
   "metadata": {},
   "outputs": [
    {
     "data": {
      "text/plain": [
       "<matplotlib.axes._subplots.AxesSubplot at 0x7fe7809cf9d0>"
      ]
     },
     "execution_count": 14,
     "metadata": {},
     "output_type": "execute_result"
    },
    {
     "data": {
      "image/png": "[encoded data removed]",
      "text/plain": [
       "<Figure size 432x288 with 1 Axes>"
      ]
     },
     "metadata": {},
     "output_type": "display_data"
    }
   ],
   "source": [
    "# Задание 2.3.4 \n",
    "sns.set()\n",
    "sns.boxplot(data=cacao['Review Date'].values, orient=\"h\", palette=\"Set2\")\n",
    "# нет выбросов"
   ]
  },
  {
   "cell_type": "code",
   "execution_count": 15,
   "metadata": {},
   "outputs": [
    {
     "data": {
      "text/html": [
       "<div>\n",
       "<style scoped>\n",
       "    .dataframe tbody tr th:only-of-type {\n",
       "        vertical-align: middle;\n",
       "    }\n",
       "\n",
       "    .dataframe tbody tr th {\n",
       "        vertical-align: top;\n",
       "    }\n",
       "\n",
       "    .dataframe thead th {\n",
       "        text-align: right;\n",
       "    }\n",
       "</style>\n",
       "<table border=\"1\" class=\"dataframe\">\n",
       "  <thead>\n",
       "    <tr style=\"text-align: right;\">\n",
       "      <th></th>\n",
       "      <th>Company (Maker-if known)</th>\n",
       "      <th>Specific Bean Origin or Bar Name</th>\n",
       "      <th>REF</th>\n",
       "      <th>Review Date</th>\n",
       "      <th>Cocoa Percent</th>\n",
       "      <th>Company Location</th>\n",
       "      <th>Rating</th>\n",
       "      <th>Bean Type</th>\n",
       "      <th>Broad Bean Origin</th>\n",
       "    </tr>\n",
       "    <tr>\n",
       "      <th>Bar id</th>\n",
       "      <th></th>\n",
       "      <th></th>\n",
       "      <th></th>\n",
       "      <th></th>\n",
       "      <th></th>\n",
       "      <th></th>\n",
       "      <th></th>\n",
       "      <th></th>\n",
       "      <th></th>\n",
       "    </tr>\n",
       "  </thead>\n",
       "  <tbody>\n",
       "    <tr>\n",
       "      <th>1</th>\n",
       "      <td>A. Morin</td>\n",
       "      <td>Agua Grande</td>\n",
       "      <td>1876</td>\n",
       "      <td>2016</td>\n",
       "      <td>63.0</td>\n",
       "      <td>France</td>\n",
       "      <td>11.50</td>\n",
       "      <td>NaN</td>\n",
       "      <td>Sao Tome</td>\n",
       "    </tr>\n",
       "    <tr>\n",
       "      <th>2</th>\n",
       "      <td>A. Morin</td>\n",
       "      <td>Kpime</td>\n",
       "      <td>1676</td>\n",
       "      <td>2015</td>\n",
       "      <td>70.0</td>\n",
       "      <td>France</td>\n",
       "      <td>2.75</td>\n",
       "      <td>NaN</td>\n",
       "      <td>Togo</td>\n",
       "    </tr>\n",
       "    <tr>\n",
       "      <th>3</th>\n",
       "      <td>A. Morin</td>\n",
       "      <td>Atsane</td>\n",
       "      <td>1676</td>\n",
       "      <td>2015</td>\n",
       "      <td>670.0</td>\n",
       "      <td>France</td>\n",
       "      <td>3.00</td>\n",
       "      <td>NaN</td>\n",
       "      <td>Togo</td>\n",
       "    </tr>\n",
       "    <tr>\n",
       "      <th>4</th>\n",
       "      <td>A. Morin</td>\n",
       "      <td>Akata</td>\n",
       "      <td>1680</td>\n",
       "      <td>2015</td>\n",
       "      <td>70.0</td>\n",
       "      <td>France</td>\n",
       "      <td>3.50</td>\n",
       "      <td>NaN</td>\n",
       "      <td>Togo</td>\n",
       "    </tr>\n",
       "    <tr>\n",
       "      <th>5</th>\n",
       "      <td>A. Morin</td>\n",
       "      <td>Quilla</td>\n",
       "      <td>1704</td>\n",
       "      <td>2015</td>\n",
       "      <td>70.0</td>\n",
       "      <td>France</td>\n",
       "      <td>3.50</td>\n",
       "      <td>NaN</td>\n",
       "      <td>Peru</td>\n",
       "    </tr>\n",
       "    <tr>\n",
       "      <th>...</th>\n",
       "      <td>...</td>\n",
       "      <td>...</td>\n",
       "      <td>...</td>\n",
       "      <td>...</td>\n",
       "      <td>...</td>\n",
       "      <td>...</td>\n",
       "      <td>...</td>\n",
       "      <td>...</td>\n",
       "      <td>...</td>\n",
       "    </tr>\n",
       "    <tr>\n",
       "      <th>1791</th>\n",
       "      <td>Zotter</td>\n",
       "      <td>Peru</td>\n",
       "      <td>647</td>\n",
       "      <td>2011</td>\n",
       "      <td>70.0</td>\n",
       "      <td>Austria</td>\n",
       "      <td>3.75</td>\n",
       "      <td>NaN</td>\n",
       "      <td>Peru</td>\n",
       "    </tr>\n",
       "    <tr>\n",
       "      <th>1792</th>\n",
       "      <td>Zotter</td>\n",
       "      <td>Congo</td>\n",
       "      <td>749</td>\n",
       "      <td>2011</td>\n",
       "      <td>65.0</td>\n",
       "      <td>Austria</td>\n",
       "      <td>3.00</td>\n",
       "      <td>Forastero</td>\n",
       "      <td>Congo</td>\n",
       "    </tr>\n",
       "    <tr>\n",
       "      <th>1793</th>\n",
       "      <td>Zotter</td>\n",
       "      <td>Kerala State</td>\n",
       "      <td>749</td>\n",
       "      <td>2011</td>\n",
       "      <td>65.0</td>\n",
       "      <td>Austria</td>\n",
       "      <td>3.50</td>\n",
       "      <td>Forastero</td>\n",
       "      <td>India</td>\n",
       "    </tr>\n",
       "    <tr>\n",
       "      <th>1794</th>\n",
       "      <td>Zotter</td>\n",
       "      <td>Kerala State</td>\n",
       "      <td>781</td>\n",
       "      <td>2011</td>\n",
       "      <td>62.0</td>\n",
       "      <td>Austria</td>\n",
       "      <td>3.25</td>\n",
       "      <td>NaN</td>\n",
       "      <td>India</td>\n",
       "    </tr>\n",
       "    <tr>\n",
       "      <th>1795</th>\n",
       "      <td>Zotter</td>\n",
       "      <td>Brazil, Mitzi Blue</td>\n",
       "      <td>486</td>\n",
       "      <td>2010</td>\n",
       "      <td>65.0</td>\n",
       "      <td>Austria</td>\n",
       "      <td>3.00</td>\n",
       "      <td>NaN</td>\n",
       "      <td>Brazil</td>\n",
       "    </tr>\n",
       "  </tbody>\n",
       "</table>\n",
       "<p>1795 rows × 9 columns</p>\n",
       "</div>"
      ],
      "text/plain": [
       "       Company (Maker-if known) Specific Bean Origin or Bar Name   REF  \\\n",
       "Bar id                                                                   \n",
       "1                      A. Morin                      Agua Grande  1876   \n",
       "2                      A. Morin                            Kpime  1676   \n",
       "3                      A. Morin                           Atsane  1676   \n",
       "4                      A. Morin                            Akata  1680   \n",
       "5                      A. Morin                           Quilla  1704   \n",
       "...                         ...                              ...   ...   \n",
       "1791                     Zotter                             Peru   647   \n",
       "1792                     Zotter                            Congo   749   \n",
       "1793                     Zotter                     Kerala State   749   \n",
       "1794                     Zotter                     Kerala State   781   \n",
       "1795                     Zotter               Brazil, Mitzi Blue   486   \n",
       "\n",
       "        Review Date  Cocoa Percent Company Location  Rating  Bean Type  \\\n",
       "Bar id                                                                   \n",
       "1              2016           63.0           France   11.50        NaN   \n",
       "2              2015           70.0           France    2.75        NaN   \n",
       "3              2015          670.0           France    3.00        NaN   \n",
       "4              2015           70.0           France    3.50        NaN   \n",
       "5              2015           70.0           France    3.50        NaN   \n",
       "...             ...            ...              ...     ...        ...   \n",
       "1791           2011           70.0          Austria    3.75        NaN   \n",
       "1792           2011           65.0          Austria    3.00  Forastero   \n",
       "1793           2011           65.0          Austria    3.50  Forastero   \n",
       "1794           2011           62.0          Austria    3.25        NaN   \n",
       "1795           2010           65.0          Austria    3.00        NaN   \n",
       "\n",
       "       Broad Bean Origin  \n",
       "Bar id                    \n",
       "1               Sao Tome  \n",
       "2                   Togo  \n",
       "3                   Togo  \n",
       "4                   Togo  \n",
       "5                   Peru  \n",
       "...                  ...  \n",
       "1791                Peru  \n",
       "1792               Congo  \n",
       "1793               India  \n",
       "1794               India  \n",
       "1795              Brazil  \n",
       "\n",
       "[1795 rows x 9 columns]"
      ]
     },
     "execution_count": 15,
     "metadata": {},
     "output_type": "execute_result"
    }
   ],
   "source": [
    "cacao['Cocoa Percent'] = cacao['Cocoa Percent'].apply(lambda x: float(x.replace('%', '')))\n",
    "cacao"
   ]
  },
  {
   "cell_type": "code",
   "execution_count": 16,
   "metadata": {},
   "outputs": [
    {
     "data": {
      "text/plain": [
       "<matplotlib.axes._subplots.AxesSubplot at 0x7fe780a17710>"
      ]
     },
     "execution_count": 16,
     "metadata": {},
     "output_type": "execute_result"
    },
    {
     "data": {
      "image/png": "[encoded data removed]",
      "text/plain": [
       "<Figure size 432x288 with 1 Axes>"
      ]
     },
     "metadata": {},
     "output_type": "display_data"
    }
   ],
   "source": [
    "cacao['Cocoa Percent'].describe()\n",
    "\n",
    "sns.set()\n",
    "sns.boxplot(data=cacao['Cocoa Percent'].values, orient=\"h\", palette=\"Set2\")"
   ]
  },
  {
   "cell_type": "code",
   "execution_count": 17,
   "metadata": {},
   "outputs": [
    {
     "data": {
      "text/html": [
       "<div>\n",
       "<style scoped>\n",
       "    .dataframe tbody tr th:only-of-type {\n",
       "        vertical-align: middle;\n",
       "    }\n",
       "\n",
       "    .dataframe tbody tr th {\n",
       "        vertical-align: top;\n",
       "    }\n",
       "\n",
       "    .dataframe thead th {\n",
       "        text-align: right;\n",
       "    }\n",
       "</style>\n",
       "<table border=\"1\" class=\"dataframe\">\n",
       "  <thead>\n",
       "    <tr style=\"text-align: right;\">\n",
       "      <th></th>\n",
       "      <th>Company (Maker-if known)</th>\n",
       "      <th>Specific Bean Origin or Bar Name</th>\n",
       "      <th>REF</th>\n",
       "      <th>Review Date</th>\n",
       "      <th>Cocoa Percent</th>\n",
       "      <th>Company Location</th>\n",
       "      <th>Rating</th>\n",
       "      <th>Bean Type</th>\n",
       "      <th>Broad Bean Origin</th>\n",
       "    </tr>\n",
       "    <tr>\n",
       "      <th>Bar id</th>\n",
       "      <th></th>\n",
       "      <th></th>\n",
       "      <th></th>\n",
       "      <th></th>\n",
       "      <th></th>\n",
       "      <th></th>\n",
       "      <th></th>\n",
       "      <th></th>\n",
       "      <th></th>\n",
       "    </tr>\n",
       "  </thead>\n",
       "  <tbody>\n",
       "    <tr>\n",
       "      <th>1</th>\n",
       "      <td>A. Morin</td>\n",
       "      <td>Agua Grande</td>\n",
       "      <td>1876</td>\n",
       "      <td>2016</td>\n",
       "      <td>63.0</td>\n",
       "      <td>France</td>\n",
       "      <td>11.50</td>\n",
       "      <td>NaN</td>\n",
       "      <td>Sao Tome</td>\n",
       "    </tr>\n",
       "    <tr>\n",
       "      <th>2</th>\n",
       "      <td>A. Morin</td>\n",
       "      <td>Kpime</td>\n",
       "      <td>1676</td>\n",
       "      <td>2015</td>\n",
       "      <td>70.0</td>\n",
       "      <td>France</td>\n",
       "      <td>2.75</td>\n",
       "      <td>NaN</td>\n",
       "      <td>Togo</td>\n",
       "    </tr>\n",
       "    <tr>\n",
       "      <th>4</th>\n",
       "      <td>A. Morin</td>\n",
       "      <td>Akata</td>\n",
       "      <td>1680</td>\n",
       "      <td>2015</td>\n",
       "      <td>70.0</td>\n",
       "      <td>France</td>\n",
       "      <td>3.50</td>\n",
       "      <td>NaN</td>\n",
       "      <td>Togo</td>\n",
       "    </tr>\n",
       "    <tr>\n",
       "      <th>5</th>\n",
       "      <td>A. Morin</td>\n",
       "      <td>Quilla</td>\n",
       "      <td>1704</td>\n",
       "      <td>2015</td>\n",
       "      <td>70.0</td>\n",
       "      <td>France</td>\n",
       "      <td>3.50</td>\n",
       "      <td>NaN</td>\n",
       "      <td>Peru</td>\n",
       "    </tr>\n",
       "    <tr>\n",
       "      <th>6</th>\n",
       "      <td>A. Morin</td>\n",
       "      <td>Carenero</td>\n",
       "      <td>1315</td>\n",
       "      <td>2014</td>\n",
       "      <td>70.0</td>\n",
       "      <td>France</td>\n",
       "      <td>2.75</td>\n",
       "      <td>Criollo</td>\n",
       "      <td>Venezuela</td>\n",
       "    </tr>\n",
       "    <tr>\n",
       "      <th>...</th>\n",
       "      <td>...</td>\n",
       "      <td>...</td>\n",
       "      <td>...</td>\n",
       "      <td>...</td>\n",
       "      <td>...</td>\n",
       "      <td>...</td>\n",
       "      <td>...</td>\n",
       "      <td>...</td>\n",
       "      <td>...</td>\n",
       "    </tr>\n",
       "    <tr>\n",
       "      <th>1791</th>\n",
       "      <td>Zotter</td>\n",
       "      <td>Peru</td>\n",
       "      <td>647</td>\n",
       "      <td>2011</td>\n",
       "      <td>70.0</td>\n",
       "      <td>Austria</td>\n",
       "      <td>3.75</td>\n",
       "      <td>NaN</td>\n",
       "      <td>Peru</td>\n",
       "    </tr>\n",
       "    <tr>\n",
       "      <th>1792</th>\n",
       "      <td>Zotter</td>\n",
       "      <td>Congo</td>\n",
       "      <td>749</td>\n",
       "      <td>2011</td>\n",
       "      <td>65.0</td>\n",
       "      <td>Austria</td>\n",
       "      <td>3.00</td>\n",
       "      <td>Forastero</td>\n",
       "      <td>Congo</td>\n",
       "    </tr>\n",
       "    <tr>\n",
       "      <th>1793</th>\n",
       "      <td>Zotter</td>\n",
       "      <td>Kerala State</td>\n",
       "      <td>749</td>\n",
       "      <td>2011</td>\n",
       "      <td>65.0</td>\n",
       "      <td>Austria</td>\n",
       "      <td>3.50</td>\n",
       "      <td>Forastero</td>\n",
       "      <td>India</td>\n",
       "    </tr>\n",
       "    <tr>\n",
       "      <th>1794</th>\n",
       "      <td>Zotter</td>\n",
       "      <td>Kerala State</td>\n",
       "      <td>781</td>\n",
       "      <td>2011</td>\n",
       "      <td>62.0</td>\n",
       "      <td>Austria</td>\n",
       "      <td>3.25</td>\n",
       "      <td>NaN</td>\n",
       "      <td>India</td>\n",
       "    </tr>\n",
       "    <tr>\n",
       "      <th>1795</th>\n",
       "      <td>Zotter</td>\n",
       "      <td>Brazil, Mitzi Blue</td>\n",
       "      <td>486</td>\n",
       "      <td>2010</td>\n",
       "      <td>65.0</td>\n",
       "      <td>Austria</td>\n",
       "      <td>3.00</td>\n",
       "      <td>NaN</td>\n",
       "      <td>Brazil</td>\n",
       "    </tr>\n",
       "  </tbody>\n",
       "</table>\n",
       "<p>1776 rows × 9 columns</p>\n",
       "</div>"
      ],
      "text/plain": [
       "       Company (Maker-if known) Specific Bean Origin or Bar Name   REF  \\\n",
       "Bar id                                                                   \n",
       "1                      A. Morin                      Agua Grande  1876   \n",
       "2                      A. Morin                            Kpime  1676   \n",
       "4                      A. Morin                            Akata  1680   \n",
       "5                      A. Morin                           Quilla  1704   \n",
       "6                      A. Morin                         Carenero  1315   \n",
       "...                         ...                              ...   ...   \n",
       "1791                     Zotter                             Peru   647   \n",
       "1792                     Zotter                            Congo   749   \n",
       "1793                     Zotter                     Kerala State   749   \n",
       "1794                     Zotter                     Kerala State   781   \n",
       "1795                     Zotter               Brazil, Mitzi Blue   486   \n",
       "\n",
       "        Review Date  Cocoa Percent Company Location  Rating  Bean Type  \\\n",
       "Bar id                                                                   \n",
       "1              2016           63.0           France   11.50        NaN   \n",
       "2              2015           70.0           France    2.75        NaN   \n",
       "4              2015           70.0           France    3.50        NaN   \n",
       "5              2015           70.0           France    3.50        NaN   \n",
       "6              2014           70.0           France    2.75    Criollo   \n",
       "...             ...            ...              ...     ...        ...   \n",
       "1791           2011           70.0          Austria    3.75        NaN   \n",
       "1792           2011           65.0          Austria    3.00  Forastero   \n",
       "1793           2011           65.0          Austria    3.50  Forastero   \n",
       "1794           2011           62.0          Austria    3.25        NaN   \n",
       "1795           2010           65.0          Austria    3.00        NaN   \n",
       "\n",
       "       Broad Bean Origin  \n",
       "Bar id                    \n",
       "1               Sao Tome  \n",
       "2                   Togo  \n",
       "4                   Togo  \n",
       "5                   Peru  \n",
       "6              Venezuela  \n",
       "...                  ...  \n",
       "1791                Peru  \n",
       "1792               Congo  \n",
       "1793               India  \n",
       "1794               India  \n",
       "1795              Brazil  \n",
       "\n",
       "[1776 rows x 9 columns]"
      ]
     },
     "execution_count": 17,
     "metadata": {},
     "output_type": "execute_result"
    }
   ],
   "source": [
    "cacao = cacao[cacao['Cocoa Percent'] <= 100.0]\n",
    "cacao"
   ]
  },
  {
   "cell_type": "code",
   "execution_count": 18,
   "metadata": {},
   "outputs": [
    {
     "data": {
      "text/plain": [
       "U.S.A.            756\n",
       "France            155\n",
       "Canada            124\n",
       "U.K.               94\n",
       "Italy              63\n",
       "                 ... \n",
       "Philippines         1\n",
       "Czech Republic      1\n",
       "Wales               1\n",
       "Eucador             1\n",
       "Martinique          1\n",
       "Name: Company Location, Length: 60, dtype: int64"
      ]
     },
     "execution_count": 18,
     "metadata": {},
     "output_type": "execute_result"
    }
   ],
   "source": [
    "cacao['Company Location'].value_counts()"
   ]
  },
  {
   "cell_type": "code",
   "execution_count": 19,
   "metadata": {},
   "outputs": [
    {
     "data": {
      "text/plain": [
       "count       1776\n",
       "unique        60\n",
       "top       U.S.A.\n",
       "freq         756\n",
       "Name: Company Location, dtype: object"
      ]
     },
     "execution_count": 19,
     "metadata": {},
     "output_type": "execute_result"
    }
   ],
   "source": [
    "cacao['Company Location'].describe()"
   ]
  },
  {
   "cell_type": "code",
   "execution_count": 20,
   "metadata": {},
   "outputs": [
    {
     "data": {
      "text/plain": [
       "count    1776.000000\n",
       "mean        3.425816\n",
       "std         1.759007\n",
       "min         1.000000\n",
       "25%         3.000000\n",
       "50%         3.250000\n",
       "75%         3.500000\n",
       "max        19.750000\n",
       "Name: Rating, dtype: float64"
      ]
     },
     "execution_count": 20,
     "metadata": {},
     "output_type": "execute_result"
    },
    {
     "data": {
      "image/png": "[encoded data removed]",
      "text/plain": [
       "<Figure size 432x288 with 1 Axes>"
      ]
     },
     "metadata": {},
     "output_type": "display_data"
    }
   ],
   "source": [
    "sns.boxplot(data=cacao['Rating'].values, orient=\"h\", palette=\"Set2\")\n",
    "cacao['Rating'].describe()"
   ]
  },
  {
   "cell_type": "code",
   "execution_count": 21,
   "metadata": {},
   "outputs": [
    {
     "data": {
      "text/html": [
       "<div>\n",
       "<style scoped>\n",
       "    .dataframe tbody tr th:only-of-type {\n",
       "        vertical-align: middle;\n",
       "    }\n",
       "\n",
       "    .dataframe tbody tr th {\n",
       "        vertical-align: top;\n",
       "    }\n",
       "\n",
       "    .dataframe thead th {\n",
       "        text-align: right;\n",
       "    }\n",
       "</style>\n",
       "<table border=\"1\" class=\"dataframe\">\n",
       "  <thead>\n",
       "    <tr style=\"text-align: right;\">\n",
       "      <th></th>\n",
       "      <th>Company (Maker-if known)</th>\n",
       "      <th>Specific Bean Origin or Bar Name</th>\n",
       "      <th>REF</th>\n",
       "      <th>Review Date</th>\n",
       "      <th>Cocoa Percent</th>\n",
       "      <th>Company Location</th>\n",
       "      <th>Rating</th>\n",
       "      <th>Bean Type</th>\n",
       "      <th>Broad Bean Origin</th>\n",
       "    </tr>\n",
       "    <tr>\n",
       "      <th>Bar id</th>\n",
       "      <th></th>\n",
       "      <th></th>\n",
       "      <th></th>\n",
       "      <th></th>\n",
       "      <th></th>\n",
       "      <th></th>\n",
       "      <th></th>\n",
       "      <th></th>\n",
       "      <th></th>\n",
       "    </tr>\n",
       "  </thead>\n",
       "  <tbody>\n",
       "    <tr>\n",
       "      <th>2</th>\n",
       "      <td>A. Morin</td>\n",
       "      <td>Kpime</td>\n",
       "      <td>1676</td>\n",
       "      <td>2015</td>\n",
       "      <td>70.0</td>\n",
       "      <td>France</td>\n",
       "      <td>2.75</td>\n",
       "      <td>NaN</td>\n",
       "      <td>Togo</td>\n",
       "    </tr>\n",
       "    <tr>\n",
       "      <th>4</th>\n",
       "      <td>A. Morin</td>\n",
       "      <td>Akata</td>\n",
       "      <td>1680</td>\n",
       "      <td>2015</td>\n",
       "      <td>70.0</td>\n",
       "      <td>France</td>\n",
       "      <td>3.50</td>\n",
       "      <td>NaN</td>\n",
       "      <td>Togo</td>\n",
       "    </tr>\n",
       "    <tr>\n",
       "      <th>5</th>\n",
       "      <td>A. Morin</td>\n",
       "      <td>Quilla</td>\n",
       "      <td>1704</td>\n",
       "      <td>2015</td>\n",
       "      <td>70.0</td>\n",
       "      <td>France</td>\n",
       "      <td>3.50</td>\n",
       "      <td>NaN</td>\n",
       "      <td>Peru</td>\n",
       "    </tr>\n",
       "    <tr>\n",
       "      <th>6</th>\n",
       "      <td>A. Morin</td>\n",
       "      <td>Carenero</td>\n",
       "      <td>1315</td>\n",
       "      <td>2014</td>\n",
       "      <td>70.0</td>\n",
       "      <td>France</td>\n",
       "      <td>2.75</td>\n",
       "      <td>Criollo</td>\n",
       "      <td>Venezuela</td>\n",
       "    </tr>\n",
       "    <tr>\n",
       "      <th>7</th>\n",
       "      <td>A. Morin</td>\n",
       "      <td>Cuba</td>\n",
       "      <td>1315</td>\n",
       "      <td>2014</td>\n",
       "      <td>70.0</td>\n",
       "      <td>France</td>\n",
       "      <td>3.50</td>\n",
       "      <td>NaN</td>\n",
       "      <td>Cuba</td>\n",
       "    </tr>\n",
       "    <tr>\n",
       "      <th>...</th>\n",
       "      <td>...</td>\n",
       "      <td>...</td>\n",
       "      <td>...</td>\n",
       "      <td>...</td>\n",
       "      <td>...</td>\n",
       "      <td>...</td>\n",
       "      <td>...</td>\n",
       "      <td>...</td>\n",
       "      <td>...</td>\n",
       "    </tr>\n",
       "    <tr>\n",
       "      <th>1791</th>\n",
       "      <td>Zotter</td>\n",
       "      <td>Peru</td>\n",
       "      <td>647</td>\n",
       "      <td>2011</td>\n",
       "      <td>70.0</td>\n",
       "      <td>Austria</td>\n",
       "      <td>3.75</td>\n",
       "      <td>NaN</td>\n",
       "      <td>Peru</td>\n",
       "    </tr>\n",
       "    <tr>\n",
       "      <th>1792</th>\n",
       "      <td>Zotter</td>\n",
       "      <td>Congo</td>\n",
       "      <td>749</td>\n",
       "      <td>2011</td>\n",
       "      <td>65.0</td>\n",
       "      <td>Austria</td>\n",
       "      <td>3.00</td>\n",
       "      <td>Forastero</td>\n",
       "      <td>Congo</td>\n",
       "    </tr>\n",
       "    <tr>\n",
       "      <th>1793</th>\n",
       "      <td>Zotter</td>\n",
       "      <td>Kerala State</td>\n",
       "      <td>749</td>\n",
       "      <td>2011</td>\n",
       "      <td>65.0</td>\n",
       "      <td>Austria</td>\n",
       "      <td>3.50</td>\n",
       "      <td>Forastero</td>\n",
       "      <td>India</td>\n",
       "    </tr>\n",
       "    <tr>\n",
       "      <th>1794</th>\n",
       "      <td>Zotter</td>\n",
       "      <td>Kerala State</td>\n",
       "      <td>781</td>\n",
       "      <td>2011</td>\n",
       "      <td>62.0</td>\n",
       "      <td>Austria</td>\n",
       "      <td>3.25</td>\n",
       "      <td>NaN</td>\n",
       "      <td>India</td>\n",
       "    </tr>\n",
       "    <tr>\n",
       "      <th>1795</th>\n",
       "      <td>Zotter</td>\n",
       "      <td>Brazil, Mitzi Blue</td>\n",
       "      <td>486</td>\n",
       "      <td>2010</td>\n",
       "      <td>65.0</td>\n",
       "      <td>Austria</td>\n",
       "      <td>3.00</td>\n",
       "      <td>NaN</td>\n",
       "      <td>Brazil</td>\n",
       "    </tr>\n",
       "  </tbody>\n",
       "</table>\n",
       "<p>1690 rows × 9 columns</p>\n",
       "</div>"
      ],
      "text/plain": [
       "       Company (Maker-if known) Specific Bean Origin or Bar Name   REF  \\\n",
       "Bar id                                                                   \n",
       "2                      A. Morin                            Kpime  1676   \n",
       "4                      A. Morin                            Akata  1680   \n",
       "5                      A. Morin                           Quilla  1704   \n",
       "6                      A. Morin                         Carenero  1315   \n",
       "7                      A. Morin                             Cuba  1315   \n",
       "...                         ...                              ...   ...   \n",
       "1791                     Zotter                             Peru   647   \n",
       "1792                     Zotter                            Congo   749   \n",
       "1793                     Zotter                     Kerala State   749   \n",
       "1794                     Zotter                     Kerala State   781   \n",
       "1795                     Zotter               Brazil, Mitzi Blue   486   \n",
       "\n",
       "        Review Date  Cocoa Percent Company Location  Rating  Bean Type  \\\n",
       "Bar id                                                                   \n",
       "2              2015           70.0           France    2.75        NaN   \n",
       "4              2015           70.0           France    3.50        NaN   \n",
       "5              2015           70.0           France    3.50        NaN   \n",
       "6              2014           70.0           France    2.75    Criollo   \n",
       "7              2014           70.0           France    3.50        NaN   \n",
       "...             ...            ...              ...     ...        ...   \n",
       "1791           2011           70.0          Austria    3.75        NaN   \n",
       "1792           2011           65.0          Austria    3.00  Forastero   \n",
       "1793           2011           65.0          Austria    3.50  Forastero   \n",
       "1794           2011           62.0          Austria    3.25        NaN   \n",
       "1795           2010           65.0          Austria    3.00        NaN   \n",
       "\n",
       "       Broad Bean Origin  \n",
       "Bar id                    \n",
       "2                   Togo  \n",
       "4                   Togo  \n",
       "5                   Peru  \n",
       "6              Venezuela  \n",
       "7                   Cuba  \n",
       "...                  ...  \n",
       "1791                Peru  \n",
       "1792               Congo  \n",
       "1793               India  \n",
       "1794               India  \n",
       "1795              Brazil  \n",
       "\n",
       "[1690 rows x 9 columns]"
      ]
     },
     "execution_count": 21,
     "metadata": {},
     "output_type": "execute_result"
    }
   ],
   "source": [
    "perc25 = cacao['Rating'].quantile(0.25)\n",
    "perc75 = cacao['Rating'].quantile(0.75)\n",
    "IQR = perc75 - perc25\n",
    "\n",
    "low = perc25 - 1.5*IQR\n",
    "high = perc75 + 1.5*IQR\n",
    "\n",
    "cacao = cacao[cacao['Rating'].between(low,high)]\n",
    "cacao"
   ]
  },
  {
   "cell_type": "code",
   "execution_count": 22,
   "metadata": {},
   "outputs": [
    {
     "data": {
      "text/plain": [
       "Trinitario                  401\n",
       "Criollo                     147\n",
       "Forastero                    81\n",
       "Forastero (Nacional)         50\n",
       "Criollo, Trinitario          37\n",
       "Blend                        36\n",
       "Forastero (Arriba)           30\n",
       "Criollo (Porcelana)          10\n",
       "Trinitario, Criollo           9\n",
       "Forastero (Parazinho)         8\n",
       "Forastero (Arriba) ASS        5\n",
       "EET                           3\n",
       "Matina                        3\n",
       "Beniano                       3\n",
       "Nacional (Arriba)             3\n",
       "Trinitario (85% Criollo)      2\n",
       "Criollo (Amarru)              2\n",
       "Criollo (Ocumare 61)          2\n",
       "Amazon mix                    2\n",
       "Amazon, ICS                   2\n",
       "Forastero (Catongo)           2\n",
       "Trinitario, Forastero         2\n",
       "Criollo, Forastero            2\n",
       "Nacional                      2\n",
       "Forastero, Trinitario         1\n",
       "Amazon                        1\n",
       "Criollo (Ocumare 77)          1\n",
       "CCN51                         1\n",
       "Criollo (Ocumare 67)          1\n",
       "Criollo (Ocumare)             1\n",
       "Trinitario, Nacional          1\n",
       "Forastero (Arriba) ASSS       1\n",
       "Criollo, +                    1\n",
       "Forastero (Amelonado)         1\n",
       "Criollo (Wild)                1\n",
       "Trinitario (Scavina)          1\n",
       "Trinitario, TCGA              1\n",
       "Blend-Forastero,Criollo       1\n",
       "Trinitario (Amelonado)        1\n",
       "Forastero(Arriba, CCN)        1\n",
       "Name: Bean Type, dtype: int64"
      ]
     },
     "execution_count": 22,
     "metadata": {},
     "output_type": "execute_result"
    }
   ],
   "source": [
    "cacao['Bean Type'].value_counts()"
   ]
  },
  {
   "cell_type": "code",
   "execution_count": 23,
   "metadata": {},
   "outputs": [
    {
     "data": {
      "text/plain": [
       "count            860\n",
       "unique            40\n",
       "top       Trinitario\n",
       "freq             401\n",
       "Name: Bean Type, dtype: object"
      ]
     },
     "execution_count": 23,
     "metadata": {},
     "output_type": "execute_result"
    }
   ],
   "source": [
    "cacao['Bean Type'].describe()"
   ]
  },
  {
   "cell_type": "code",
   "execution_count": 24,
   "metadata": {},
   "outputs": [
    {
     "name": "stderr",
     "output_type": "stream",
     "text": [
      "/usr/local/anaconda3/lib/python3.7/site-packages/ipykernel_launcher.py:1: SettingWithCopyWarning: \n",
      "A value is trying to be set on a copy of a slice from a DataFrame.\n",
      "Try using .loc[row_indexer,col_indexer] = value instead\n",
      "\n",
      "See the caveats in the documentation: https://pandas.pydata.org/pandas-docs/stable/user_guide/indexing.html#returning-a-view-versus-a-copy\n",
      "  \"\"\"Entry point for launching an IPython kernel.\n"
     ]
    }
   ],
   "source": [
    "cacao['Bean Type'] = cacao['Bean Type'].apply(lambda v: v if pd.isnull(v) else v if '(' not in v else v[:v.find('(')].strip())"
   ]
  },
  {
   "cell_type": "code",
   "execution_count": 25,
   "metadata": {},
   "outputs": [
    {
     "data": {
      "text/plain": [
       "Trinitario                 405\n",
       "Forastero                  179\n",
       "Criollo                    165\n",
       "Criollo, Trinitario         37\n",
       "Blend                       36\n",
       "Trinitario, Criollo          9\n",
       "Nacional                     5\n",
       "EET                          3\n",
       "Matina                       3\n",
       "Beniano                      3\n",
       "Amazon mix                   2\n",
       "Trinitario, Forastero        2\n",
       "Criollo, Forastero           2\n",
       "Amazon, ICS                  2\n",
       "Forastero, Trinitario        1\n",
       "Trinitario, TCGA             1\n",
       "Criollo, +                   1\n",
       "Amazon                       1\n",
       "CCN51                        1\n",
       "Trinitario, Nacional         1\n",
       "Blend-Forastero,Criollo      1\n",
       "Name: Bean Type, dtype: int64"
      ]
     },
     "execution_count": 25,
     "metadata": {},
     "output_type": "execute_result"
    }
   ],
   "source": [
    "cacao['Bean Type'].value_counts()"
   ]
  },
  {
   "cell_type": "code",
   "execution_count": 26,
   "metadata": {},
   "outputs": [
    {
     "data": {
      "text/plain": [
       "count            860\n",
       "unique            21\n",
       "top       Trinitario\n",
       "freq             405\n",
       "Name: Bean Type, dtype: object"
      ]
     },
     "execution_count": 26,
     "metadata": {},
     "output_type": "execute_result"
    }
   ],
   "source": [
    "cacao['Bean Type'].describe()"
   ]
  },
  {
   "cell_type": "code",
   "execution_count": 27,
   "metadata": {},
   "outputs": [
    {
     "data": {
      "text/plain": [
       "count          1630\n",
       "unique           96\n",
       "top       Venezuela\n",
       "freq            202\n",
       "Name: Broad Bean Origin, dtype: object"
      ]
     },
     "execution_count": 27,
     "metadata": {},
     "output_type": "execute_result"
    }
   ],
   "source": [
    "# Задание 2.4.1\n",
    "## Сколько уникальных значений содержит столбец? 96 + NaN\n",
    "cacao['Broad Bean Origin'].describe()"
   ]
  },
  {
   "cell_type": "code",
   "execution_count": 28,
   "metadata": {},
   "outputs": [
    {
     "data": {
      "text/plain": [
       "False    71\n",
       "True     25\n",
       "Name: Broad Bean Origin, dtype: int64"
      ]
     },
     "execution_count": 28,
     "metadata": {},
     "output_type": "execute_result"
    }
   ],
   "source": [
    "# Задание 2.4.1\n",
    "## Сколько из них встречаются более 10 раз?\n",
    "(cacao['Broad Bean Origin'].value_counts() > 10).value_counts()"
   ]
  },
  {
   "cell_type": "code",
   "execution_count": 29,
   "metadata": {},
   "outputs": [
    {
     "name": "stdout",
     "output_type": "stream",
     "text": [
      "['Africa', 'Australia', 'Bali', 'Belize', 'Bolivia', 'Brasil', 'Brazil', 'Burma', 'C. Am.', 'Cameroon', 'Carribean', 'Central and S. America', 'Colombia', 'Congo', 'Cost Rica', 'Costa Rica', 'Cuba', 'D.R.', 'DR', 'Dom. Rep', 'Dom. Rep.', 'Domin. Rep', 'Domincan Republic', 'Dominican Rep.', 'Dominican Republic', 'Ecu.', 'Ecuador', 'El Salvador', 'Fiji', 'Gabon', 'Ghana', 'Gre.', 'Grenada', 'Guat.', 'Guatemala', 'Haiti', 'Haw.', 'Hawaii', 'Honduras', 'India', 'Indonesia', 'Ivory Coast', 'Jamaica', 'Java', 'Liberia', 'Mad', 'Mad.', 'Madagascar', 'Malaysia', 'Martinique', 'Mex', 'Mexico', 'Nic.', 'Nicaragua', 'Nigeria', 'PNG', 'Panama', 'Papua New Guinea', 'Peru', 'Philippines', 'Principe', 'Puerto Rico', 'Samoa', 'Sao Tome', 'Solomon Islands', 'South America', 'Sri Lanka', 'St. Lucia', 'Suriname', 'Tanzania', 'Tobago', 'Togo', 'Trinidad', 'Trinidad-Tobago', 'Uganda', 'Vanuatu', 'Ven', 'Ven.', 'Venez', 'Venezuela', 'Vietnam', 'West Africa']\n"
     ]
    }
   ],
   "source": [
    "origin = cacao['Broad Bean Origin'].unique()\n",
    "without_bracets = [o[:o.find('(')] if '(' in o else o for o in origin if not pd.isnull(o)]\n",
    "nested = [o.replace('/', ',').replace('&', ',').split(',') for o in without_bracets if not pd.isnull(o)]\n",
    "flat = sorted(set([item.strip() for sublist in nested for item in sublist]))\n",
    "print(flat)"
   ]
  },
  {
   "cell_type": "code",
   "execution_count": 30,
   "metadata": {},
   "outputs": [],
   "source": [
    "translator = {\n",
    " 'Brasil': 'Brazil',\n",
    " 'Cost Rica': 'Costa Rica',\n",
    " 'D.R.': 'Dominican Republic',\n",
    " 'DR': 'Dominican Republic',\n",
    " 'Dom. Rep': 'Dominican Republic',\n",
    " 'Dom. Rep.': 'Dominican Republic',\n",
    " 'Domin. Rep': 'Dominican Republic',\n",
    " 'Domincan Republic': 'Dominican Republic',\n",
    " 'Dominican Rep.': 'Dominican Republic',\n",
    " 'Ecu.': 'Ecuador',\n",
    " 'Gre.': 'Grenada',\n",
    " 'Guat.': 'Guatemala',\n",
    " 'Haw.': 'Hawaii',\n",
    " 'Mad': 'Madagascar',\n",
    " 'Mad.': 'Madagascar',\n",
    " 'Mex': 'Mexico',\n",
    " 'Nic.': 'Nicaragua',\n",
    " 'PNG': 'Papua New Guinea',\n",
    " 'Ven': 'Venezuela',\n",
    " 'Ven.': 'Venezuela',\n",
    " 'Venez': 'Venezuela',\n",
    "}"
   ]
  },
  {
   "cell_type": "code",
   "execution_count": 31,
   "metadata": {},
   "outputs": [
    {
     "data": {
      "text/plain": [
       "['Togo',\n",
       " 'Peru',\n",
       " 'Venezuela',\n",
       " 'Cuba',\n",
       " 'Panama',\n",
       " 'Madagascar',\n",
       " 'Brazil',\n",
       " 'Ecuador',\n",
       " 'Colombia',\n",
       " 'Burma',\n",
       " 'Papua New Guinea',\n",
       " 'Bolivia',\n",
       " 'Fiji',\n",
       " 'Mexico',\n",
       " 'Indonesia',\n",
       " 'Trinidad',\n",
       " 'Vietnam',\n",
       " 'Nicaragua',\n",
       " 'Tanzania',\n",
       " 'Dominican Republic',\n",
       " 'Ghana',\n",
       " 'Belize',\n",
       " nan,\n",
       " 'Jamaica',\n",
       " 'Honduras',\n",
       " 'Costa Rica',\n",
       " 'Guatemala',\n",
       " 'Haiti',\n",
       " 'Congo',\n",
       " 'Philippines',\n",
       " 'Domincan Republic',\n",
       " 'Malaysia',\n",
       " 'Dominican Rep., Bali',\n",
       " 'Venez,Africa,Brasil,Peru,Mex',\n",
       " 'Gabon',\n",
       " 'Ivory Coast',\n",
       " 'Carribean',\n",
       " 'Sri Lanka',\n",
       " 'Puerto Rico',\n",
       " 'Grenada',\n",
       " 'Sao Tome',\n",
       " 'Uganda',\n",
       " 'Martinique',\n",
       " 'Sao Tome & Principe',\n",
       " 'Vanuatu',\n",
       " 'Australia',\n",
       " 'Liberia',\n",
       " 'Ecuador, Costa Rica',\n",
       " 'West Africa',\n",
       " 'Hawaii',\n",
       " 'St. Lucia',\n",
       " 'Cost Rica, Ven',\n",
       " 'Peru, Madagascar',\n",
       " 'Venezuela, Trinidad',\n",
       " 'Trinidad, Tobago',\n",
       " 'Ven, Trinidad, Ecuador',\n",
       " 'South America, Africa',\n",
       " 'India',\n",
       " 'Africa, Carribean, C. Am.',\n",
       " 'Trinidad-Tobago',\n",
       " 'Peru, Ecuador, Venezuela',\n",
       " 'Venezuela, Dom. Rep.',\n",
       " 'Colombia, Ecuador',\n",
       " 'Solomon Islands',\n",
       " 'Nigeria',\n",
       " 'Peru, Belize',\n",
       " 'Peru, Mad., Dom. Rep.',\n",
       " 'PNG, Vanuatu, Mad',\n",
       " 'El Salvador',\n",
       " 'South America',\n",
       " 'Samoa',\n",
       " 'Ghana, Domin. Rep',\n",
       " 'Trinidad, Ecuador',\n",
       " 'Cameroon',\n",
       " 'Venezuela, Java',\n",
       " 'Venezuela/ Ghana',\n",
       " 'Venezuela, Ghana',\n",
       " 'Indonesia, Ghana',\n",
       " 'Peru(SMartin,Pangoa,nacional)',\n",
       " 'Principe',\n",
       " 'Central and S. America',\n",
       " 'Ven., Trinidad, Mad.',\n",
       " 'Carribean(DR/Jam/Tri)',\n",
       " 'Ven.,Ecu.,Peru,Nic.',\n",
       " 'Madagascar & Ecuador',\n",
       " 'Guat., D.R., Peru, Mad., PNG',\n",
       " 'Peru, Dom. Rep',\n",
       " 'Dom. Rep., Madagascar',\n",
       " 'Gre., PNG, Haw., Haiti, Mad',\n",
       " 'Mad., Java, PNG',\n",
       " 'Ven, Bolivia, D.R.',\n",
       " 'DR, Ecuador, Peru',\n",
       " 'Suriname',\n",
       " 'Peru, Ecuador',\n",
       " 'Ecuador, Mad., PNG',\n",
       " 'Tobago',\n",
       " 'Venezuela, Carribean']"
      ]
     },
     "execution_count": 31,
     "metadata": {},
     "output_type": "execute_result"
    }
   ],
   "source": [
    "list(origin)"
   ]
  },
  {
   "cell_type": "code",
   "execution_count": 32,
   "metadata": {},
   "outputs": [],
   "source": [
    "def normalize(origin):\n",
    "    without_bracets = origin[:origin.find('(')] if '(' in origin else origin\n",
    "    origins = without_bracets.replace('/', ',').replace('&', ',').split(',')\n",
    "    translated =[translator.get(o.strip(), o.strip()) for o in origins]\n",
    "    uniq = set(translated)\n",
    "    ordered = sorted(uniq)\n",
    "    \n",
    "    return ','.join(ordered)"
   ]
  },
  {
   "cell_type": "code",
   "execution_count": 33,
   "metadata": {},
   "outputs": [
    {
     "data": {
      "text/plain": [
       "'Dominican Republic,Guatemala,Madagascar,Papua New Guinea,Peru'"
      ]
     },
     "execution_count": 33,
     "metadata": {},
     "output_type": "execute_result"
    }
   ],
   "source": [
    "normalize('Guat., D.R., Peru, Mad., PNG')"
   ]
  },
  {
   "cell_type": "code",
   "execution_count": 34,
   "metadata": {},
   "outputs": [
    {
     "data": {
      "text/plain": [
       "'Peru'"
      ]
     },
     "execution_count": 34,
     "metadata": {},
     "output_type": "execute_result"
    }
   ],
   "source": [
    "normalize('Peru(SMartin,Pangoa,nacional)')"
   ]
  },
  {
   "cell_type": "code",
   "execution_count": 35,
   "metadata": {},
   "outputs": [
    {
     "name": "stderr",
     "output_type": "stream",
     "text": [
      "/usr/local/anaconda3/lib/python3.7/site-packages/ipykernel_launcher.py:1: SettingWithCopyWarning: \n",
      "A value is trying to be set on a copy of a slice from a DataFrame.\n",
      "Try using .loc[row_indexer,col_indexer] = value instead\n",
      "\n",
      "See the caveats in the documentation: https://pandas.pydata.org/pandas-docs/stable/user_guide/indexing.html#returning-a-view-versus-a-copy\n",
      "  \"\"\"Entry point for launching an IPython kernel.\n"
     ]
    }
   ],
   "source": [
    "cacao['Broad Bean Origin'] = cacao['Broad Bean Origin'].apply(lambda v: normalize(v) if not pd.isnull(v) else v)"
   ]
  },
  {
   "cell_type": "code",
   "execution_count": 36,
   "metadata": {},
   "outputs": [
    {
     "data": {
      "text/plain": [
       "count          1630\n",
       "unique           92\n",
       "top       Venezuela\n",
       "freq            202\n",
       "Name: Broad Bean Origin, dtype: object"
      ]
     },
     "execution_count": 36,
     "metadata": {},
     "output_type": "execute_result"
    }
   ],
   "source": [
    "cacao['Broad Bean Origin'].describe()"
   ]
  }
 ],
 "metadata": {
  "kernelspec": {
   "display_name": "Python 3",
   "language": "python",
   "name": "python3"
  },
  "language_info": {
   "codemirror_mode": {
    "name": "ipython",
    "version": 3
   },
   "file_extension": ".py",
   "mimetype": "text/x-python",
   "name": "python",
   "nbconvert_exporter": "python",
   "pygments_lexer": "ipython3",
   "version": "3.7.6"
  }
 },
 "nbformat": 4,
 "nbformat_minor": 4
}
