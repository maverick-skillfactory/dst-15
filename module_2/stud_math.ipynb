{
 "cells": [
  {
   "cell_type": "markdown",
   "metadata": {},
   "source": [
    "# Первичная обработка"
   ]
  },
  {
   "cell_type": "code",
   "execution_count": 1,
   "metadata": {},
   "outputs": [],
   "source": [
    "import pandas as pd\n",
    "\n",
    "pd.set_option('display.max_rows', 50) # показывать больше строк\n",
    "pd.set_option('display.max_columns', 50) # показывать больше колонок\n",
    "\n",
    "students = pd.read_csv('stud_math.csv', true_values=['yes'], false_values=['no'])"
   ]
  },
  {
   "cell_type": "code",
   "execution_count": 2,
   "metadata": {},
   "outputs": [
    {
     "data": {
      "text/html": [
       "<div>\n",
       "<style scoped>\n",
       "    .dataframe tbody tr th:only-of-type {\n",
       "        vertical-align: middle;\n",
       "    }\n",
       "\n",
       "    .dataframe tbody tr th {\n",
       "        vertical-align: top;\n",
       "    }\n",
       "\n",
       "    .dataframe thead th {\n",
       "        text-align: right;\n",
       "    }\n",
       "</style>\n",
       "<table border=\"1\" class=\"dataframe\">\n",
       "  <thead>\n",
       "    <tr style=\"text-align: right;\">\n",
       "      <th></th>\n",
       "      <th>school</th>\n",
       "      <th>sex</th>\n",
       "      <th>age</th>\n",
       "      <th>address</th>\n",
       "      <th>famsize</th>\n",
       "      <th>Pstatus</th>\n",
       "      <th>Medu</th>\n",
       "      <th>Fedu</th>\n",
       "      <th>Mjob</th>\n",
       "      <th>Fjob</th>\n",
       "      <th>reason</th>\n",
       "      <th>guardian</th>\n",
       "      <th>traveltime</th>\n",
       "      <th>studytime</th>\n",
       "      <th>failures</th>\n",
       "      <th>schoolsup</th>\n",
       "      <th>famsup</th>\n",
       "      <th>paid</th>\n",
       "      <th>activities</th>\n",
       "      <th>nursery</th>\n",
       "      <th>studytime, granular</th>\n",
       "      <th>higher</th>\n",
       "      <th>internet</th>\n",
       "      <th>romantic</th>\n",
       "      <th>famrel</th>\n",
       "      <th>freetime</th>\n",
       "      <th>goout</th>\n",
       "      <th>health</th>\n",
       "      <th>absences</th>\n",
       "      <th>score</th>\n",
       "    </tr>\n",
       "  </thead>\n",
       "  <tbody>\n",
       "    <tr>\n",
       "      <th>0</th>\n",
       "      <td>GP</td>\n",
       "      <td>F</td>\n",
       "      <td>18</td>\n",
       "      <td>U</td>\n",
       "      <td>NaN</td>\n",
       "      <td>A</td>\n",
       "      <td>4.0</td>\n",
       "      <td>4.0</td>\n",
       "      <td>at_home</td>\n",
       "      <td>teacher</td>\n",
       "      <td>course</td>\n",
       "      <td>mother</td>\n",
       "      <td>2.0</td>\n",
       "      <td>2.0</td>\n",
       "      <td>0.0</td>\n",
       "      <td>True</td>\n",
       "      <td>False</td>\n",
       "      <td>False</td>\n",
       "      <td>False</td>\n",
       "      <td>True</td>\n",
       "      <td>-6.0</td>\n",
       "      <td>True</td>\n",
       "      <td>NaN</td>\n",
       "      <td>False</td>\n",
       "      <td>4.0</td>\n",
       "      <td>3.0</td>\n",
       "      <td>4.0</td>\n",
       "      <td>3.0</td>\n",
       "      <td>6.0</td>\n",
       "      <td>30.0</td>\n",
       "    </tr>\n",
       "    <tr>\n",
       "      <th>1</th>\n",
       "      <td>GP</td>\n",
       "      <td>F</td>\n",
       "      <td>17</td>\n",
       "      <td>U</td>\n",
       "      <td>GT3</td>\n",
       "      <td>NaN</td>\n",
       "      <td>1.0</td>\n",
       "      <td>1.0</td>\n",
       "      <td>at_home</td>\n",
       "      <td>other</td>\n",
       "      <td>course</td>\n",
       "      <td>father</td>\n",
       "      <td>1.0</td>\n",
       "      <td>2.0</td>\n",
       "      <td>0.0</td>\n",
       "      <td>False</td>\n",
       "      <td>True</td>\n",
       "      <td>False</td>\n",
       "      <td>False</td>\n",
       "      <td>False</td>\n",
       "      <td>-6.0</td>\n",
       "      <td>True</td>\n",
       "      <td>True</td>\n",
       "      <td>False</td>\n",
       "      <td>5.0</td>\n",
       "      <td>3.0</td>\n",
       "      <td>3.0</td>\n",
       "      <td>3.0</td>\n",
       "      <td>4.0</td>\n",
       "      <td>30.0</td>\n",
       "    </tr>\n",
       "    <tr>\n",
       "      <th>2</th>\n",
       "      <td>GP</td>\n",
       "      <td>F</td>\n",
       "      <td>15</td>\n",
       "      <td>U</td>\n",
       "      <td>LE3</td>\n",
       "      <td>T</td>\n",
       "      <td>1.0</td>\n",
       "      <td>1.0</td>\n",
       "      <td>at_home</td>\n",
       "      <td>other</td>\n",
       "      <td>other</td>\n",
       "      <td>mother</td>\n",
       "      <td>1.0</td>\n",
       "      <td>2.0</td>\n",
       "      <td>3.0</td>\n",
       "      <td>True</td>\n",
       "      <td>False</td>\n",
       "      <td>NaN</td>\n",
       "      <td>False</td>\n",
       "      <td>True</td>\n",
       "      <td>-6.0</td>\n",
       "      <td>True</td>\n",
       "      <td>True</td>\n",
       "      <td>NaN</td>\n",
       "      <td>4.0</td>\n",
       "      <td>3.0</td>\n",
       "      <td>2.0</td>\n",
       "      <td>3.0</td>\n",
       "      <td>10.0</td>\n",
       "      <td>50.0</td>\n",
       "    </tr>\n",
       "    <tr>\n",
       "      <th>3</th>\n",
       "      <td>GP</td>\n",
       "      <td>F</td>\n",
       "      <td>15</td>\n",
       "      <td>U</td>\n",
       "      <td>GT3</td>\n",
       "      <td>T</td>\n",
       "      <td>4.0</td>\n",
       "      <td>2.0</td>\n",
       "      <td>health</td>\n",
       "      <td>NaN</td>\n",
       "      <td>home</td>\n",
       "      <td>mother</td>\n",
       "      <td>1.0</td>\n",
       "      <td>3.0</td>\n",
       "      <td>0.0</td>\n",
       "      <td>False</td>\n",
       "      <td>True</td>\n",
       "      <td>True</td>\n",
       "      <td>True</td>\n",
       "      <td>True</td>\n",
       "      <td>-9.0</td>\n",
       "      <td>True</td>\n",
       "      <td>True</td>\n",
       "      <td>True</td>\n",
       "      <td>3.0</td>\n",
       "      <td>2.0</td>\n",
       "      <td>2.0</td>\n",
       "      <td>5.0</td>\n",
       "      <td>2.0</td>\n",
       "      <td>75.0</td>\n",
       "    </tr>\n",
       "    <tr>\n",
       "      <th>4</th>\n",
       "      <td>GP</td>\n",
       "      <td>F</td>\n",
       "      <td>16</td>\n",
       "      <td>U</td>\n",
       "      <td>GT3</td>\n",
       "      <td>T</td>\n",
       "      <td>3.0</td>\n",
       "      <td>3.0</td>\n",
       "      <td>other</td>\n",
       "      <td>other</td>\n",
       "      <td>home</td>\n",
       "      <td>father</td>\n",
       "      <td>1.0</td>\n",
       "      <td>2.0</td>\n",
       "      <td>0.0</td>\n",
       "      <td>False</td>\n",
       "      <td>True</td>\n",
       "      <td>True</td>\n",
       "      <td>False</td>\n",
       "      <td>True</td>\n",
       "      <td>-6.0</td>\n",
       "      <td>True</td>\n",
       "      <td>False</td>\n",
       "      <td>False</td>\n",
       "      <td>4.0</td>\n",
       "      <td>3.0</td>\n",
       "      <td>2.0</td>\n",
       "      <td>5.0</td>\n",
       "      <td>4.0</td>\n",
       "      <td>50.0</td>\n",
       "    </tr>\n",
       "  </tbody>\n",
       "</table>\n",
       "</div>"
      ],
      "text/plain": [
       "  school sex  age address famsize Pstatus  Medu  Fedu     Mjob     Fjob  \\\n",
       "0     GP   F   18       U     NaN       A   4.0   4.0  at_home  teacher   \n",
       "1     GP   F   17       U     GT3     NaN   1.0   1.0  at_home    other   \n",
       "2     GP   F   15       U     LE3       T   1.0   1.0  at_home    other   \n",
       "3     GP   F   15       U     GT3       T   4.0   2.0   health      NaN   \n",
       "4     GP   F   16       U     GT3       T   3.0   3.0    other    other   \n",
       "\n",
       "   reason guardian  traveltime  studytime  failures schoolsup famsup   paid  \\\n",
       "0  course   mother         2.0        2.0       0.0      True  False  False   \n",
       "1  course   father         1.0        2.0       0.0     False   True  False   \n",
       "2   other   mother         1.0        2.0       3.0      True  False    NaN   \n",
       "3    home   mother         1.0        3.0       0.0     False   True   True   \n",
       "4    home   father         1.0        2.0       0.0     False   True   True   \n",
       "\n",
       "  activities nursery  studytime, granular higher internet romantic  famrel  \\\n",
       "0      False    True                 -6.0   True      NaN    False     4.0   \n",
       "1      False   False                 -6.0   True     True    False     5.0   \n",
       "2      False    True                 -6.0   True     True      NaN     4.0   \n",
       "3       True    True                 -9.0   True     True     True     3.0   \n",
       "4      False    True                 -6.0   True    False    False     4.0   \n",
       "\n",
       "   freetime  goout  health  absences  score  \n",
       "0       3.0    4.0     3.0       6.0   30.0  \n",
       "1       3.0    3.0     3.0       4.0   30.0  \n",
       "2       3.0    2.0     3.0      10.0   50.0  \n",
       "3       2.0    2.0     5.0       2.0   75.0  \n",
       "4       3.0    2.0     5.0       4.0   50.0  "
      ]
     },
     "execution_count": 2,
     "metadata": {},
     "output_type": "execute_result"
    }
   ],
   "source": [
    "students.head()"
   ]
  },
  {
   "cell_type": "code",
   "execution_count": 3,
   "metadata": {},
   "outputs": [
    {
     "name": "stdout",
     "output_type": "stream",
     "text": [
      "<class 'pandas.core.frame.DataFrame'>\n",
      "RangeIndex: 395 entries, 0 to 394\n",
      "Data columns (total 30 columns):\n",
      " #   Column               Non-Null Count  Dtype  \n",
      "---  ------               --------------  -----  \n",
      " 0   school               395 non-null    object \n",
      " 1   sex                  395 non-null    object \n",
      " 2   age                  395 non-null    int64  \n",
      " 3   address              378 non-null    object \n",
      " 4   famsize              368 non-null    object \n",
      " 5   Pstatus              350 non-null    object \n",
      " 6   Medu                 392 non-null    float64\n",
      " 7   Fedu                 371 non-null    float64\n",
      " 8   Mjob                 376 non-null    object \n",
      " 9   Fjob                 359 non-null    object \n",
      " 10  reason               378 non-null    object \n",
      " 11  guardian             364 non-null    object \n",
      " 12  traveltime           367 non-null    float64\n",
      " 13  studytime            388 non-null    float64\n",
      " 14  failures             373 non-null    float64\n",
      " 15  schoolsup            386 non-null    object \n",
      " 16  famsup               356 non-null    object \n",
      " 17  paid                 355 non-null    object \n",
      " 18  activities           381 non-null    object \n",
      " 19  nursery              379 non-null    object \n",
      " 20  studytime, granular  388 non-null    float64\n",
      " 21  higher               375 non-null    object \n",
      " 22  internet             361 non-null    object \n",
      " 23  romantic             364 non-null    object \n",
      " 24  famrel               368 non-null    float64\n",
      " 25  freetime             384 non-null    float64\n",
      " 26  goout                387 non-null    float64\n",
      " 27  health               380 non-null    float64\n",
      " 28  absences             383 non-null    float64\n",
      " 29  score                389 non-null    float64\n",
      "dtypes: float64(12), int64(1), object(17)\n",
      "memory usage: 92.7+ KB\n"
     ]
    }
   ],
   "source": [
    "students.info()"
   ]
  },
  {
   "cell_type": "markdown",
   "metadata": {},
   "source": [
    "Как мы видим, всего в файле 395 записей и 30 полей. Для 29 из них у нас есть описания. `studytime, granular` нам не известно.\n",
    " 1. `school` — аббревиатура школы, в которой учится ученик\n",
    " 1. `sex` — пол ученика ('F' - женский, 'M' - мужской)\n",
    " 1. `age` — возраст ученика (от 15 до 22)\n",
    " 1. `address` — тип адреса ученика ('U' - городской, 'R' - за городом)\n",
    " 1. `famsize` — размер семьи('LE3' <= 3, 'GT3' >3)\n",
    " 1. `Pstatus` — статус совместного жилья родителей ('T' - живут вместе 'A' - раздельно)\n",
    " 1. `Medu` — образование матери (0 - нет, 1 - 4 класса, 2 - 5-9 классы, 3 - среднее специальное или 11 классов, 4 - высшее)\n",
    " 1. `Fedu` — образование отца (0 - нет, 1 - 4 класса, 2 - 5-9 классы, 3 - среднее специальное или 11 классов, 4 - высшее)\n",
    " 1. `Mjob` — работа матери ('teacher' - учитель, 'health' - сфера здравоохранения, 'services' - гос служба, 'at_home' - не работает, 'other' - другое)\n",
    " 1. `Fjob` — работа отца ('teacher' - учитель, 'health' - сфера здравоохранения, 'services' - гос служба, 'at_home' - не работает, 'other' - другое)\n",
    " 1. `reason` — причина выбора школы ('home' - близость к дому, 'reputation' - репутация школы, 'course' - образовательная программа, 'other' - другое)\n",
    " 1. `guardian` — опекун ('mother' - мать, 'father' - отец, 'other' - другое)\n",
    " 1. `traveltime` — время в пути до школы (1 - <15 мин., 2 - 15-30 мин., 3 - 30-60 мин., 4 - >60 мин.)\n",
    " 1. `studytime` — время на учёбу помимо школы в неделю (1 - <2 часов, 2 - 2-5 часов, 3 - 5-10 часов, 4 - >10 часов)\n",
    " 1. `studytime, granular` - нет данных\n",
    " 1. `failures` — количество внеучебных неудач (n, если 1<=n<=3, иначе 0)\n",
    " 1. `schoolsup` — дополнительная образовательная поддержка (yes или no)\n",
    " 1. `famsup` — семейная образовательная поддержка (yes или no)\n",
    " 1. `paid` — дополнительные платные занятия по математике (yes или no)\n",
    " 1. `activities` — дополнительные внеучебные занятия (yes или no)\n",
    " 1. `nursery` — посещал детский сад (yes или no)\n",
    " 1. `higher` — хочет получить высшее образование (yes или no)\n",
    " 1. `internet` — наличие интернета дома (yes или no)\n",
    " 1. `romantic` — в романтических отношениях (yes или no)\n",
    " 1. `famrel` — семейные отношения (от 1 - очень плохо до 5 - очень хорошо)\n",
    " 1. `freetime` — свободное время после школы (от 1 - очень мало до 5 - очень мого)\n",
    " 1. `goout` — проведение времени с друзьями (от 1 - очень мало до 5 - очень много)\n",
    " 1. `health` — текущее состояние здоровья (от 1 - очень плохо до 5 - очень хорошо)\n",
    " 1. `absences` — количество пропущенных занятий\n",
    " 1. `score` — баллы по госэкзамену по математике"
   ]
  },
  {
   "cell_type": "markdown",
   "metadata": {},
   "source": [
    "Имеющиеся поля распределяются на\n",
    "\n",
    "1. Числовые (непрерывная шкала значений)\n",
    "1. Номинативные (ораниченный набор значений)\n",
    "\n",
    "Попытаемся распределить поля по эти группам в ходе анализа."
   ]
  },
  {
   "cell_type": "markdown",
   "metadata": {},
   "source": [
    "## Анализ исходных данных"
   ]
  },
  {
   "cell_type": "code",
   "execution_count": 4,
   "metadata": {},
   "outputs": [
    {
     "data": {
      "text/html": [
       "<div>\n",
       "<style scoped>\n",
       "    .dataframe tbody tr th:only-of-type {\n",
       "        vertical-align: middle;\n",
       "    }\n",
       "\n",
       "    .dataframe tbody tr th {\n",
       "        vertical-align: top;\n",
       "    }\n",
       "\n",
       "    .dataframe thead th {\n",
       "        text-align: right;\n",
       "    }\n",
       "</style>\n",
       "<table border=\"1\" class=\"dataframe\">\n",
       "  <thead>\n",
       "    <tr style=\"text-align: right;\">\n",
       "      <th></th>\n",
       "      <th>age</th>\n",
       "      <th>Medu</th>\n",
       "      <th>Fedu</th>\n",
       "      <th>traveltime</th>\n",
       "      <th>studytime</th>\n",
       "      <th>failures</th>\n",
       "      <th>studytime, granular</th>\n",
       "      <th>famrel</th>\n",
       "      <th>freetime</th>\n",
       "      <th>goout</th>\n",
       "      <th>health</th>\n",
       "      <th>absences</th>\n",
       "      <th>score</th>\n",
       "    </tr>\n",
       "  </thead>\n",
       "  <tbody>\n",
       "    <tr>\n",
       "      <th>count</th>\n",
       "      <td>395.000000</td>\n",
       "      <td>392.000000</td>\n",
       "      <td>371.000000</td>\n",
       "      <td>367.000000</td>\n",
       "      <td>388.000000</td>\n",
       "      <td>373.000000</td>\n",
       "      <td>388.000000</td>\n",
       "      <td>368.000000</td>\n",
       "      <td>384.000000</td>\n",
       "      <td>387.000000</td>\n",
       "      <td>380.000000</td>\n",
       "      <td>383.000000</td>\n",
       "      <td>389.000000</td>\n",
       "    </tr>\n",
       "    <tr>\n",
       "      <th>mean</th>\n",
       "      <td>16.696203</td>\n",
       "      <td>2.750000</td>\n",
       "      <td>2.614555</td>\n",
       "      <td>1.438692</td>\n",
       "      <td>2.038660</td>\n",
       "      <td>0.337802</td>\n",
       "      <td>-6.115979</td>\n",
       "      <td>3.937500</td>\n",
       "      <td>3.231771</td>\n",
       "      <td>3.105943</td>\n",
       "      <td>3.531579</td>\n",
       "      <td>7.279373</td>\n",
       "      <td>52.262211</td>\n",
       "    </tr>\n",
       "    <tr>\n",
       "      <th>std</th>\n",
       "      <td>1.276043</td>\n",
       "      <td>1.098127</td>\n",
       "      <td>2.228732</td>\n",
       "      <td>0.694181</td>\n",
       "      <td>0.842078</td>\n",
       "      <td>0.743135</td>\n",
       "      <td>2.526235</td>\n",
       "      <td>0.927277</td>\n",
       "      <td>0.993940</td>\n",
       "      <td>1.115896</td>\n",
       "      <td>1.396019</td>\n",
       "      <td>23.465197</td>\n",
       "      <td>22.919022</td>\n",
       "    </tr>\n",
       "    <tr>\n",
       "      <th>min</th>\n",
       "      <td>15.000000</td>\n",
       "      <td>0.000000</td>\n",
       "      <td>0.000000</td>\n",
       "      <td>1.000000</td>\n",
       "      <td>1.000000</td>\n",
       "      <td>0.000000</td>\n",
       "      <td>-12.000000</td>\n",
       "      <td>-1.000000</td>\n",
       "      <td>1.000000</td>\n",
       "      <td>1.000000</td>\n",
       "      <td>1.000000</td>\n",
       "      <td>0.000000</td>\n",
       "      <td>0.000000</td>\n",
       "    </tr>\n",
       "    <tr>\n",
       "      <th>25%</th>\n",
       "      <td>16.000000</td>\n",
       "      <td>2.000000</td>\n",
       "      <td>2.000000</td>\n",
       "      <td>1.000000</td>\n",
       "      <td>1.000000</td>\n",
       "      <td>0.000000</td>\n",
       "      <td>-6.000000</td>\n",
       "      <td>4.000000</td>\n",
       "      <td>3.000000</td>\n",
       "      <td>2.000000</td>\n",
       "      <td>3.000000</td>\n",
       "      <td>0.000000</td>\n",
       "      <td>40.000000</td>\n",
       "    </tr>\n",
       "    <tr>\n",
       "      <th>50%</th>\n",
       "      <td>17.000000</td>\n",
       "      <td>3.000000</td>\n",
       "      <td>2.000000</td>\n",
       "      <td>1.000000</td>\n",
       "      <td>2.000000</td>\n",
       "      <td>0.000000</td>\n",
       "      <td>-6.000000</td>\n",
       "      <td>4.000000</td>\n",
       "      <td>3.000000</td>\n",
       "      <td>3.000000</td>\n",
       "      <td>4.000000</td>\n",
       "      <td>4.000000</td>\n",
       "      <td>55.000000</td>\n",
       "    </tr>\n",
       "    <tr>\n",
       "      <th>75%</th>\n",
       "      <td>18.000000</td>\n",
       "      <td>4.000000</td>\n",
       "      <td>3.000000</td>\n",
       "      <td>2.000000</td>\n",
       "      <td>2.000000</td>\n",
       "      <td>0.000000</td>\n",
       "      <td>-3.000000</td>\n",
       "      <td>5.000000</td>\n",
       "      <td>4.000000</td>\n",
       "      <td>4.000000</td>\n",
       "      <td>5.000000</td>\n",
       "      <td>8.000000</td>\n",
       "      <td>70.000000</td>\n",
       "    </tr>\n",
       "    <tr>\n",
       "      <th>max</th>\n",
       "      <td>22.000000</td>\n",
       "      <td>4.000000</td>\n",
       "      <td>40.000000</td>\n",
       "      <td>4.000000</td>\n",
       "      <td>4.000000</td>\n",
       "      <td>3.000000</td>\n",
       "      <td>-3.000000</td>\n",
       "      <td>5.000000</td>\n",
       "      <td>5.000000</td>\n",
       "      <td>5.000000</td>\n",
       "      <td>5.000000</td>\n",
       "      <td>385.000000</td>\n",
       "      <td>100.000000</td>\n",
       "    </tr>\n",
       "  </tbody>\n",
       "</table>\n",
       "</div>"
      ],
      "text/plain": [
       "              age        Medu        Fedu  traveltime   studytime    failures  \\\n",
       "count  395.000000  392.000000  371.000000  367.000000  388.000000  373.000000   \n",
       "mean    16.696203    2.750000    2.614555    1.438692    2.038660    0.337802   \n",
       "std      1.276043    1.098127    2.228732    0.694181    0.842078    0.743135   \n",
       "min     15.000000    0.000000    0.000000    1.000000    1.000000    0.000000   \n",
       "25%     16.000000    2.000000    2.000000    1.000000    1.000000    0.000000   \n",
       "50%     17.000000    3.000000    2.000000    1.000000    2.000000    0.000000   \n",
       "75%     18.000000    4.000000    3.000000    2.000000    2.000000    0.000000   \n",
       "max     22.000000    4.000000   40.000000    4.000000    4.000000    3.000000   \n",
       "\n",
       "       studytime, granular      famrel    freetime       goout      health  \\\n",
       "count           388.000000  368.000000  384.000000  387.000000  380.000000   \n",
       "mean             -6.115979    3.937500    3.231771    3.105943    3.531579   \n",
       "std               2.526235    0.927277    0.993940    1.115896    1.396019   \n",
       "min             -12.000000   -1.000000    1.000000    1.000000    1.000000   \n",
       "25%              -6.000000    4.000000    3.000000    2.000000    3.000000   \n",
       "50%              -6.000000    4.000000    3.000000    3.000000    4.000000   \n",
       "75%              -3.000000    5.000000    4.000000    4.000000    5.000000   \n",
       "max              -3.000000    5.000000    5.000000    5.000000    5.000000   \n",
       "\n",
       "         absences       score  \n",
       "count  383.000000  389.000000  \n",
       "mean     7.279373   52.262211  \n",
       "std     23.465197   22.919022  \n",
       "min      0.000000    0.000000  \n",
       "25%      0.000000   40.000000  \n",
       "50%      4.000000   55.000000  \n",
       "75%      8.000000   70.000000  \n",
       "max    385.000000  100.000000  "
      ]
     },
     "execution_count": 4,
     "metadata": {},
     "output_type": "execute_result"
    }
   ],
   "source": [
    "students.describe()"
   ]
  },
  {
   "cell_type": "markdown",
   "metadata": {},
   "source": [
    "Данные содержат 13 числовых полей. Из них 12 - размерности и `score` - значение. Значит оставшиеся 17 точно относятся к \"номенативыным\".\n",
    "\n",
    "Так как `score` наше значение для анализа - проанализируем его первым."
   ]
  },
  {
   "cell_type": "code",
   "execution_count": 5,
   "metadata": {},
   "outputs": [],
   "source": [
    "def data_range(df, column):\n",
    "    \"\"\"Возвращает тупл с диапазоном исключающим выбросы\"\"\"\n",
    "    \n",
    "    perc25 = df[column].quantile(0.25)\n",
    "    perc75 = df[column].quantile(0.75)\n",
    "    IQR = perc75 - perc25\n",
    "\n",
    "    low = perc25 - 1.5*IQR\n",
    "    high = perc75 + 1.5*IQR  \n",
    "    \n",
    "    return low, high"
   ]
  },
  {
   "cell_type": "code",
   "execution_count": 6,
   "metadata": {},
   "outputs": [],
   "source": [
    "import matplotlib.pyplot as plt\n",
    "%matplotlib inline\n",
    "\n",
    "import seaborn as sns\n",
    "\n",
    "def distplot(df, column):\n",
    "    \"\"\"Выводит гистограмму и диаграмму размаха\"\"\"\n",
    "    \n",
    "    fig, ax = plt.subplots(figsize = (14, 4))\n",
    "\n",
    "    plt.subplot(1, 2, 1)\n",
    "    sns.distplot(df[column], kde=False)\n",
    "    \n",
    "    plt.subplot(1, 2, 2)\n",
    "    sns.boxplot(x=column, data=df, orient='h')\n",
    "\n",
    "    plt.show()"
   ]
  },
  {
   "cell_type": "code",
   "execution_count": 7,
   "metadata": {},
   "outputs": [],
   "source": [
    "def analyze_base(df, column):\n",
    "    print('Stats for:', column)\n",
    "    print('Количество записей без значений:', df[column].isna().sum())\n",
    "    print('\\nРаспределение значений')\n",
    "    print(df[column].value_counts())\n",
    "    print('\\nСтатистика значений')\n",
    "    print(df[column].describe())\n",
    "    \n",
    "def analyze(df, column):\n",
    "    analyze_base(df, column)\n",
    "    print('\\nRange [low: %5.2f, high: %5.2f]' % data_range(df, column))\n",
    "    distplot(df, column)"
   ]
  },
  {
   "cell_type": "markdown",
   "metadata": {},
   "source": [
    "### Анализ `score`"
   ]
  },
  {
   "cell_type": "code",
   "execution_count": 8,
   "metadata": {},
   "outputs": [
    {
     "name": "stdout",
     "output_type": "stream",
     "text": [
      "Stats for: score\n",
      "Количество записей без значений: 6\n",
      "\n",
      "Распределение значений\n",
      "50.0     54\n",
      "55.0     46\n",
      "0.0      37\n",
      "75.0     33\n",
      "65.0     31\n",
      "40.0     31\n",
      "60.0     31\n",
      "70.0     27\n",
      "45.0     27\n",
      "80.0     16\n",
      "30.0     15\n",
      "90.0     12\n",
      "35.0      9\n",
      "25.0      7\n",
      "85.0      6\n",
      "95.0      5\n",
      "100.0     1\n",
      "20.0      1\n",
      "Name: score, dtype: int64\n",
      "\n",
      "Статистика значений\n",
      "count    389.000000\n",
      "mean      52.262211\n",
      "std       22.919022\n",
      "min        0.000000\n",
      "25%       40.000000\n",
      "50%       55.000000\n",
      "75%       70.000000\n",
      "max      100.000000\n",
      "Name: score, dtype: float64\n",
      "\n",
      "Range [low: -5.00, high: 115.00]\n"
     ]
    },
    {
     "data": {
      "image/png": "[encoded data removed]",
      "text/plain": [
       "<Figure size 1008x288 with 2 Axes>"
      ]
     },
     "metadata": {
      "needs_background": "light"
     },
     "output_type": "display_data"
    }
   ],
   "source": [
    "analyze(students, 'score')"
   ]
  },
  {
   "cell_type": "markdown",
   "metadata": {},
   "source": [
    "Мы имеем `6` записей без `score` и `37` записей со `score = 0`. Нет смысла рассматривать записи без показательной метрики и потому что `0 < 0.62` (ниже нижней границы межквартильного размаха). Записи с `0` не имеет брать в расчёт также исходя из здравого смысла. Скорее всего такие ученики даже не пытались сдавать тест.\n",
    "\n",
    "Вывод: исключить."
   ]
  },
  {
   "cell_type": "code",
   "execution_count": 9,
   "metadata": {},
   "outputs": [
    {
     "name": "stdout",
     "output_type": "stream",
     "text": [
      "Stats for: score\n",
      "Количество записей без значений: 0\n",
      "\n",
      "Распределение значений\n",
      "50.0     54\n",
      "55.0     46\n",
      "75.0     33\n",
      "65.0     31\n",
      "40.0     31\n",
      "60.0     31\n",
      "70.0     27\n",
      "45.0     27\n",
      "80.0     16\n",
      "30.0     15\n",
      "90.0     12\n",
      "35.0      9\n",
      "25.0      7\n",
      "85.0      6\n",
      "95.0      5\n",
      "100.0     1\n",
      "20.0      1\n",
      "Name: score, dtype: int64\n",
      "\n",
      "Статистика значений\n",
      "count    352.000000\n",
      "mean      57.755682\n",
      "std       16.200928\n",
      "min       20.000000\n",
      "25%       45.000000\n",
      "50%       55.000000\n",
      "75%       70.000000\n",
      "max      100.000000\n",
      "Name: score, dtype: float64\n",
      "\n",
      "Range [low:  7.50, high: 107.50]\n"
     ]
    },
    {
     "data": {
      "image/png": "[encoded data removed]",
      "text/plain": [
       "<Figure size 1008x288 with 2 Axes>"
      ]
     },
     "metadata": {
      "needs_background": "light"
     },
     "output_type": "display_data"
    }
   ],
   "source": [
    "students = students[students['score'] > 0.64]\n",
    "analyze(students, 'score')"
   ]
  },
  {
   "cell_type": "markdown",
   "metadata": {},
   "source": [
    "### Анализ `school`"
   ]
  },
  {
   "cell_type": "code",
   "execution_count": 10,
   "metadata": {},
   "outputs": [
    {
     "name": "stdout",
     "output_type": "stream",
     "text": [
      "Stats for: school\n",
      "Количество записей без значений: 0\n",
      "\n",
      "Распределение значений\n",
      "GP    311\n",
      "MS     41\n",
      "Name: school, dtype: int64\n",
      "\n",
      "Статистика значений\n",
      "count     352\n",
      "unique      2\n",
      "top        GP\n",
      "freq      311\n",
      "Name: school, dtype: object\n"
     ]
    }
   ],
   "source": [
    "analyze_base(students, 'school')"
   ]
  },
  {
   "cell_type": "markdown",
   "metadata": {},
   "source": [
    "Вывод:\n",
    "* является номинативным значением,\n",
    "* оставляем как есть."
   ]
  },
  {
   "cell_type": "markdown",
   "metadata": {},
   "source": [
    "### Анализ `sex`"
   ]
  },
  {
   "cell_type": "code",
   "execution_count": 11,
   "metadata": {},
   "outputs": [
    {
     "name": "stdout",
     "output_type": "stream",
     "text": [
      "Stats for: sex\n",
      "Количество записей без значений: 0\n",
      "\n",
      "Распределение значений\n",
      "F    182\n",
      "M    170\n",
      "Name: sex, dtype: int64\n",
      "\n",
      "Статистика значений\n",
      "count     352\n",
      "unique      2\n",
      "top         F\n",
      "freq      182\n",
      "Name: sex, dtype: object\n"
     ]
    }
   ],
   "source": [
    "analyze_base(students, 'sex')"
   ]
  },
  {
   "cell_type": "markdown",
   "metadata": {},
   "source": [
    "Вывод:\n",
    "* является номинативным значением,\n",
    "* оставляем как есть."
   ]
  },
  {
   "cell_type": "markdown",
   "metadata": {},
   "source": [
    "### Анализ `age`"
   ]
  },
  {
   "cell_type": "code",
   "execution_count": 12,
   "metadata": {},
   "outputs": [
    {
     "name": "stdout",
     "output_type": "stream",
     "text": [
      "Stats for: age\n",
      "Количество записей без значений: 0\n",
      "\n",
      "Распределение значений\n",
      "16    96\n",
      "17    90\n",
      "15    76\n",
      "18    69\n",
      "19    16\n",
      "20     3\n",
      "22     1\n",
      "21     1\n",
      "Name: age, dtype: int64\n",
      "\n",
      "Статистика значений\n",
      "count    352.000000\n",
      "mean      16.633523\n",
      "std        1.256011\n",
      "min       15.000000\n",
      "25%       16.000000\n",
      "50%       17.000000\n",
      "75%       18.000000\n",
      "max       22.000000\n",
      "Name: age, dtype: float64\n",
      "\n",
      "Range [low: 13.00, high: 21.00]\n"
     ]
    },
    {
     "data": {
      "image/png": "[encoded data removed]",
      "text/plain": [
       "<Figure size 1008x288 with 2 Axes>"
      ]
     },
     "metadata": {
      "needs_background": "light"
     },
     "output_type": "display_data"
    }
   ],
   "source": [
    "analyze(students, 'age')"
   ]
  },
  {
   "cell_type": "markdown",
   "metadata": {},
   "source": [
    "Хотя `22` и попадает под определение \"выброса\", оно находится в границах заданного интервала возрастов (от 15 до 22).\n",
    "\n",
    "Вывод:\n",
    "* является числовым значением,\n",
    "* оставляем как есть."
   ]
  },
  {
   "cell_type": "markdown",
   "metadata": {},
   "source": [
    "### Анализ `address`"
   ]
  },
  {
   "cell_type": "code",
   "execution_count": 13,
   "metadata": {},
   "outputs": [
    {
     "name": "stdout",
     "output_type": "stream",
     "text": [
      "Stats for: address\n",
      "Количество записей без значений: 14\n",
      "\n",
      "Распределение значений\n",
      "U    265\n",
      "R     73\n",
      "Name: address, dtype: int64\n",
      "\n",
      "Статистика значений\n",
      "count     338\n",
      "unique      2\n",
      "top         U\n",
      "freq      265\n",
      "Name: address, dtype: object\n"
     ]
    }
   ],
   "source": [
    "analyze_base(students, 'address')"
   ]
  },
  {
   "cell_type": "markdown",
   "metadata": {},
   "source": [
    "Заполним пустые записи случайными значениями."
   ]
  },
  {
   "cell_type": "code",
   "execution_count": 14,
   "metadata": {},
   "outputs": [
    {
     "name": "stdout",
     "output_type": "stream",
     "text": [
      "Stats for: address\n",
      "Количество записей без значений: 0\n",
      "\n",
      "Распределение значений\n",
      "U    277\n",
      "R     75\n",
      "Name: address, dtype: int64\n",
      "\n",
      "Статистика значений\n",
      "count     352\n",
      "unique      2\n",
      "top         U\n",
      "freq      277\n",
      "Name: address, dtype: object\n"
     ]
    }
   ],
   "source": [
    "import random\n",
    "\n",
    "students['address'] = students['address'].apply(lambda v: random.choices(['U', 'R'], [263, 73], k=1)[0] if pd.isnull(v) else v)\n",
    "analyze_base(students, 'address')"
   ]
  },
  {
   "cell_type": "markdown",
   "metadata": {},
   "source": [
    "### Анализ `famsize`"
   ]
  },
  {
   "cell_type": "code",
   "execution_count": 15,
   "metadata": {},
   "outputs": [
    {
     "name": "stdout",
     "output_type": "stream",
     "text": [
      "Stats for: famsize\n",
      "Количество записей без значений: 24\n",
      "\n",
      "Распределение значений\n",
      "GT3    228\n",
      "LE3    100\n",
      "Name: famsize, dtype: int64\n",
      "\n",
      "Статистика значений\n",
      "count     328\n",
      "unique      2\n",
      "top       GT3\n",
      "freq      228\n",
      "Name: famsize, dtype: object\n"
     ]
    }
   ],
   "source": [
    "analyze_base(students, 'famsize')"
   ]
  },
  {
   "cell_type": "markdown",
   "metadata": {},
   "source": [
    "Заполним пустые записи случайными значениями."
   ]
  },
  {
   "cell_type": "code",
   "execution_count": 16,
   "metadata": {},
   "outputs": [
    {
     "name": "stdout",
     "output_type": "stream",
     "text": [
      "Stats for: famsize\n",
      "Количество записей без значений: 0\n",
      "\n",
      "Распределение значений\n",
      "GT3    246\n",
      "LE3    106\n",
      "Name: famsize, dtype: int64\n",
      "\n",
      "Статистика значений\n",
      "count     352\n",
      "unique      2\n",
      "top       GT3\n",
      "freq      246\n",
      "Name: famsize, dtype: object\n"
     ]
    }
   ],
   "source": [
    "import random\n",
    "\n",
    "students['famsize'] = students['famsize'].apply(lambda v: random.choices(['GT3', 'LE3'], [228, 100], k=1)[0] if pd.isnull(v) else v)\n",
    "analyze_base(students, 'famsize')"
   ]
  },
  {
   "cell_type": "markdown",
   "metadata": {},
   "source": [
    "### Анализ `Pstatus`"
   ]
  },
  {
   "cell_type": "code",
   "execution_count": 17,
   "metadata": {},
   "outputs": [
    {
     "name": "stdout",
     "output_type": "stream",
     "text": [
      "Stats for: Pstatus\n",
      "Количество записей без значений: 41\n",
      "\n",
      "Распределение значений\n",
      "T    277\n",
      "A     34\n",
      "Name: Pstatus, dtype: int64\n",
      "\n",
      "Статистика значений\n",
      "count     311\n",
      "unique      2\n",
      "top         T\n",
      "freq      277\n",
      "Name: Pstatus, dtype: object\n"
     ]
    }
   ],
   "source": [
    "analyze_base(students, 'Pstatus')"
   ]
  },
  {
   "cell_type": "markdown",
   "metadata": {},
   "source": [
    "Заполним пустые записи случайными значениями."
   ]
  },
  {
   "cell_type": "code",
   "execution_count": 18,
   "metadata": {},
   "outputs": [
    {
     "name": "stdout",
     "output_type": "stream",
     "text": [
      "Stats for: Pstatus\n",
      "Количество записей без значений: 0\n",
      "\n",
      "Распределение значений\n",
      "T    316\n",
      "A     36\n",
      "Name: Pstatus, dtype: int64\n",
      "\n",
      "Статистика значений\n",
      "count     352\n",
      "unique      2\n",
      "top         T\n",
      "freq      316\n",
      "Name: Pstatus, dtype: object\n"
     ]
    }
   ],
   "source": [
    "import random\n",
    "\n",
    "students['Pstatus'] = students['Pstatus'].apply(lambda v: random.choices(['T', 'A'], [277, 34], k=1)[0] if pd.isnull(v) else v)\n",
    "analyze_base(students, 'Pstatus')"
   ]
  },
  {
   "cell_type": "markdown",
   "metadata": {},
   "source": [
    "### Анализ `Medu`"
   ]
  },
  {
   "cell_type": "code",
   "execution_count": 19,
   "metadata": {},
   "outputs": [
    {
     "name": "stdout",
     "output_type": "stream",
     "text": [
      "Stats for: Medu\n",
      "Количество записей без значений: 2\n",
      "\n",
      "Распределение значений\n",
      "4.0    125\n",
      "2.0     88\n",
      "3.0     87\n",
      "1.0     47\n",
      "0.0      3\n",
      "Name: Medu, dtype: int64\n",
      "\n",
      "Статистика значений\n",
      "count    350.000000\n",
      "mean       2.811429\n",
      "std        1.091192\n",
      "min        0.000000\n",
      "25%        2.000000\n",
      "50%        3.000000\n",
      "75%        4.000000\n",
      "max        4.000000\n",
      "Name: Medu, dtype: float64\n",
      "\n",
      "Range [low: -1.00, high:  7.00]\n"
     ]
    },
    {
     "data": {
      "image/png": "[encoded data removed]",
      "text/plain": [
       "<Figure size 1008x288 with 2 Axes>"
      ]
     },
     "metadata": {
      "needs_background": "light"
     },
     "output_type": "display_data"
    }
   ],
   "source": [
    "analyze(students, 'Medu')"
   ]
  },
  {
   "cell_type": "markdown",
   "metadata": {},
   "source": [
    "В `Medu` не наблюдается выбросов и некорректных значений несоответствующих описанию поля (0 - нет, 1 - 4 класса, 2 - 5-9 классы, 3 - среднее специальное или 11 классов, 4 - высшее).\n",
    "\n",
    "Вывод:\n",
    "* является номинативным значением,\n",
    "* `2` записи не имеют значений - подставим ближайнее к медианному: `3`."
   ]
  },
  {
   "cell_type": "code",
   "execution_count": 20,
   "metadata": {},
   "outputs": [
    {
     "name": "stdout",
     "output_type": "stream",
     "text": [
      "Stats for: Medu\n",
      "Количество записей без значений: 0\n",
      "\n",
      "Распределение значений\n",
      "4.0    125\n",
      "3.0     89\n",
      "2.0     88\n",
      "1.0     47\n",
      "0.0      3\n",
      "Name: Medu, dtype: int64\n",
      "\n",
      "Статистика значений\n",
      "count    352.000000\n",
      "mean       2.812500\n",
      "std        1.088171\n",
      "min        0.000000\n",
      "25%        2.000000\n",
      "50%        3.000000\n",
      "75%        4.000000\n",
      "max        4.000000\n",
      "Name: Medu, dtype: float64\n",
      "\n",
      "Range [low: -1.00, high:  7.00]\n"
     ]
    },
    {
     "data": {
      "image/png": "[encoded data removed]",
      "text/plain": [
       "<Figure size 1008x288 with 2 Axes>"
      ]
     },
     "metadata": {
      "needs_background": "light"
     },
     "output_type": "display_data"
    }
   ],
   "source": [
    "students['Medu'] = students['Medu'].apply(lambda v: 3 if pd.isnull(v) else v)\n",
    "analyze(students, 'Medu')"
   ]
  },
  {
   "cell_type": "markdown",
   "metadata": {},
   "source": [
    "### Анализ `Fedu`"
   ]
  },
  {
   "cell_type": "code",
   "execution_count": 21,
   "metadata": {},
   "outputs": [
    {
     "name": "stdout",
     "output_type": "stream",
     "text": [
      "Stats for: Fedu\n",
      "Количество записей без значений: 21\n",
      "\n",
      "Распределение значений\n",
      "2.0     94\n",
      "3.0     89\n",
      "4.0     80\n",
      "1.0     65\n",
      "0.0      2\n",
      "40.0     1\n",
      "Name: Fedu, dtype: int64\n",
      "\n",
      "Статистика значений\n",
      "count    331.000000\n",
      "mean       2.658610\n",
      "std        2.324066\n",
      "min        0.000000\n",
      "25%        2.000000\n",
      "50%        3.000000\n",
      "75%        3.000000\n",
      "max       40.000000\n",
      "Name: Fedu, dtype: float64\n",
      "\n",
      "Range [low:  0.50, high:  4.50]\n"
     ]
    },
    {
     "data": {
      "image/png": "[encoded data removed]",
      "text/plain": [
       "<Figure size 1008x288 with 2 Axes>"
      ]
     },
     "metadata": {
      "needs_background": "light"
     },
     "output_type": "display_data"
    }
   ],
   "source": [
    "analyze(students, 'Fedu')"
   ]
  },
  {
   "cell_type": "markdown",
   "metadata": {},
   "source": [
    "`Fedu` содержит некорректное значение `40`. Так как оно одно, это очень похоже на опечатку (лишний `0` в конце). Все остальные попадаею в заданный диапазон значений - (0 - нет, 1 - 4 класса, 2 - 5-9 классы, 3 - среднее специальное или 11 классов, 4 - высшее).\n",
    "\n",
    "Посмотрим на эту запись."
   ]
  },
  {
   "cell_type": "code",
   "execution_count": 22,
   "metadata": {},
   "outputs": [
    {
     "data": {
      "text/html": [
       "<div>\n",
       "<style scoped>\n",
       "    .dataframe tbody tr th:only-of-type {\n",
       "        vertical-align: middle;\n",
       "    }\n",
       "\n",
       "    .dataframe tbody tr th {\n",
       "        vertical-align: top;\n",
       "    }\n",
       "\n",
       "    .dataframe thead th {\n",
       "        text-align: right;\n",
       "    }\n",
       "</style>\n",
       "<table border=\"1\" class=\"dataframe\">\n",
       "  <thead>\n",
       "    <tr style=\"text-align: right;\">\n",
       "      <th></th>\n",
       "      <th>school</th>\n",
       "      <th>sex</th>\n",
       "      <th>age</th>\n",
       "      <th>address</th>\n",
       "      <th>famsize</th>\n",
       "      <th>Pstatus</th>\n",
       "      <th>Medu</th>\n",
       "      <th>Fedu</th>\n",
       "      <th>Mjob</th>\n",
       "      <th>Fjob</th>\n",
       "      <th>reason</th>\n",
       "      <th>guardian</th>\n",
       "      <th>traveltime</th>\n",
       "      <th>studytime</th>\n",
       "      <th>failures</th>\n",
       "      <th>schoolsup</th>\n",
       "      <th>famsup</th>\n",
       "      <th>paid</th>\n",
       "      <th>activities</th>\n",
       "      <th>nursery</th>\n",
       "      <th>studytime, granular</th>\n",
       "      <th>higher</th>\n",
       "      <th>internet</th>\n",
       "      <th>romantic</th>\n",
       "      <th>famrel</th>\n",
       "      <th>freetime</th>\n",
       "      <th>goout</th>\n",
       "      <th>health</th>\n",
       "      <th>absences</th>\n",
       "      <th>score</th>\n",
       "    </tr>\n",
       "  </thead>\n",
       "  <tbody>\n",
       "    <tr>\n",
       "      <th>11</th>\n",
       "      <td>GP</td>\n",
       "      <td>F</td>\n",
       "      <td>15</td>\n",
       "      <td>U</td>\n",
       "      <td>GT3</td>\n",
       "      <td>T</td>\n",
       "      <td>2.0</td>\n",
       "      <td>40.0</td>\n",
       "      <td>services</td>\n",
       "      <td>other</td>\n",
       "      <td>reputation</td>\n",
       "      <td>father</td>\n",
       "      <td>3.0</td>\n",
       "      <td>3.0</td>\n",
       "      <td>0.0</td>\n",
       "      <td>False</td>\n",
       "      <td>True</td>\n",
       "      <td>False</td>\n",
       "      <td>True</td>\n",
       "      <td>True</td>\n",
       "      <td>-9.0</td>\n",
       "      <td>True</td>\n",
       "      <td>True</td>\n",
       "      <td>False</td>\n",
       "      <td>5.0</td>\n",
       "      <td>2.0</td>\n",
       "      <td>2.0</td>\n",
       "      <td>4.0</td>\n",
       "      <td>4.0</td>\n",
       "      <td>60.0</td>\n",
       "    </tr>\n",
       "  </tbody>\n",
       "</table>\n",
       "</div>"
      ],
      "text/plain": [
       "   school sex  age address famsize Pstatus  Medu  Fedu      Mjob   Fjob  \\\n",
       "11     GP   F   15       U     GT3       T   2.0  40.0  services  other   \n",
       "\n",
       "        reason guardian  traveltime  studytime  failures schoolsup famsup  \\\n",
       "11  reputation   father         3.0        3.0       0.0     False   True   \n",
       "\n",
       "     paid activities nursery  studytime, granular higher internet romantic  \\\n",
       "11  False       True    True                 -9.0   True     True    False   \n",
       "\n",
       "    famrel  freetime  goout  health  absences  score  \n",
       "11     5.0       2.0    2.0     4.0       4.0   60.0  "
      ]
     },
     "execution_count": 22,
     "metadata": {},
     "output_type": "execute_result"
    }
   ],
   "source": [
    "students[students['Fedu'] == 40]"
   ]
  },
  {
   "cell_type": "markdown",
   "metadata": {},
   "source": [
    "Другие значения выглядят осмысленными, так что похоже, что `40` - опечатка.\n",
    "\n",
    "Вывод: заменяем `40` на `4`."
   ]
  },
  {
   "cell_type": "code",
   "execution_count": 23,
   "metadata": {},
   "outputs": [],
   "source": [
    "students['Fedu'] = students['Fedu'].apply(lambda v: 4 if v == 40 else v)"
   ]
  },
  {
   "cell_type": "code",
   "execution_count": 24,
   "metadata": {},
   "outputs": [
    {
     "name": "stdout",
     "output_type": "stream",
     "text": [
      "Stats for: Fedu\n",
      "Количество записей без значений: 21\n",
      "\n",
      "Распределение значений\n",
      "2.0    94\n",
      "3.0    89\n",
      "4.0    81\n",
      "1.0    65\n",
      "0.0     2\n",
      "Name: Fedu, dtype: int64\n",
      "\n",
      "Статистика значений\n",
      "count    331.000000\n",
      "mean       2.549849\n",
      "std        1.081424\n",
      "min        0.000000\n",
      "25%        2.000000\n",
      "50%        3.000000\n",
      "75%        3.000000\n",
      "max        4.000000\n",
      "Name: Fedu, dtype: float64\n",
      "\n",
      "Range [low:  0.50, high:  4.50]\n"
     ]
    },
    {
     "data": {
      "image/png": "[encoded data removed]",
      "text/plain": [
       "<Figure size 1008x288 with 2 Axes>"
      ]
     },
     "metadata": {
      "needs_background": "light"
     },
     "output_type": "display_data"
    }
   ],
   "source": [
    "analyze(students, 'Fedu')"
   ]
  },
  {
   "cell_type": "markdown",
   "metadata": {},
   "source": [
    "Сейчас \"выбросом\" является `0`, но так как это значени входит в интервал определения мы его оставляем как есть.\n",
    "\n",
    "Вывод:\n",
    "* является номинативным значением,\n",
    "* 21 записей не имеют значений - подставим ближайнее к медианному: 3."
   ]
  },
  {
   "cell_type": "code",
   "execution_count": 25,
   "metadata": {},
   "outputs": [
    {
     "name": "stdout",
     "output_type": "stream",
     "text": [
      "Stats for: Fedu\n",
      "Количество записей без значений: 0\n",
      "\n",
      "Распределение значений\n",
      "3.0    110\n",
      "2.0     94\n",
      "4.0     81\n",
      "1.0     65\n",
      "0.0      2\n",
      "Name: Fedu, dtype: int64\n",
      "\n",
      "Статистика значений\n",
      "count    352.000000\n",
      "mean       2.576705\n",
      "std        1.053997\n",
      "min        0.000000\n",
      "25%        2.000000\n",
      "50%        3.000000\n",
      "75%        3.000000\n",
      "max        4.000000\n",
      "Name: Fedu, dtype: float64\n",
      "\n",
      "Range [low:  0.50, high:  4.50]\n"
     ]
    },
    {
     "data": {
      "image/png": "[encoded data removed]",
      "text/plain": [
       "<Figure size 1008x288 with 2 Axes>"
      ]
     },
     "metadata": {
      "needs_background": "light"
     },
     "output_type": "display_data"
    }
   ],
   "source": [
    "students['Fedu'] = students['Fedu'].apply(lambda v: 3 if pd.isnull(v) else v)\n",
    "analyze(students, 'Fedu')"
   ]
  },
  {
   "cell_type": "markdown",
   "metadata": {},
   "source": [
    "### Анализ `Mjob`"
   ]
  },
  {
   "cell_type": "code",
   "execution_count": 26,
   "metadata": {},
   "outputs": [
    {
     "name": "stdout",
     "output_type": "stream",
     "text": [
      "Stats for: Mjob\n",
      "Количество записей без значений: 17\n",
      "\n",
      "Распределение значений\n",
      "other       115\n",
      "services     90\n",
      "teacher      51\n",
      "at_home      49\n",
      "health       30\n",
      "Name: Mjob, dtype: int64\n",
      "\n",
      "Статистика значений\n",
      "count       335\n",
      "unique        5\n",
      "top       other\n",
      "freq        115\n",
      "Name: Mjob, dtype: object\n"
     ]
    }
   ],
   "source": [
    "analyze_base(students, 'Mjob')"
   ]
  },
  {
   "cell_type": "markdown",
   "metadata": {},
   "source": [
    "Заполним пустые записи случайными значениями."
   ]
  },
  {
   "cell_type": "code",
   "execution_count": 27,
   "metadata": {},
   "outputs": [
    {
     "name": "stdout",
     "output_type": "stream",
     "text": [
      "Stats for: Mjob\n",
      "Количество записей без значений: 0\n",
      "\n",
      "Распределение значений\n",
      "other       120\n",
      "services     93\n",
      "teacher      55\n",
      "at_home      53\n",
      "health       31\n",
      "Name: Mjob, dtype: int64\n",
      "\n",
      "Статистика значений\n",
      "count       352\n",
      "unique        5\n",
      "top       other\n",
      "freq        120\n",
      "Name: Mjob, dtype: object\n"
     ]
    }
   ],
   "source": [
    "import random\n",
    "\n",
    "values = ['other', 'services', 'teacher', 'at_home', 'health']\n",
    "weights = [115, 90, 51, 49, 30]\n",
    "\n",
    "students['Mjob'] = students['Mjob'].apply(lambda v: random.choices(values, weights, k=1)[0] if pd.isnull(v) else v)\n",
    "analyze_base(students, 'Mjob')"
   ]
  },
  {
   "cell_type": "markdown",
   "metadata": {},
   "source": [
    "### Анализ `Fjob`"
   ]
  },
  {
   "cell_type": "code",
   "execution_count": 28,
   "metadata": {},
   "outputs": [
    {
     "name": "stdout",
     "output_type": "stream",
     "text": [
      "Stats for: Fjob\n",
      "Количество записей без значений: 32\n",
      "\n",
      "Распределение значений\n",
      "other       176\n",
      "services     89\n",
      "teacher      26\n",
      "health       15\n",
      "at_home      14\n",
      "Name: Fjob, dtype: int64\n",
      "\n",
      "Статистика значений\n",
      "count       320\n",
      "unique        5\n",
      "top       other\n",
      "freq        176\n",
      "Name: Fjob, dtype: object\n"
     ]
    }
   ],
   "source": [
    "analyze_base(students, 'Fjob')"
   ]
  },
  {
   "cell_type": "markdown",
   "metadata": {},
   "source": [
    "Заполним пустые записи случайными значениями."
   ]
  },
  {
   "cell_type": "code",
   "execution_count": 29,
   "metadata": {},
   "outputs": [
    {
     "name": "stdout",
     "output_type": "stream",
     "text": [
      "Stats for: Fjob\n",
      "Количество записей без значений: 0\n",
      "\n",
      "Распределение значений\n",
      "other       193\n",
      "services     96\n",
      "teacher      31\n",
      "health       17\n",
      "at_home      15\n",
      "Name: Fjob, dtype: int64\n",
      "\n",
      "Статистика значений\n",
      "count       352\n",
      "unique        5\n",
      "top       other\n",
      "freq        193\n",
      "Name: Fjob, dtype: object\n"
     ]
    }
   ],
   "source": [
    "import random\n",
    "\n",
    "values = ['other', 'services', 'teacher', 'health', 'at_home']\n",
    "weights = [176, 89, 26, 15, 14]\n",
    "\n",
    "students['Fjob'] = students['Fjob'].apply(lambda v: random.choices(values, weights, k=1)[0] if pd.isnull(v) else v)\n",
    "analyze_base(students, 'Fjob')"
   ]
  },
  {
   "cell_type": "markdown",
   "metadata": {},
   "source": [
    "### Анализ `reason`"
   ]
  },
  {
   "cell_type": "code",
   "execution_count": 30,
   "metadata": {},
   "outputs": [
    {
     "name": "stdout",
     "output_type": "stream",
     "text": [
      "Stats for: reason\n",
      "Количество записей без значений: 15\n",
      "\n",
      "Распределение значений\n",
      "course        119\n",
      "reputation     96\n",
      "home           89\n",
      "other          33\n",
      "Name: reason, dtype: int64\n",
      "\n",
      "Статистика значений\n",
      "count        337\n",
      "unique         4\n",
      "top       course\n",
      "freq         119\n",
      "Name: reason, dtype: object\n"
     ]
    }
   ],
   "source": [
    "analyze_base(students, 'reason')"
   ]
  },
  {
   "cell_type": "markdown",
   "metadata": {},
   "source": [
    "Заполним пустые записи случайными значениями."
   ]
  },
  {
   "cell_type": "code",
   "execution_count": 31,
   "metadata": {},
   "outputs": [
    {
     "name": "stdout",
     "output_type": "stream",
     "text": [
      "Stats for: reason\n",
      "Количество записей без значений: 0\n",
      "\n",
      "Распределение значений\n",
      "course        124\n",
      "reputation    100\n",
      "home           94\n",
      "other          34\n",
      "Name: reason, dtype: int64\n",
      "\n",
      "Статистика значений\n",
      "count        352\n",
      "unique         4\n",
      "top       course\n",
      "freq         124\n",
      "Name: reason, dtype: object\n"
     ]
    }
   ],
   "source": [
    "import random\n",
    "\n",
    "values = ['course', 'reputation', 'home', 'other']\n",
    "weights = [118, 96, 89, 32]\n",
    "\n",
    "students['reason'] = students['reason'].apply(lambda v: random.choices(values, weights, k=1)[0] if pd.isnull(v) else v)\n",
    "analyze_base(students, 'reason')"
   ]
  },
  {
   "cell_type": "markdown",
   "metadata": {},
   "source": [
    "### Анализ `guardian`"
   ]
  },
  {
   "cell_type": "code",
   "execution_count": 32,
   "metadata": {},
   "outputs": [
    {
     "name": "stdout",
     "output_type": "stream",
     "text": [
      "Stats for: guardian\n",
      "Количество записей без значений: 29\n",
      "\n",
      "Распределение значений\n",
      "mother    225\n",
      "father     78\n",
      "other      20\n",
      "Name: guardian, dtype: int64\n",
      "\n",
      "Статистика значений\n",
      "count        323\n",
      "unique         3\n",
      "top       mother\n",
      "freq         225\n",
      "Name: guardian, dtype: object\n"
     ]
    }
   ],
   "source": [
    "analyze_base(students, 'guardian')"
   ]
  },
  {
   "cell_type": "markdown",
   "metadata": {},
   "source": [
    "Заполним пустые записи случайными значениями."
   ]
  },
  {
   "cell_type": "code",
   "execution_count": 33,
   "metadata": {},
   "outputs": [
    {
     "name": "stdout",
     "output_type": "stream",
     "text": [
      "Stats for: guardian\n",
      "Количество записей без значений: 0\n",
      "\n",
      "Распределение значений\n",
      "mother    247\n",
      "father     84\n",
      "other      21\n",
      "Name: guardian, dtype: int64\n",
      "\n",
      "Статистика значений\n",
      "count        352\n",
      "unique         3\n",
      "top       mother\n",
      "freq         247\n",
      "Name: guardian, dtype: object\n"
     ]
    }
   ],
   "source": [
    "import random\n",
    "\n",
    "values = ['mother', 'father', 'other']\n",
    "weights = [224, 78, 20]\n",
    "\n",
    "students['guardian'] = students['guardian'].apply(lambda v: random.choices(values, weights, k=1)[0] if pd.isnull(v) else v)\n",
    "analyze_base(students, 'guardian')"
   ]
  },
  {
   "cell_type": "markdown",
   "metadata": {},
   "source": [
    "### Анализ `traveltime`"
   ]
  },
  {
   "cell_type": "code",
   "execution_count": 34,
   "metadata": {},
   "outputs": [
    {
     "name": "stdout",
     "output_type": "stream",
     "text": [
      "Stats for: traveltime\n",
      "Количество записей без значений: 23\n",
      "\n",
      "Распределение значений\n",
      "1.0    219\n",
      "2.0     86\n",
      "3.0     17\n",
      "4.0      7\n",
      "Name: traveltime, dtype: int64\n",
      "\n",
      "Статистика значений\n",
      "count    329.000000\n",
      "mean       1.428571\n",
      "std        0.690907\n",
      "min        1.000000\n",
      "25%        1.000000\n",
      "50%        1.000000\n",
      "75%        2.000000\n",
      "max        4.000000\n",
      "Name: traveltime, dtype: float64\n",
      "\n",
      "Range [low: -0.50, high:  3.50]\n"
     ]
    },
    {
     "data": {
      "image/png": "[encoded data removed]",
      "text/plain": [
       "<Figure size 1008x288 with 2 Axes>"
      ]
     },
     "metadata": {
      "needs_background": "light"
     },
     "output_type": "display_data"
    }
   ],
   "source": [
    "analyze(students, 'traveltime')"
   ]
  },
  {
   "cell_type": "markdown",
   "metadata": {},
   "source": [
    "Хотя `4` и попадает под определение \"выброса\", оно находится в границах заданного интервала (1 - <15 мин., 2 - 15-30 мин., 3 - 30-60 мин., 4 - >60 мин.).\n",
    "\n",
    "Вывод:\n",
    "* является номинативным значением,\n",
    "* 23 записей не имеют значений - подставим ближайнее к медианному: 1."
   ]
  },
  {
   "cell_type": "code",
   "execution_count": 35,
   "metadata": {},
   "outputs": [
    {
     "name": "stdout",
     "output_type": "stream",
     "text": [
      "Stats for: traveltime\n",
      "Количество записей без значений: 0\n",
      "\n",
      "Распределение значений\n",
      "1.0    242\n",
      "2.0     86\n",
      "3.0     17\n",
      "4.0      7\n",
      "Name: traveltime, dtype: int64\n",
      "\n",
      "Статистика значений\n",
      "count    352.000000\n",
      "mean       1.400568\n",
      "std        0.676256\n",
      "min        1.000000\n",
      "25%        1.000000\n",
      "50%        1.000000\n",
      "75%        2.000000\n",
      "max        4.000000\n",
      "Name: traveltime, dtype: float64\n",
      "\n",
      "Range [low: -0.50, high:  3.50]\n"
     ]
    },
    {
     "data": {
      "image/png": "[encoded data removed]",
      "text/plain": [
       "<Figure size 1008x288 with 2 Axes>"
      ]
     },
     "metadata": {
      "needs_background": "light"
     },
     "output_type": "display_data"
    }
   ],
   "source": [
    "students['traveltime'] = students['traveltime'].apply(lambda v: 1 if pd.isnull(v) else v)\n",
    "analyze(students, 'traveltime')"
   ]
  },
  {
   "cell_type": "markdown",
   "metadata": {},
   "source": [
    "### Анализ `studytime`"
   ]
  },
  {
   "cell_type": "code",
   "execution_count": 36,
   "metadata": {},
   "outputs": [
    {
     "name": "stdout",
     "output_type": "stream",
     "text": [
      "Stats for: studytime\n",
      "Количество записей без значений: 7\n",
      "\n",
      "Распределение значений\n",
      "2.0    173\n",
      "1.0     90\n",
      "3.0     58\n",
      "4.0     24\n",
      "Name: studytime, dtype: int64\n",
      "\n",
      "Статистика значений\n",
      "count    345.000000\n",
      "mean       2.046377\n",
      "std        0.840919\n",
      "min        1.000000\n",
      "25%        1.000000\n",
      "50%        2.000000\n",
      "75%        2.000000\n",
      "max        4.000000\n",
      "Name: studytime, dtype: float64\n",
      "\n",
      "Range [low: -0.50, high:  3.50]\n"
     ]
    },
    {
     "data": {
      "image/png": "[encoded data removed]",
      "text/plain": [
       "<Figure size 1008x288 with 2 Axes>"
      ]
     },
     "metadata": {
      "needs_background": "light"
     },
     "output_type": "display_data"
    }
   ],
   "source": [
    "analyze(students, 'studytime')"
   ]
  },
  {
   "cell_type": "markdown",
   "metadata": {},
   "source": [
    "Хотя `4` и попадает под определение \"выброса\", оно находится в границах заданного интервала (1 - <2 часов, 2 - 2-5 часов, 3 - 5-10 часов, 4 - >10 часов).\n",
    "\n",
    "Вывод:\n",
    "* является номинативным значением,\n",
    "* 7 записей не имеют значений - подставим ближайнее к медианному: 2."
   ]
  },
  {
   "cell_type": "code",
   "execution_count": 37,
   "metadata": {},
   "outputs": [
    {
     "name": "stdout",
     "output_type": "stream",
     "text": [
      "Stats for: studytime\n",
      "Количество записей без значений: 0\n",
      "\n",
      "Распределение значений\n",
      "2.0    180\n",
      "1.0     90\n",
      "3.0     58\n",
      "4.0     24\n",
      "Name: studytime, dtype: int64\n",
      "\n",
      "Статистика значений\n",
      "count    352.000000\n",
      "mean       2.045455\n",
      "std        0.832517\n",
      "min        1.000000\n",
      "25%        1.000000\n",
      "50%        2.000000\n",
      "75%        2.000000\n",
      "max        4.000000\n",
      "Name: studytime, dtype: float64\n",
      "\n",
      "Range [low: -0.50, high:  3.50]\n"
     ]
    },
    {
     "data": {
      "image/png": "[encoded data removed]",
      "text/plain": [
       "<Figure size 1008x288 with 2 Axes>"
      ]
     },
     "metadata": {
      "needs_background": "light"
     },
     "output_type": "display_data"
    }
   ],
   "source": [
    "students['studytime'] = students['studytime'].apply(lambda v: 2 if pd.isnull(v) else v)\n",
    "analyze(students, 'studytime')"
   ]
  },
  {
   "cell_type": "markdown",
   "metadata": {},
   "source": [
    "### Анализ `failures`"
   ]
  },
  {
   "cell_type": "code",
   "execution_count": 38,
   "metadata": {},
   "outputs": [
    {
     "name": "stdout",
     "output_type": "stream",
     "text": [
      "Stats for: failures\n",
      "Количество записей без значений: 20\n",
      "\n",
      "Распределение значений\n",
      "0.0    273\n",
      "1.0     38\n",
      "2.0     11\n",
      "3.0     10\n",
      "Name: failures, dtype: int64\n",
      "\n",
      "Статистика значений\n",
      "count    332.000000\n",
      "mean       0.271084\n",
      "std        0.667779\n",
      "min        0.000000\n",
      "25%        0.000000\n",
      "50%        0.000000\n",
      "75%        0.000000\n",
      "max        3.000000\n",
      "Name: failures, dtype: float64\n",
      "\n",
      "Range [low:  0.00, high:  0.00]\n"
     ]
    },
    {
     "data": {
      "image/png": "[encoded data removed]",
      "text/plain": [
       "<Figure size 1008x288 with 2 Axes>"
      ]
     },
     "metadata": {
      "needs_background": "light"
     },
     "output_type": "display_data"
    }
   ],
   "source": [
    "analyze(students, 'failures')"
   ]
  },
  {
   "cell_type": "markdown",
   "metadata": {},
   "source": [
    "Все \"выбросы\" находится в границах заданного интервала (n, если 1<=n<=3, иначе 0). При это `0` может означать как отутствие неудач, так и то, что неудач больше `3`.\n",
    "\n",
    "Вывод:\n",
    "* является номинативным значением,\n",
    "* 20 записей не имеют значений - подставим ближайнее к медианному: 0."
   ]
  },
  {
   "cell_type": "code",
   "execution_count": 39,
   "metadata": {},
   "outputs": [
    {
     "name": "stdout",
     "output_type": "stream",
     "text": [
      "Stats for: failures\n",
      "Количество записей без значений: 0\n",
      "\n",
      "Распределение значений\n",
      "0.0    293\n",
      "1.0     38\n",
      "2.0     11\n",
      "3.0     10\n",
      "Name: failures, dtype: int64\n",
      "\n",
      "Статистика значений\n",
      "count    352.000000\n",
      "mean       0.255682\n",
      "std        0.651513\n",
      "min        0.000000\n",
      "25%        0.000000\n",
      "50%        0.000000\n",
      "75%        0.000000\n",
      "max        3.000000\n",
      "Name: failures, dtype: float64\n",
      "\n",
      "Range [low:  0.00, high:  0.00]\n"
     ]
    },
    {
     "data": {
      "image/png": "[encoded data removed]",
      "text/plain": [
       "<Figure size 1008x288 with 2 Axes>"
      ]
     },
     "metadata": {
      "needs_background": "light"
     },
     "output_type": "display_data"
    }
   ],
   "source": [
    "students['failures'] = students['failures'].apply(lambda v: 0 if pd.isnull(v) else v)\n",
    "analyze(students, 'failures')"
   ]
  },
  {
   "cell_type": "markdown",
   "metadata": {},
   "source": [
    "### Анализ `studytime, granular`"
   ]
  },
  {
   "cell_type": "code",
   "execution_count": 40,
   "metadata": {},
   "outputs": [
    {
     "name": "stdout",
     "output_type": "stream",
     "text": [
      "Stats for: studytime, granular\n",
      "Количество записей без значений: 7\n",
      "\n",
      "Распределение значений\n",
      "-6.0     173\n",
      "-3.0      90\n",
      "-9.0      58\n",
      "-12.0     24\n",
      "Name: studytime, granular, dtype: int64\n",
      "\n",
      "Статистика значений\n",
      "count    345.000000\n",
      "mean      -6.139130\n",
      "std        2.522758\n",
      "min      -12.000000\n",
      "25%       -6.000000\n",
      "50%       -6.000000\n",
      "75%       -3.000000\n",
      "max       -3.000000\n",
      "Name: studytime, granular, dtype: float64\n",
      "\n",
      "Range [low: -10.50, high:  1.50]\n"
     ]
    },
    {
     "data": {
      "image/png": "[encoded data removed]",
      "text/plain": [
       "<Figure size 1008x288 with 2 Axes>"
      ]
     },
     "metadata": {
      "needs_background": "light"
     },
     "output_type": "display_data"
    }
   ],
   "source": [
    "analyze(students, 'studytime, granular')"
   ]
  },
  {
   "cell_type": "markdown",
   "metadata": {},
   "source": [
    "Выглядит очень похоже на `studytime`."
   ]
  },
  {
   "cell_type": "code",
   "execution_count": 41,
   "metadata": {},
   "outputs": [
    {
     "data": {
      "text/plain": [
       "<matplotlib.axes._subplots.AxesSubplot at 0x7fda5807e910>"
      ]
     },
     "execution_count": 41,
     "metadata": {},
     "output_type": "execute_result"
    },
    {
     "data": {
      "image/png": "[encoded data removed]",
      "text/plain": [
       "<Figure size 432x288 with 2 Axes>"
      ]
     },
     "metadata": {
      "needs_background": "light"
     },
     "output_type": "display_data"
    }
   ],
   "source": [
    "sns.heatmap(students[['studytime', 'studytime, granular']].corr())"
   ]
  },
  {
   "cell_type": "markdown",
   "metadata": {},
   "source": [
    "Похоже на обратную корреляцию. Найдём коэффицент."
   ]
  },
  {
   "cell_type": "code",
   "execution_count": 42,
   "metadata": {},
   "outputs": [
    {
     "data": {
      "text/plain": [
       "-3.0    345\n",
       "dtype: int64"
      ]
     },
     "execution_count": 42,
     "metadata": {},
     "output_type": "execute_result"
    }
   ],
   "source": [
    "s = students['studytime, granular'] / students['studytime']\n",
    "s.value_counts()"
   ]
  },
  {
   "cell_type": "markdown",
   "metadata": {},
   "source": [
    "Все записи имеют соотношение `'studytime' * 3 = 'studytime, granular'`.\n",
    "\n",
    "Вывод: значения в колонке `studytime, granular` избыточны и должны быть исключены."
   ]
  },
  {
   "cell_type": "code",
   "execution_count": 43,
   "metadata": {},
   "outputs": [],
   "source": [
    "students = students.drop(columns=['studytime, granular'])"
   ]
  },
  {
   "cell_type": "markdown",
   "metadata": {},
   "source": [
    "### Анализ `schoolsup`"
   ]
  },
  {
   "cell_type": "code",
   "execution_count": 44,
   "metadata": {},
   "outputs": [
    {
     "name": "stdout",
     "output_type": "stream",
     "text": [
      "Stats for: schoolsup\n",
      "Количество записей без значений: 9\n",
      "\n",
      "Распределение значений\n",
      "False    295\n",
      "True      48\n",
      "Name: schoolsup, dtype: int64\n",
      "\n",
      "Статистика значений\n",
      "count       343\n",
      "unique        2\n",
      "top       False\n",
      "freq        295\n",
      "Name: schoolsup, dtype: object\n"
     ]
    }
   ],
   "source": [
    "analyze_base(students, 'schoolsup')"
   ]
  },
  {
   "cell_type": "markdown",
   "metadata": {},
   "source": [
    "Заполним пустые записи случайными значениями."
   ]
  },
  {
   "cell_type": "code",
   "execution_count": 45,
   "metadata": {},
   "outputs": [
    {
     "name": "stdout",
     "output_type": "stream",
     "text": [
      "Stats for: schoolsup\n",
      "Количество записей без значений: 0\n",
      "\n",
      "Распределение значений\n",
      "False    301\n",
      "True      51\n",
      "Name: schoolsup, dtype: int64\n",
      "\n",
      "Статистика значений\n",
      "count       352\n",
      "unique        2\n",
      "top       False\n",
      "freq        301\n",
      "Name: schoolsup, dtype: object\n"
     ]
    }
   ],
   "source": [
    "import random\n",
    "\n",
    "values = [False, True]\n",
    "weights = [295, 48]\n",
    "\n",
    "students['schoolsup'] = students['schoolsup'].apply(lambda v: random.choices(values, weights, k=1)[0] if pd.isnull(v) else v)\n",
    "analyze_base(students, 'schoolsup')"
   ]
  },
  {
   "cell_type": "markdown",
   "metadata": {},
   "source": [
    "### Анализ `famsup`"
   ]
  },
  {
   "cell_type": "code",
   "execution_count": 46,
   "metadata": {},
   "outputs": [
    {
     "name": "stdout",
     "output_type": "stream",
     "text": [
      "Stats for: famsup\n",
      "Количество записей без значений: 36\n",
      "\n",
      "Распределение значений\n",
      "True     196\n",
      "False    120\n",
      "Name: famsup, dtype: int64\n",
      "\n",
      "Статистика значений\n",
      "count      316\n",
      "unique       2\n",
      "top       True\n",
      "freq       196\n",
      "Name: famsup, dtype: object\n"
     ]
    }
   ],
   "source": [
    "analyze_base(students, 'famsup')"
   ]
  },
  {
   "cell_type": "markdown",
   "metadata": {},
   "source": [
    "Заполним пустые записи случайными значениями."
   ]
  },
  {
   "cell_type": "code",
   "execution_count": 47,
   "metadata": {},
   "outputs": [
    {
     "name": "stdout",
     "output_type": "stream",
     "text": [
      "Stats for: famsup\n",
      "Количество записей без значений: 0\n",
      "\n",
      "Распределение значений\n",
      "True     216\n",
      "False    136\n",
      "Name: famsup, dtype: int64\n",
      "\n",
      "Статистика значений\n",
      "count      352\n",
      "unique       2\n",
      "top       True\n",
      "freq       216\n",
      "Name: famsup, dtype: object\n"
     ]
    }
   ],
   "source": [
    "import random\n",
    "\n",
    "values = [True, False]\n",
    "weights = [196, 120]\n",
    "\n",
    "students['famsup'] = students['famsup'].apply(lambda v: random.choices(values, weights, k=1)[0] if pd.isnull(v) else v)\n",
    "analyze_base(students, 'famsup')"
   ]
  },
  {
   "cell_type": "markdown",
   "metadata": {},
   "source": [
    "### Анализ `paid`"
   ]
  },
  {
   "cell_type": "code",
   "execution_count": 48,
   "metadata": {},
   "outputs": [
    {
     "name": "stdout",
     "output_type": "stream",
     "text": [
      "Stats for: paid\n",
      "Количество записей без значений: 36\n",
      "\n",
      "Распределение значений\n",
      "False    170\n",
      "True     146\n",
      "Name: paid, dtype: int64\n",
      "\n",
      "Статистика значений\n",
      "count       316\n",
      "unique        2\n",
      "top       False\n",
      "freq        170\n",
      "Name: paid, dtype: object\n"
     ]
    }
   ],
   "source": [
    "analyze_base(students, 'paid')"
   ]
  },
  {
   "cell_type": "markdown",
   "metadata": {},
   "source": [
    "Заполним пустые записи случайными значениями."
   ]
  },
  {
   "cell_type": "code",
   "execution_count": 49,
   "metadata": {},
   "outputs": [
    {
     "name": "stdout",
     "output_type": "stream",
     "text": [
      "Stats for: paid\n",
      "Количество записей без значений: 0\n",
      "\n",
      "Распределение значений\n",
      "False    191\n",
      "True     161\n",
      "Name: paid, dtype: int64\n",
      "\n",
      "Статистика значений\n",
      "count       352\n",
      "unique        2\n",
      "top       False\n",
      "freq        191\n",
      "Name: paid, dtype: object\n"
     ]
    }
   ],
   "source": [
    "import random\n",
    "\n",
    "values = [False, True]\n",
    "weights = [170, 146]\n",
    "\n",
    "students['paid'] = students['paid'].apply(lambda v: random.choices(values, weights, k=1)[0] if pd.isnull(v) else v)\n",
    "analyze_base(students, 'paid')"
   ]
  },
  {
   "cell_type": "markdown",
   "metadata": {},
   "source": [
    "### Анализ `activities`"
   ]
  },
  {
   "cell_type": "code",
   "execution_count": 50,
   "metadata": {},
   "outputs": [
    {
     "name": "stdout",
     "output_type": "stream",
     "text": [
      "Stats for: activities\n",
      "Количество записей без значений: 12\n",
      "\n",
      "Распределение значений\n",
      "True     172\n",
      "False    168\n",
      "Name: activities, dtype: int64\n",
      "\n",
      "Статистика значений\n",
      "count      340\n",
      "unique       2\n",
      "top       True\n",
      "freq       172\n",
      "Name: activities, dtype: object\n"
     ]
    }
   ],
   "source": [
    "analyze_base(students, 'activities')"
   ]
  },
  {
   "cell_type": "markdown",
   "metadata": {},
   "source": [
    "Заполним пустые записи случайными значениями."
   ]
  },
  {
   "cell_type": "code",
   "execution_count": 51,
   "metadata": {},
   "outputs": [
    {
     "name": "stdout",
     "output_type": "stream",
     "text": [
      "Stats for: activities\n",
      "Количество записей без значений: 0\n",
      "\n",
      "Распределение значений\n",
      "True     178\n",
      "False    174\n",
      "Name: activities, dtype: int64\n",
      "\n",
      "Статистика значений\n",
      "count      352\n",
      "unique       2\n",
      "top       True\n",
      "freq       178\n",
      "Name: activities, dtype: object\n"
     ]
    }
   ],
   "source": [
    "import random\n",
    "\n",
    "values = [True, False]\n",
    "weights = [172, 168]\n",
    "\n",
    "students['activities'] = students['activities'].apply(lambda v: random.choices(values, weights, k=1)[0] if pd.isnull(v) else v)\n",
    "analyze_base(students, 'activities')"
   ]
  },
  {
   "cell_type": "markdown",
   "metadata": {},
   "source": [
    "### Анализ `nursery`"
   ]
  },
  {
   "cell_type": "code",
   "execution_count": 52,
   "metadata": {},
   "outputs": [
    {
     "name": "stdout",
     "output_type": "stream",
     "text": [
      "Stats for: nursery\n",
      "Количество записей без значений: 12\n",
      "\n",
      "Распределение значений\n",
      "True     272\n",
      "False     68\n",
      "Name: nursery, dtype: int64\n",
      "\n",
      "Статистика значений\n",
      "count      340\n",
      "unique       2\n",
      "top       True\n",
      "freq       272\n",
      "Name: nursery, dtype: object\n"
     ]
    }
   ],
   "source": [
    "analyze_base(students, 'nursery')"
   ]
  },
  {
   "cell_type": "markdown",
   "metadata": {},
   "source": [
    "Заполним пустые записи случайными значениями."
   ]
  },
  {
   "cell_type": "code",
   "execution_count": 53,
   "metadata": {},
   "outputs": [
    {
     "name": "stdout",
     "output_type": "stream",
     "text": [
      "Stats for: nursery\n",
      "Количество записей без значений: 0\n",
      "\n",
      "Распределение значений\n",
      "True     282\n",
      "False     70\n",
      "Name: nursery, dtype: int64\n",
      "\n",
      "Статистика значений\n",
      "count      352\n",
      "unique       2\n",
      "top       True\n",
      "freq       282\n",
      "Name: nursery, dtype: object\n"
     ]
    }
   ],
   "source": [
    "import random\n",
    "\n",
    "values = [True, False]\n",
    "weights = [272, 68]\n",
    "\n",
    "students['nursery'] = students['nursery'].apply(lambda v: random.choices(values, weights, k=1)[0] if pd.isnull(v) else v)\n",
    "analyze_base(students, 'nursery')"
   ]
  },
  {
   "cell_type": "markdown",
   "metadata": {},
   "source": [
    "### Анализ `higher`"
   ]
  },
  {
   "cell_type": "code",
   "execution_count": 54,
   "metadata": {},
   "outputs": [
    {
     "name": "stdout",
     "output_type": "stream",
     "text": [
      "Stats for: higher\n",
      "Количество записей без значений: 19\n",
      "\n",
      "Распределение значений\n",
      "True     320\n",
      "False     13\n",
      "Name: higher, dtype: int64\n",
      "\n",
      "Статистика значений\n",
      "count      333\n",
      "unique       2\n",
      "top       True\n",
      "freq       320\n",
      "Name: higher, dtype: object\n"
     ]
    }
   ],
   "source": [
    "analyze_base(students, 'higher')"
   ]
  },
  {
   "cell_type": "markdown",
   "metadata": {},
   "source": [
    "Заполним пустые записи случайными значениями."
   ]
  },
  {
   "cell_type": "code",
   "execution_count": 55,
   "metadata": {},
   "outputs": [
    {
     "name": "stdout",
     "output_type": "stream",
     "text": [
      "Stats for: higher\n",
      "Количество записей без значений: 0\n",
      "\n",
      "Распределение значений\n",
      "True     338\n",
      "False     14\n",
      "Name: higher, dtype: int64\n",
      "\n",
      "Статистика значений\n",
      "count      352\n",
      "unique       2\n",
      "top       True\n",
      "freq       338\n",
      "Name: higher, dtype: object\n"
     ]
    }
   ],
   "source": [
    "import random\n",
    "\n",
    "values = [True, False]\n",
    "weights = [320, 13]\n",
    "\n",
    "students['higher'] = students['higher'].apply(lambda v: random.choices(values, weights, k=1)[0] if pd.isnull(v) else v)\n",
    "analyze_base(students, 'higher')"
   ]
  },
  {
   "cell_type": "markdown",
   "metadata": {},
   "source": [
    "### Анализ `internet`"
   ]
  },
  {
   "cell_type": "code",
   "execution_count": 56,
   "metadata": {},
   "outputs": [
    {
     "name": "stdout",
     "output_type": "stream",
     "text": [
      "Stats for: internet\n",
      "Количество записей без значений: 29\n",
      "\n",
      "Распределение значений\n",
      "True     274\n",
      "False     49\n",
      "Name: internet, dtype: int64\n",
      "\n",
      "Статистика значений\n",
      "count      323\n",
      "unique       2\n",
      "top       True\n",
      "freq       274\n",
      "Name: internet, dtype: object\n"
     ]
    }
   ],
   "source": [
    "analyze_base(students, 'internet')"
   ]
  },
  {
   "cell_type": "markdown",
   "metadata": {},
   "source": [
    "Заполним пустые записи случайными значениями."
   ]
  },
  {
   "cell_type": "code",
   "execution_count": 57,
   "metadata": {},
   "outputs": [
    {
     "name": "stdout",
     "output_type": "stream",
     "text": [
      "Stats for: internet\n",
      "Количество записей без значений: 0\n",
      "\n",
      "Распределение значений\n",
      "True     300\n",
      "False     52\n",
      "Name: internet, dtype: int64\n",
      "\n",
      "Статистика значений\n",
      "count      352\n",
      "unique       2\n",
      "top       True\n",
      "freq       300\n",
      "Name: internet, dtype: object\n"
     ]
    }
   ],
   "source": [
    "import random\n",
    "\n",
    "values = [True, False]\n",
    "weights = [274, 49]\n",
    "\n",
    "students['internet'] = students['internet'].apply(lambda v: random.choices(values, weights, k=1)[0] if pd.isnull(v) else v)\n",
    "analyze_base(students, 'internet')"
   ]
  },
  {
   "cell_type": "markdown",
   "metadata": {},
   "source": [
    "### Анализ `romantic`"
   ]
  },
  {
   "cell_type": "code",
   "execution_count": 58,
   "metadata": {},
   "outputs": [
    {
     "name": "stdout",
     "output_type": "stream",
     "text": [
      "Stats for: romantic\n",
      "Количество записей без значений: 29\n",
      "\n",
      "Распределение значений\n",
      "False    219\n",
      "True     104\n",
      "Name: romantic, dtype: int64\n",
      "\n",
      "Статистика значений\n",
      "count       323\n",
      "unique        2\n",
      "top       False\n",
      "freq        219\n",
      "Name: romantic, dtype: object\n"
     ]
    }
   ],
   "source": [
    "analyze_base(students, 'romantic')"
   ]
  },
  {
   "cell_type": "markdown",
   "metadata": {},
   "source": [
    "Заполним пустые записи случайными значениями."
   ]
  },
  {
   "cell_type": "code",
   "execution_count": 59,
   "metadata": {},
   "outputs": [
    {
     "name": "stdout",
     "output_type": "stream",
     "text": [
      "Stats for: romantic\n",
      "Количество записей без значений: 0\n",
      "\n",
      "Распределение значений\n",
      "False    239\n",
      "True     113\n",
      "Name: romantic, dtype: int64\n",
      "\n",
      "Статистика значений\n",
      "count       352\n",
      "unique        2\n",
      "top       False\n",
      "freq        239\n",
      "Name: romantic, dtype: object\n"
     ]
    }
   ],
   "source": [
    "import random\n",
    "\n",
    "values = [False, True]\n",
    "weights = [219, 104]\n",
    "\n",
    "students['romantic'] = students['romantic'].apply(lambda v: random.choices(values, weights, k=1)[0] if pd.isnull(v) else v)\n",
    "analyze_base(students, 'romantic')"
   ]
  },
  {
   "cell_type": "markdown",
   "metadata": {},
   "source": [
    "### Анализ `famrel`"
   ]
  },
  {
   "cell_type": "code",
   "execution_count": 60,
   "metadata": {},
   "outputs": [
    {
     "name": "stdout",
     "output_type": "stream",
     "text": [
      "Stats for: famrel\n",
      "Количество записей без значений: 24\n",
      "\n",
      "Распределение значений\n",
      " 4.0    163\n",
      " 5.0     88\n",
      " 3.0     56\n",
      " 2.0     14\n",
      " 1.0      6\n",
      "-1.0      1\n",
      "Name: famrel, dtype: int64\n",
      "\n",
      "Статистика значений\n",
      "count    328.000000\n",
      "mean       3.942073\n",
      "std        0.921871\n",
      "min       -1.000000\n",
      "25%        4.000000\n",
      "50%        4.000000\n",
      "75%        5.000000\n",
      "max        5.000000\n",
      "Name: famrel, dtype: float64\n",
      "\n",
      "Range [low:  2.50, high:  6.50]\n"
     ]
    },
    {
     "data": {
      "image/png": "[encoded data removed]",
      "text/plain": [
       "<Figure size 1008x288 with 2 Axes>"
      ]
     },
     "metadata": {
      "needs_background": "light"
     },
     "output_type": "display_data"
    }
   ],
   "source": [
    "analyze(students, 'famrel')"
   ]
  },
  {
   "cell_type": "markdown",
   "metadata": {},
   "source": [
    "Наблюдается значение `-1` выходящее за границы определения (от 1 - очень плохо до 5 - очень хорошо). Рассмотрим эту запись."
   ]
  },
  {
   "cell_type": "code",
   "execution_count": 61,
   "metadata": {},
   "outputs": [
    {
     "data": {
      "text/html": [
       "<div>\n",
       "<style scoped>\n",
       "    .dataframe tbody tr th:only-of-type {\n",
       "        vertical-align: middle;\n",
       "    }\n",
       "\n",
       "    .dataframe tbody tr th {\n",
       "        vertical-align: top;\n",
       "    }\n",
       "\n",
       "    .dataframe thead th {\n",
       "        text-align: right;\n",
       "    }\n",
       "</style>\n",
       "<table border=\"1\" class=\"dataframe\">\n",
       "  <thead>\n",
       "    <tr style=\"text-align: right;\">\n",
       "      <th></th>\n",
       "      <th>school</th>\n",
       "      <th>sex</th>\n",
       "      <th>age</th>\n",
       "      <th>address</th>\n",
       "      <th>famsize</th>\n",
       "      <th>Pstatus</th>\n",
       "      <th>Medu</th>\n",
       "      <th>Fedu</th>\n",
       "      <th>Mjob</th>\n",
       "      <th>Fjob</th>\n",
       "      <th>reason</th>\n",
       "      <th>guardian</th>\n",
       "      <th>traveltime</th>\n",
       "      <th>studytime</th>\n",
       "      <th>failures</th>\n",
       "      <th>schoolsup</th>\n",
       "      <th>famsup</th>\n",
       "      <th>paid</th>\n",
       "      <th>activities</th>\n",
       "      <th>nursery</th>\n",
       "      <th>higher</th>\n",
       "      <th>internet</th>\n",
       "      <th>romantic</th>\n",
       "      <th>famrel</th>\n",
       "      <th>freetime</th>\n",
       "      <th>goout</th>\n",
       "      <th>health</th>\n",
       "      <th>absences</th>\n",
       "      <th>score</th>\n",
       "    </tr>\n",
       "  </thead>\n",
       "  <tbody>\n",
       "    <tr>\n",
       "      <th>25</th>\n",
       "      <td>GP</td>\n",
       "      <td>F</td>\n",
       "      <td>16</td>\n",
       "      <td>U</td>\n",
       "      <td>GT3</td>\n",
       "      <td>T</td>\n",
       "      <td>2.0</td>\n",
       "      <td>2.0</td>\n",
       "      <td>services</td>\n",
       "      <td>services</td>\n",
       "      <td>home</td>\n",
       "      <td>mother</td>\n",
       "      <td>1.0</td>\n",
       "      <td>1.0</td>\n",
       "      <td>2.0</td>\n",
       "      <td>False</td>\n",
       "      <td>True</td>\n",
       "      <td>True</td>\n",
       "      <td>False</td>\n",
       "      <td>False</td>\n",
       "      <td>True</td>\n",
       "      <td>True</td>\n",
       "      <td>False</td>\n",
       "      <td>-1.0</td>\n",
       "      <td>2.0</td>\n",
       "      <td>2.0</td>\n",
       "      <td>5.0</td>\n",
       "      <td>14.0</td>\n",
       "      <td>40.0</td>\n",
       "    </tr>\n",
       "  </tbody>\n",
       "</table>\n",
       "</div>"
      ],
      "text/plain": [
       "   school sex  age address famsize Pstatus  Medu  Fedu      Mjob      Fjob  \\\n",
       "25     GP   F   16       U     GT3       T   2.0   2.0  services  services   \n",
       "\n",
       "   reason guardian  traveltime  studytime  failures  schoolsup  famsup  paid  \\\n",
       "25   home   mother         1.0        1.0       2.0      False    True  True   \n",
       "\n",
       "    activities  nursery  higher  internet  romantic  famrel  freetime  goout  \\\n",
       "25       False    False    True      True     False    -1.0       2.0    2.0   \n",
       "\n",
       "    health  absences  score  \n",
       "25     5.0      14.0   40.0  "
      ]
     },
     "execution_count": 61,
     "metadata": {},
     "output_type": "execute_result"
    }
   ],
   "source": [
    "students[students['famrel'] == -1]"
   ]
  },
  {
   "cell_type": "markdown",
   "metadata": {},
   "source": [
    "Другие значения выглядят осмысленными, так что похоже, что `-1` - опечатка с минусом.\n",
    "\n",
    "Вывод: заменяем `-1` на `1`."
   ]
  },
  {
   "cell_type": "code",
   "execution_count": 62,
   "metadata": {},
   "outputs": [],
   "source": [
    "students['famrel'] = students['famrel'].apply(lambda v: 1 if v == -1 else v)"
   ]
  },
  {
   "cell_type": "code",
   "execution_count": 63,
   "metadata": {},
   "outputs": [
    {
     "name": "stdout",
     "output_type": "stream",
     "text": [
      "Stats for: famrel\n",
      "Количество записей без значений: 24\n",
      "\n",
      "Распределение значений\n",
      "4.0    163\n",
      "5.0     88\n",
      "3.0     56\n",
      "2.0     14\n",
      "1.0      7\n",
      "Name: famrel, dtype: int64\n",
      "\n",
      "Статистика значений\n",
      "count    328.000000\n",
      "mean       3.948171\n",
      "std        0.895314\n",
      "min        1.000000\n",
      "25%        4.000000\n",
      "50%        4.000000\n",
      "75%        5.000000\n",
      "max        5.000000\n",
      "Name: famrel, dtype: float64\n",
      "\n",
      "Range [low:  2.50, high:  6.50]\n"
     ]
    },
    {
     "data": {
      "image/png": "[encoded data removed]",
      "text/plain": [
       "<Figure size 1008x288 with 2 Axes>"
      ]
     },
     "metadata": {
      "needs_background": "light"
     },
     "output_type": "display_data"
    }
   ],
   "source": [
    "analyze(students, 'famrel')"
   ]
  },
  {
   "cell_type": "markdown",
   "metadata": {},
   "source": [
    "Вывод:\n",
    "* является номинативным значением,\n",
    "* 24 записей не имеют значений - подставим ближайнее к медианному: 4."
   ]
  },
  {
   "cell_type": "code",
   "execution_count": 64,
   "metadata": {},
   "outputs": [
    {
     "name": "stdout",
     "output_type": "stream",
     "text": [
      "Stats for: famrel\n",
      "Количество записей без значений: 0\n",
      "\n",
      "Распределение значений\n",
      "4.0    187\n",
      "5.0     88\n",
      "3.0     56\n",
      "2.0     14\n",
      "1.0      7\n",
      "Name: famrel, dtype: int64\n",
      "\n",
      "Статистика значений\n",
      "count    352.000000\n",
      "mean       3.951705\n",
      "std        0.864262\n",
      "min        1.000000\n",
      "25%        4.000000\n",
      "50%        4.000000\n",
      "75%        4.250000\n",
      "max        5.000000\n",
      "Name: famrel, dtype: float64\n",
      "\n",
      "Range [low:  3.62, high:  4.62]\n"
     ]
    },
    {
     "data": {
      "image/png": "[encoded data removed]",
      "text/plain": [
       "<Figure size 1008x288 with 2 Axes>"
      ]
     },
     "metadata": {
      "needs_background": "light"
     },
     "output_type": "display_data"
    }
   ],
   "source": [
    "students['famrel'] = students['famrel'].apply(lambda v: 4 if pd.isnull(v) else v)\n",
    "analyze(students, 'famrel')"
   ]
  },
  {
   "cell_type": "markdown",
   "metadata": {},
   "source": [
    "### Анализ `freetime`"
   ]
  },
  {
   "cell_type": "code",
   "execution_count": 65,
   "metadata": {},
   "outputs": [
    {
     "name": "stdout",
     "output_type": "stream",
     "text": [
      "Stats for: freetime\n",
      "Количество записей без значений: 8\n",
      "\n",
      "Распределение значений\n",
      "3.0    132\n",
      "4.0    102\n",
      "2.0     59\n",
      "5.0     35\n",
      "1.0     16\n",
      "Name: freetime, dtype: int64\n",
      "\n",
      "Статистика значений\n",
      "count    344.000000\n",
      "mean       3.235465\n",
      "std        1.004258\n",
      "min        1.000000\n",
      "25%        3.000000\n",
      "50%        3.000000\n",
      "75%        4.000000\n",
      "max        5.000000\n",
      "Name: freetime, dtype: float64\n",
      "\n",
      "Range [low:  1.50, high:  5.50]\n"
     ]
    },
    {
     "data": {
      "image/png": "[encoded data removed]",
      "text/plain": [
       "<Figure size 1008x288 with 2 Axes>"
      ]
     },
     "metadata": {
      "needs_background": "light"
     },
     "output_type": "display_data"
    }
   ],
   "source": [
    "analyze(students, 'freetime')"
   ]
  },
  {
   "cell_type": "markdown",
   "metadata": {},
   "source": [
    "Хотя значение `1` и попадает под определение \"выброса\", оно находится в границах заданного интервала (от 1 - очень мало до 5 - очень мого).\n",
    "\n",
    "Вывод:\n",
    "* является номинативным значением,\n",
    "* 8 записей не имеют значений - подставим ближайнее к медианному: 3."
   ]
  },
  {
   "cell_type": "code",
   "execution_count": 66,
   "metadata": {},
   "outputs": [
    {
     "name": "stdout",
     "output_type": "stream",
     "text": [
      "Stats for: freetime\n",
      "Количество записей без значений: 0\n",
      "\n",
      "Распределение значений\n",
      "3.0    140\n",
      "4.0    102\n",
      "2.0     59\n",
      "5.0     35\n",
      "1.0     16\n",
      "Name: freetime, dtype: int64\n",
      "\n",
      "Статистика значений\n",
      "count    352.000000\n",
      "mean       3.230114\n",
      "std        0.993369\n",
      "min        1.000000\n",
      "25%        3.000000\n",
      "50%        3.000000\n",
      "75%        4.000000\n",
      "max        5.000000\n",
      "Name: freetime, dtype: float64\n",
      "\n",
      "Range [low:  1.50, high:  5.50]\n"
     ]
    },
    {
     "data": {
      "image/png": "[encoded data removed]",
      "text/plain": [
       "<Figure size 1008x288 with 2 Axes>"
      ]
     },
     "metadata": {
      "needs_background": "light"
     },
     "output_type": "display_data"
    }
   ],
   "source": [
    "students['freetime'] = students['freetime'].apply(lambda v: 3 if pd.isnull(v) else v)\n",
    "analyze(students, 'freetime')"
   ]
  },
  {
   "cell_type": "markdown",
   "metadata": {},
   "source": [
    "### Анализ `goout`"
   ]
  },
  {
   "cell_type": "code",
   "execution_count": 67,
   "metadata": {},
   "outputs": [
    {
     "name": "stdout",
     "output_type": "stream",
     "text": [
      "Stats for: goout\n",
      "Количество записей без значений: 6\n",
      "\n",
      "Распределение значений\n",
      "3.0    118\n",
      "2.0     92\n",
      "4.0     74\n",
      "5.0     43\n",
      "1.0     19\n",
      "Name: goout, dtype: int64\n",
      "\n",
      "Статистика значений\n",
      "count    346.000000\n",
      "mean       3.086705\n",
      "std        1.091998\n",
      "min        1.000000\n",
      "25%        2.000000\n",
      "50%        3.000000\n",
      "75%        4.000000\n",
      "max        5.000000\n",
      "Name: goout, dtype: float64\n",
      "\n",
      "Range [low: -1.00, high:  7.00]\n"
     ]
    },
    {
     "data": {
      "image/png": "[encoded data removed]",
      "text/plain": [
       "<Figure size 1008x288 with 2 Axes>"
      ]
     },
     "metadata": {
      "needs_background": "light"
     },
     "output_type": "display_data"
    }
   ],
   "source": [
    "analyze(students, 'goout')"
   ]
  },
  {
   "cell_type": "markdown",
   "metadata": {},
   "source": [
    "Имеет нормальное распределение.\n",
    "\n",
    "Вывод:\n",
    "* является номинативным значением,\n",
    "* 6 записей не имеют значений - подставим ближайнее к медианному: 3."
   ]
  },
  {
   "cell_type": "code",
   "execution_count": 68,
   "metadata": {},
   "outputs": [
    {
     "name": "stdout",
     "output_type": "stream",
     "text": [
      "Stats for: goout\n",
      "Количество записей без значений: 0\n",
      "\n",
      "Распределение значений\n",
      "3.0    124\n",
      "2.0     92\n",
      "4.0     74\n",
      "5.0     43\n",
      "1.0     19\n",
      "Name: goout, dtype: int64\n",
      "\n",
      "Статистика значений\n",
      "count    352.000000\n",
      "mean       3.085227\n",
      "std        1.082683\n",
      "min        1.000000\n",
      "25%        2.000000\n",
      "50%        3.000000\n",
      "75%        4.000000\n",
      "max        5.000000\n",
      "Name: goout, dtype: float64\n",
      "\n",
      "Range [low: -1.00, high:  7.00]\n"
     ]
    },
    {
     "data": {
      "image/png": "[encoded data removed]",
      "text/plain": [
       "<Figure size 1008x288 with 2 Axes>"
      ]
     },
     "metadata": {
      "needs_background": "light"
     },
     "output_type": "display_data"
    }
   ],
   "source": [
    "students['goout'] = students['goout'].apply(lambda v: 3 if pd.isnull(v) else v)\n",
    "analyze(students, 'goout')"
   ]
  },
  {
   "cell_type": "markdown",
   "metadata": {},
   "source": [
    "### Анализ `health`"
   ]
  },
  {
   "cell_type": "code",
   "execution_count": 69,
   "metadata": {},
   "outputs": [
    {
     "name": "stdout",
     "output_type": "stream",
     "text": [
      "Stats for: health\n",
      "Количество записей без значений: 13\n",
      "\n",
      "Распределение значений\n",
      "5.0    124\n",
      "3.0     81\n",
      "4.0     53\n",
      "1.0     45\n",
      "2.0     36\n",
      "Name: health, dtype: int64\n",
      "\n",
      "Статистика значений\n",
      "count    339.000000\n",
      "mean       3.516224\n",
      "std        1.412812\n",
      "min        1.000000\n",
      "25%        3.000000\n",
      "50%        4.000000\n",
      "75%        5.000000\n",
      "max        5.000000\n",
      "Name: health, dtype: float64\n",
      "\n",
      "Range [low:  0.00, high:  8.00]\n"
     ]
    },
    {
     "data": {
      "image/png": "[encoded data removed]",
      "text/plain": [
       "<Figure size 1008x288 with 2 Axes>"
      ]
     },
     "metadata": {
      "needs_background": "light"
     },
     "output_type": "display_data"
    }
   ],
   "source": [
    "analyze(students, 'health')"
   ]
  },
  {
   "cell_type": "markdown",
   "metadata": {},
   "source": [
    "Выбросов нет.\n",
    "\n",
    "Вывод:\n",
    "* является номинативным значением,\n",
    "* 13 записей не имеют значений - подставим ближайнее к медианному: 4."
   ]
  },
  {
   "cell_type": "code",
   "execution_count": 70,
   "metadata": {},
   "outputs": [
    {
     "name": "stdout",
     "output_type": "stream",
     "text": [
      "Stats for: health\n",
      "Количество записей без значений: 0\n",
      "\n",
      "Распределение значений\n",
      "5.0    124\n",
      "3.0     81\n",
      "4.0     66\n",
      "1.0     45\n",
      "2.0     36\n",
      "Name: health, dtype: int64\n",
      "\n",
      "Статистика значений\n",
      "count    352.000000\n",
      "mean       3.534091\n",
      "std        1.389409\n",
      "min        1.000000\n",
      "25%        3.000000\n",
      "50%        4.000000\n",
      "75%        5.000000\n",
      "max        5.000000\n",
      "Name: health, dtype: float64\n",
      "\n",
      "Range [low:  0.00, high:  8.00]\n"
     ]
    },
    {
     "data": {
      "image/png": "[encoded data removed]",
      "text/plain": [
       "<Figure size 1008x288 with 2 Axes>"
      ]
     },
     "metadata": {
      "needs_background": "light"
     },
     "output_type": "display_data"
    }
   ],
   "source": [
    "students['health'] = students['health'].apply(lambda v: 4 if pd.isnull(v) else v)\n",
    "analyze(students, 'health')"
   ]
  },
  {
   "cell_type": "markdown",
   "metadata": {},
   "source": [
    "### Анализ `absences`"
   ]
  },
  {
   "cell_type": "code",
   "execution_count": 71,
   "metadata": {},
   "outputs": [
    {
     "name": "stdout",
     "output_type": "stream",
     "text": [
      "Stats for: absences\n",
      "Количество записей без значений: 10\n",
      "\n",
      "Распределение значений\n",
      "0.0      74\n",
      "2.0      60\n",
      "4.0      52\n",
      "6.0      30\n",
      "8.0      20\n",
      "10.0     17\n",
      "12.0     12\n",
      "14.0     12\n",
      "3.0       7\n",
      "16.0      7\n",
      "7.0       6\n",
      "5.0       5\n",
      "18.0      5\n",
      "20.0      4\n",
      "22.0      3\n",
      "9.0       3\n",
      "1.0       3\n",
      "15.0      2\n",
      "13.0      2\n",
      "11.0      2\n",
      "25.0      1\n",
      "54.0      1\n",
      "385.0     1\n",
      "26.0      1\n",
      "56.0      1\n",
      "24.0      1\n",
      "212.0     1\n",
      "21.0      1\n",
      "75.0      1\n",
      "30.0      1\n",
      "19.0      1\n",
      "38.0      1\n",
      "40.0      1\n",
      "23.0      1\n",
      "17.0      1\n",
      "28.0      1\n",
      "Name: absences, dtype: int64\n",
      "\n",
      "Статистика значений\n",
      "count    342.000000\n",
      "mean       8.090643\n",
      "std       24.704600\n",
      "min        0.000000\n",
      "25%        2.000000\n",
      "50%        4.000000\n",
      "75%        8.000000\n",
      "max      385.000000\n",
      "Name: absences, dtype: float64\n",
      "\n",
      "Range [low: -7.00, high: 17.00]\n"
     ]
    },
    {
     "data": {
      "image/png": "[encoded data removed]",
      "text/plain": [
       "<Figure size 1008x288 with 2 Axes>"
      ]
     },
     "metadata": {
      "needs_background": "light"
     },
     "output_type": "display_data"
    }
   ],
   "source": [
    "analyze(students, 'absences')"
   ]
  },
  {
   "cell_type": "markdown",
   "metadata": {},
   "source": [
    "10 записей не имеют значений - подставим ближайнее к медианному: 4."
   ]
  },
  {
   "cell_type": "code",
   "execution_count": 72,
   "metadata": {},
   "outputs": [
    {
     "name": "stdout",
     "output_type": "stream",
     "text": [
      "Stats for: absences\n",
      "Количество записей без значений: 0\n",
      "\n",
      "Распределение значений\n",
      "0.0      74\n",
      "4.0      62\n",
      "2.0      60\n",
      "6.0      30\n",
      "8.0      20\n",
      "10.0     17\n",
      "12.0     12\n",
      "14.0     12\n",
      "3.0       7\n",
      "16.0      7\n",
      "7.0       6\n",
      "5.0       5\n",
      "18.0      5\n",
      "20.0      4\n",
      "22.0      3\n",
      "9.0       3\n",
      "1.0       3\n",
      "15.0      2\n",
      "13.0      2\n",
      "11.0      2\n",
      "25.0      1\n",
      "54.0      1\n",
      "385.0     1\n",
      "26.0      1\n",
      "56.0      1\n",
      "24.0      1\n",
      "212.0     1\n",
      "21.0      1\n",
      "75.0      1\n",
      "30.0      1\n",
      "19.0      1\n",
      "38.0      1\n",
      "40.0      1\n",
      "23.0      1\n",
      "17.0      1\n",
      "28.0      1\n",
      "Name: absences, dtype: int64\n",
      "\n",
      "Статистика значений\n",
      "count    352.000000\n",
      "mean       7.974432\n",
      "std       24.359649\n",
      "min        0.000000\n",
      "25%        2.000000\n",
      "50%        4.000000\n",
      "75%        8.000000\n",
      "max      385.000000\n",
      "Name: absences, dtype: float64\n",
      "\n",
      "Range [low: -7.00, high: 17.00]\n"
     ]
    },
    {
     "data": {
      "image/png": "[encoded data removed]",
      "text/plain": [
       "<Figure size 1008x288 with 2 Axes>"
      ]
     },
     "metadata": {
      "needs_background": "light"
     },
     "output_type": "display_data"
    }
   ],
   "source": [
    "students['absences'] = students['absences'].apply(lambda v: 4 if pd.isnull(v) else v)\n",
    "analyze(students, 'absences')"
   ]
  },
  {
   "cell_type": "markdown",
   "metadata": {},
   "source": [
    "Значения > `200` выделяются слишком сильно. Будем исключать."
   ]
  },
  {
   "cell_type": "code",
   "execution_count": 73,
   "metadata": {},
   "outputs": [
    {
     "data": {
      "text/html": [
       "<div>\n",
       "<style scoped>\n",
       "    .dataframe tbody tr th:only-of-type {\n",
       "        vertical-align: middle;\n",
       "    }\n",
       "\n",
       "    .dataframe tbody tr th {\n",
       "        vertical-align: top;\n",
       "    }\n",
       "\n",
       "    .dataframe thead th {\n",
       "        text-align: right;\n",
       "    }\n",
       "</style>\n",
       "<table border=\"1\" class=\"dataframe\">\n",
       "  <thead>\n",
       "    <tr style=\"text-align: right;\">\n",
       "      <th></th>\n",
       "      <th>school</th>\n",
       "      <th>sex</th>\n",
       "      <th>age</th>\n",
       "      <th>address</th>\n",
       "      <th>famsize</th>\n",
       "      <th>Pstatus</th>\n",
       "      <th>Medu</th>\n",
       "      <th>Fedu</th>\n",
       "      <th>Mjob</th>\n",
       "      <th>Fjob</th>\n",
       "      <th>reason</th>\n",
       "      <th>guardian</th>\n",
       "      <th>traveltime</th>\n",
       "      <th>studytime</th>\n",
       "      <th>failures</th>\n",
       "      <th>schoolsup</th>\n",
       "      <th>famsup</th>\n",
       "      <th>paid</th>\n",
       "      <th>activities</th>\n",
       "      <th>nursery</th>\n",
       "      <th>higher</th>\n",
       "      <th>internet</th>\n",
       "      <th>romantic</th>\n",
       "      <th>famrel</th>\n",
       "      <th>freetime</th>\n",
       "      <th>goout</th>\n",
       "      <th>health</th>\n",
       "      <th>absences</th>\n",
       "      <th>score</th>\n",
       "    </tr>\n",
       "  </thead>\n",
       "  <tbody>\n",
       "    <tr>\n",
       "      <th>222</th>\n",
       "      <td>GP</td>\n",
       "      <td>F</td>\n",
       "      <td>16</td>\n",
       "      <td>U</td>\n",
       "      <td>GT3</td>\n",
       "      <td>T</td>\n",
       "      <td>2.0</td>\n",
       "      <td>3.0</td>\n",
       "      <td>services</td>\n",
       "      <td>teacher</td>\n",
       "      <td>other</td>\n",
       "      <td>mother</td>\n",
       "      <td>1.0</td>\n",
       "      <td>2.0</td>\n",
       "      <td>0.0</td>\n",
       "      <td>True</td>\n",
       "      <td>True</td>\n",
       "      <td>False</td>\n",
       "      <td>False</td>\n",
       "      <td>True</td>\n",
       "      <td>True</td>\n",
       "      <td>True</td>\n",
       "      <td>False</td>\n",
       "      <td>2.0</td>\n",
       "      <td>3.0</td>\n",
       "      <td>1.0</td>\n",
       "      <td>3.0</td>\n",
       "      <td>385.0</td>\n",
       "      <td>85.0</td>\n",
       "    </tr>\n",
       "    <tr>\n",
       "      <th>390</th>\n",
       "      <td>MS</td>\n",
       "      <td>M</td>\n",
       "      <td>20</td>\n",
       "      <td>U</td>\n",
       "      <td>LE3</td>\n",
       "      <td>A</td>\n",
       "      <td>2.0</td>\n",
       "      <td>2.0</td>\n",
       "      <td>services</td>\n",
       "      <td>services</td>\n",
       "      <td>course</td>\n",
       "      <td>mother</td>\n",
       "      <td>1.0</td>\n",
       "      <td>2.0</td>\n",
       "      <td>2.0</td>\n",
       "      <td>False</td>\n",
       "      <td>True</td>\n",
       "      <td>True</td>\n",
       "      <td>False</td>\n",
       "      <td>True</td>\n",
       "      <td>True</td>\n",
       "      <td>False</td>\n",
       "      <td>False</td>\n",
       "      <td>5.0</td>\n",
       "      <td>5.0</td>\n",
       "      <td>4.0</td>\n",
       "      <td>4.0</td>\n",
       "      <td>212.0</td>\n",
       "      <td>45.0</td>\n",
       "    </tr>\n",
       "  </tbody>\n",
       "</table>\n",
       "</div>"
      ],
      "text/plain": [
       "    school sex  age address famsize Pstatus  Medu  Fedu      Mjob      Fjob  \\\n",
       "222     GP   F   16       U     GT3       T   2.0   3.0  services   teacher   \n",
       "390     MS   M   20       U     LE3       A   2.0   2.0  services  services   \n",
       "\n",
       "     reason guardian  traveltime  studytime  failures  schoolsup  famsup  \\\n",
       "222   other   mother         1.0        2.0       0.0       True    True   \n",
       "390  course   mother         1.0        2.0       2.0      False    True   \n",
       "\n",
       "      paid  activities  nursery  higher  internet  romantic  famrel  freetime  \\\n",
       "222  False       False     True    True      True     False     2.0       3.0   \n",
       "390   True       False     True    True     False     False     5.0       5.0   \n",
       "\n",
       "     goout  health  absences  score  \n",
       "222    1.0     3.0     385.0   85.0  \n",
       "390    4.0     4.0     212.0   45.0  "
      ]
     },
     "execution_count": 73,
     "metadata": {},
     "output_type": "execute_result"
    }
   ],
   "source": [
    "students[students['absences'] > 200]"
   ]
  },
  {
   "cell_type": "code",
   "execution_count": 74,
   "metadata": {},
   "outputs": [
    {
     "name": "stdout",
     "output_type": "stream",
     "text": [
      "Stats for: absences\n",
      "Количество записей без значений: 0\n",
      "\n",
      "Распределение значений\n",
      "0.0     74\n",
      "4.0     62\n",
      "2.0     60\n",
      "6.0     30\n",
      "8.0     20\n",
      "10.0    17\n",
      "14.0    12\n",
      "12.0    12\n",
      "3.0      7\n",
      "16.0     7\n",
      "7.0      6\n",
      "5.0      5\n",
      "18.0     5\n",
      "20.0     4\n",
      "1.0      3\n",
      "22.0     3\n",
      "9.0      3\n",
      "15.0     2\n",
      "13.0     2\n",
      "11.0     2\n",
      "54.0     1\n",
      "25.0     1\n",
      "17.0     1\n",
      "26.0     1\n",
      "56.0     1\n",
      "23.0     1\n",
      "28.0     1\n",
      "21.0     1\n",
      "75.0     1\n",
      "30.0     1\n",
      "19.0     1\n",
      "38.0     1\n",
      "40.0     1\n",
      "24.0     1\n",
      "Name: absences, dtype: int64\n",
      "\n",
      "Статистика значений\n",
      "count    350.000000\n",
      "mean       6.314286\n",
      "std        8.213035\n",
      "min        0.000000\n",
      "25%        2.000000\n",
      "50%        4.000000\n",
      "75%        8.000000\n",
      "max       75.000000\n",
      "Name: absences, dtype: float64\n",
      "\n",
      "Range [low: -7.00, high: 17.00]\n"
     ]
    },
    {
     "data": {
      "image/png": "[encoded data removed]",
      "text/plain": [
       "<Figure size 1008x288 with 2 Axes>"
      ]
     },
     "metadata": {
      "needs_background": "light"
     },
     "output_type": "display_data"
    }
   ],
   "source": [
    "students = students[students['absences'] < 200]\n",
    "analyze(students, 'absences')"
   ]
  },
  {
   "cell_type": "markdown",
   "metadata": {},
   "source": [
    "Вывод: является числовым значением."
   ]
  },
  {
   "cell_type": "markdown",
   "metadata": {},
   "source": [
    "# Поиск корреляций"
   ]
  },
  {
   "cell_type": "markdown",
   "metadata": {},
   "source": [
    "Взглянем на данные после всех преобразований."
   ]
  },
  {
   "cell_type": "code",
   "execution_count": 75,
   "metadata": {},
   "outputs": [
    {
     "name": "stdout",
     "output_type": "stream",
     "text": [
      "<class 'pandas.core.frame.DataFrame'>\n",
      "Int64Index: 350 entries, 0 to 394\n",
      "Data columns (total 29 columns):\n",
      " #   Column      Non-Null Count  Dtype  \n",
      "---  ------      --------------  -----  \n",
      " 0   school      350 non-null    object \n",
      " 1   sex         350 non-null    object \n",
      " 2   age         350 non-null    int64  \n",
      " 3   address     350 non-null    object \n",
      " 4   famsize     350 non-null    object \n",
      " 5   Pstatus     350 non-null    object \n",
      " 6   Medu        350 non-null    float64\n",
      " 7   Fedu        350 non-null    float64\n",
      " 8   Mjob        350 non-null    object \n",
      " 9   Fjob        350 non-null    object \n",
      " 10  reason      350 non-null    object \n",
      " 11  guardian    350 non-null    object \n",
      " 12  traveltime  350 non-null    float64\n",
      " 13  studytime   350 non-null    float64\n",
      " 14  failures    350 non-null    float64\n",
      " 15  schoolsup   350 non-null    bool   \n",
      " 16  famsup      350 non-null    bool   \n",
      " 17  paid        350 non-null    bool   \n",
      " 18  activities  350 non-null    bool   \n",
      " 19  nursery     350 non-null    bool   \n",
      " 20  higher      350 non-null    bool   \n",
      " 21  internet    350 non-null    bool   \n",
      " 22  romantic    350 non-null    bool   \n",
      " 23  famrel      350 non-null    float64\n",
      " 24  freetime    350 non-null    float64\n",
      " 25  goout       350 non-null    float64\n",
      " 26  health      350 non-null    float64\n",
      " 27  absences    350 non-null    float64\n",
      " 28  score       350 non-null    float64\n",
      "dtypes: bool(8), float64(11), int64(1), object(9)\n",
      "memory usage: 62.9+ KB\n"
     ]
    }
   ],
   "source": [
    "students.info()"
   ]
  },
  {
   "cell_type": "markdown",
   "metadata": {},
   "source": [
    "Из начальных `395` записей осталось `350`, но теперь без пропусков."
   ]
  },
  {
   "cell_type": "code",
   "execution_count": 76,
   "metadata": {},
   "outputs": [
    {
     "data": {
      "text/plain": [
       "score         1.000000\n",
       "Medu          0.187670\n",
       "studytime     0.140438\n",
       "Fedu          0.129479\n",
       "higher        0.088507\n",
       "activities    0.062609\n",
       "famrel        0.053346\n",
       "internet      0.046865\n",
       "nursery       0.017698\n",
       "paid          0.003806\n",
       "freetime     -0.009728\n",
       "famsup       -0.052959\n",
       "romantic     -0.064995\n",
       "traveltime   -0.071340\n",
       "health       -0.076672\n",
       "age          -0.125073\n",
       "goout        -0.170698\n",
       "absences     -0.214358\n",
       "schoolsup    -0.281055\n",
       "failures     -0.283415\n",
       "Name: score, dtype: float64"
      ]
     },
     "execution_count": 76,
     "metadata": {},
     "output_type": "execute_result"
    }
   ],
   "source": [
    "students.corr()['score'].sort_values(ascending=False)"
   ]
  },
  {
   "cell_type": "markdown",
   "metadata": {},
   "source": [
    "Наибольшая, но не достаточная связанность с `score` наблюдается у\n",
    "* `failures` (обратная),\n",
    "* `schoolsup` (обратная),\n",
    "* `absences` (обратная),\n",
    "* `Medu` (прямая),\n",
    "* `goout` (обратная).\n",
    "\n",
    "Вывод: Оставляем все числовые переменные."
   ]
  },
  {
   "cell_type": "markdown",
   "metadata": {},
   "source": [
    "# Поиска значимых номинативных переменных"
   ]
  },
  {
   "cell_type": "code",
   "execution_count": 77,
   "metadata": {},
   "outputs": [],
   "source": [
    "from itertools import combinations\n",
    "from scipy.stats import ttest_ind\n",
    "\n",
    "def get_stat_diff(df, column_name, m):\n",
    "    top10values = df[column_name].value_counts().index[:10]\n",
    "    all_combinations = list(combinations(top10values, 2))\n",
    "\n",
    "    for pair in all_combinations:\n",
    "        left = df[df[column_name] == pair[0]][m]\n",
    "        right = df[df[column_name] == pair[1]][m]\n",
    "        r = ttest_ind(left, right)\n",
    "        if r.pvalue <= 0.05/len(all_combinations): # Учли поправку Бонферони\n",
    "            print('Найдены статистически значимые различия для колонки \"%s\"' % column_name)\n",
    "            break"
   ]
  },
  {
   "cell_type": "code",
   "execution_count": 78,
   "metadata": {},
   "outputs": [
    {
     "name": "stdout",
     "output_type": "stream",
     "text": [
      "Найдены статистически значимые различия для колонки \"sex\"\n",
      "Найдены статистически значимые различия для колонки \"address\"\n",
      "Найдены статистически значимые различия для колонки \"Mjob\"\n",
      "Найдены статистически значимые различия для колонки \"schoolsup\"\n"
     ]
    }
   ],
   "source": [
    "columns = [\n",
    "    'school',\n",
    "    'sex',\n",
    "    'address',\n",
    "    'famsize',\n",
    "    'Pstatus',\n",
    "    'Mjob',\n",
    "    'Fjob',\n",
    "    'reason',\n",
    "    'guardian',\n",
    "    'schoolsup',\n",
    "    'famsup',\n",
    "    'paid',\n",
    "    'activities',\n",
    "    'nursery',\n",
    "    'higher',\n",
    "    'internet',\n",
    "    'romantic'\n",
    "]\n",
    "\n",
    "for col in columns:\n",
    "    get_stat_diff(students, col, 'score')\n"
   ]
  },
  {
   "cell_type": "markdown",
   "metadata": {},
   "source": [
    "# Выводы"
   ]
  },
  {
   "cell_type": "markdown",
   "metadata": {},
   "source": [
    "Вывод: в построении модели будем использовать **всё** числовые и только следующие номенативные переменные:\n",
    "* `sex`\n",
    "* `address`\n",
    "* `Mjob`\n",
    "* `schoolsup`"
   ]
  },
  {
   "cell_type": "markdown",
   "metadata": {},
   "source": [
    "Исходные данные содержали достаточно много пропущенных значений для номенативных данных которые пришлось заполнять случайными значениями с распределением сходным с распределением существующих значение."
   ]
  }
 ],
 "metadata": {
  "kernelspec": {
   "display_name": "Python 3",
   "language": "python",
   "name": "python3"
  },
  "language_info": {
   "codemirror_mode": {
    "name": "ipython",
    "version": 3
   },
   "file_extension": ".py",
   "mimetype": "text/x-python",
   "name": "python",
   "nbconvert_exporter": "python",
   "pygments_lexer": "ipython3",
   "version": "3.7.6"
  }
 },
 "nbformat": 4,
 "nbformat_minor": 4
}
